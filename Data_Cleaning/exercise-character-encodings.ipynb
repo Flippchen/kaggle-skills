{
 "metadata": {
  "kernelspec": {
   "display_name": "Python 3",
   "language": "python",
   "name": "python3"
  },
  "language_info": {
   "name": "python",
   "version": "3.7.12",
   "mimetype": "text/x-python",
   "codemirror_mode": {
    "name": "ipython",
    "version": 3
   },
   "pygments_lexer": "ipython3",
   "nbconvert_exporter": "python",
   "file_extension": ".py"
  }
 },
 "nbformat_minor": 4,
 "nbformat": 4,
 "cells": [
  {
   "cell_type": "markdown",
   "source": [
    "**This notebook is an exercise in the [Data Cleaning](https://www.kaggle.com/learn/data-cleaning) course.  You can reference the tutorial at [this link](https://www.kaggle.com/alexisbcook/character-encodings).**\n",
    "\n",
    "---\n"
   ],
   "metadata": {}
  },
  {
   "cell_type": "markdown",
   "source": [
    "In this exercise, you'll apply what you learned in the **Character encodings** tutorial.\n",
    "\n",
    "# Setup\n",
    "\n",
    "The questions below will give you feedback on your work. Run the following cell to set up the feedback system."
   ],
   "metadata": {}
  },
  {
   "cell_type": "code",
   "source": [
    "from learntools.core import binder\n",
    "binder.bind(globals())\n",
    "from learntools.data_cleaning.ex4 import *\n",
    "print(\"Setup Complete\")"
   ],
   "metadata": {
    "execution": {
     "iopub.status.busy": "2023-03-09T22:32:17.395645Z",
     "iopub.execute_input": "2023-03-09T22:32:17.396079Z",
     "iopub.status.idle": "2023-03-09T22:32:17.468758Z",
     "shell.execute_reply.started": "2023-03-09T22:32:17.396043Z",
     "shell.execute_reply": "2023-03-09T22:32:17.467379Z"
    },
    "trusted": true
   },
   "execution_count": 4,
   "outputs": [
    {
     "name": "stdout",
     "text": "Setup Complete\n",
     "output_type": "stream"
    }
   ]
  },
  {
   "cell_type": "markdown",
   "source": [
    "# Get our environment set up\n",
    "\n",
    "The first thing we'll need to do is load in the libraries we'll be using."
   ],
   "metadata": {}
  },
  {
   "cell_type": "code",
   "source": [
    "# modules we'll use\n",
    "import pandas as pd\n",
    "import numpy as np\n",
    "\n",
    "# helpful character encoding module\n",
    "import charset_normalizer\n",
    "\n",
    "# set seed for reproducibility\n",
    "np.random.seed(0)"
   ],
   "metadata": {
    "execution": {
     "iopub.status.busy": "2023-03-09T22:32:19.745302Z",
     "iopub.execute_input": "2023-03-09T22:32:19.745737Z",
     "iopub.status.idle": "2023-03-09T22:32:19.751709Z",
     "shell.execute_reply.started": "2023-03-09T22:32:19.745700Z",
     "shell.execute_reply": "2023-03-09T22:32:19.750205Z"
    },
    "trusted": true
   },
   "execution_count": 5,
   "outputs": []
  },
  {
   "cell_type": "markdown",
   "source": [
    "# 1) What are encodings?\n",
    "\n",
    "You're working with a dataset composed of bytes.  Run the code cell below to print a sample entry."
   ],
   "metadata": {}
  },
  {
   "cell_type": "code",
   "source": [
    "sample_entry = b'\\xa7A\\xa6n'\n",
    "print(sample_entry)\n",
    "print('data type:', type(sample_entry))"
   ],
   "metadata": {
    "execution": {
     "iopub.status.busy": "2023-03-09T22:32:21.647947Z",
     "iopub.execute_input": "2023-03-09T22:32:21.648390Z",
     "iopub.status.idle": "2023-03-09T22:32:21.655504Z",
     "shell.execute_reply.started": "2023-03-09T22:32:21.648349Z",
     "shell.execute_reply": "2023-03-09T22:32:21.654038Z"
    },
    "trusted": true
   },
   "execution_count": 6,
   "outputs": [
    {
     "name": "stdout",
     "text": "b'\\xa7A\\xa6n'\ndata type: <class 'bytes'>\n",
     "output_type": "stream"
    }
   ]
  },
  {
   "cell_type": "markdown",
   "source": [
    "You notice that it doesn't use the standard UTF-8 encoding. \n",
    "\n",
    "Use the next code cell to create a variable `new_entry` that changes the encoding from `\"big5-tw\"` to `\"utf-8\"`.  `new_entry` should have the bytes datatype."
   ],
   "metadata": {}
  },
  {
   "cell_type": "code",
   "source": [
    "before = sample_entry.decode(\"big5-tw\")\n",
    "new_entry = before.encode(\"utf-8\")\n",
    "# Check your answer\n",
    "q1.check()"
   ],
   "metadata": {
    "execution": {
     "iopub.status.busy": "2023-03-09T22:33:33.593885Z",
     "iopub.execute_input": "2023-03-09T22:33:33.594365Z",
     "iopub.status.idle": "2023-03-09T22:33:33.606179Z",
     "shell.execute_reply.started": "2023-03-09T22:33:33.594324Z",
     "shell.execute_reply": "2023-03-09T22:33:33.604642Z"
    },
    "trusted": true
   },
   "execution_count": 10,
   "outputs": [
    {
     "output_type": "display_data",
     "data": {
      "text/plain": "<IPython.core.display.Javascript object>",
      "application/javascript": "parent.postMessage({\"jupyterEvent\": \"custom.exercise_interaction\", \"data\": {\"outcomeType\": 1, \"valueTowardsCompletion\": 0.3333333333333333, \"interactionType\": 1, \"questionType\": 1, \"questionId\": \"1_EncodingsIntro\", \"learnToolsVersion\": \"0.3.4\", \"failureMessage\": \"\", \"exceptionClass\": \"\", \"trace\": \"\"}}, \"*\")"
     },
     "metadata": {}
    },
    {
     "output_type": "display_data",
     "data": {
      "text/plain": "Correct",
      "text/markdown": "<span style=\"color:#33cc33\">Correct</span>"
     },
     "metadata": {}
    }
   ]
  },
  {
   "cell_type": "code",
   "source": [
    "# Lines below will give you a hint or solution code\n",
    "#q1.hint()\n",
    "#q1.solution()"
   ],
   "metadata": {
    "execution": {
     "iopub.status.busy": "2023-03-09T22:33:53.684521Z",
     "iopub.execute_input": "2023-03-09T22:33:53.684941Z",
     "iopub.status.idle": "2023-03-09T22:33:53.688750Z",
     "shell.execute_reply.started": "2023-03-09T22:33:53.684904Z",
     "shell.execute_reply": "2023-03-09T22:33:53.687867Z"
    },
    "trusted": true
   },
   "execution_count": 11,
   "outputs": []
  },
  {
   "cell_type": "markdown",
   "source": [
    "# 2) Reading in files with encoding problems\n",
    "\n",
    "Use the code cell below to read in this file at path `\"../input/fatal-police-shootings-in-the-us/PoliceKillingsUS.csv\"`.  \n",
    "\n",
    "Figure out what the correct encoding should be and read in the file to a DataFrame `police_killings`."
   ],
   "metadata": {}
  },
  {
   "cell_type": "code",
   "source": [
    "path = \"../input/fatal-police-shootings-in-the-us/PoliceKillingsUS.csv\""
   ],
   "metadata": {
    "execution": {
     "iopub.status.busy": "2023-03-09T22:35:13.949408Z",
     "iopub.execute_input": "2023-03-09T22:35:13.949892Z",
     "iopub.status.idle": "2023-03-09T22:35:13.955753Z",
     "shell.execute_reply.started": "2023-03-09T22:35:13.949853Z",
     "shell.execute_reply": "2023-03-09T22:35:13.954299Z"
    },
    "trusted": true
   },
   "execution_count": 15,
   "outputs": []
  },
  {
   "cell_type": "code",
   "source": [
    "with open(path, 'rb') as rawdata:\n",
    "    result = charset_normalizer.detect(rawdata.read(1000000000))\n",
    "\n",
    "print(result)"
   ],
   "metadata": {
    "execution": {
     "iopub.status.busy": "2023-03-09T22:36:29.822738Z",
     "iopub.execute_input": "2023-03-09T22:36:29.824474Z",
     "iopub.status.idle": "2023-03-09T22:36:30.435717Z",
     "shell.execute_reply.started": "2023-03-09T22:36:29.824389Z",
     "shell.execute_reply": "2023-03-09T22:36:30.434262Z"
    },
    "trusted": true
   },
   "execution_count": 20,
   "outputs": [
    {
     "name": "stdout",
     "text": "{'encoding': 'windows-1250', 'language': 'English', 'confidence': 1.0}\n",
     "output_type": "stream"
    }
   ]
  },
  {
   "cell_type": "code",
   "source": [
    "# TODO: Load in the DataFrame correctly.\n",
    "\n",
    "\n",
    "police_killings = pd.read_csv(path, encoding=\"windows-1250\")\n",
    "\n",
    "# Check your answer\n",
    "q2.check()"
   ],
   "metadata": {
    "execution": {
     "iopub.status.busy": "2023-03-09T22:36:43.552838Z",
     "iopub.execute_input": "2023-03-09T22:36:43.553270Z",
     "iopub.status.idle": "2023-03-09T22:36:43.580768Z",
     "shell.execute_reply.started": "2023-03-09T22:36:43.553232Z",
     "shell.execute_reply": "2023-03-09T22:36:43.579201Z"
    },
    "trusted": true
   },
   "execution_count": 22,
   "outputs": [
    {
     "output_type": "display_data",
     "data": {
      "text/plain": "<IPython.core.display.Javascript object>",
      "application/javascript": "parent.postMessage({\"jupyterEvent\": \"custom.exercise_interaction\", \"data\": {\"outcomeType\": 1, \"valueTowardsCompletion\": 0.3333333333333333, \"interactionType\": 1, \"questionType\": 1, \"questionId\": \"2_ReadIn\", \"learnToolsVersion\": \"0.3.4\", \"failureMessage\": \"\", \"exceptionClass\": \"\", \"trace\": \"\"}}, \"*\")"
     },
     "metadata": {}
    },
    {
     "output_type": "display_data",
     "data": {
      "text/plain": "Correct",
      "text/markdown": "<span style=\"color:#33cc33\">Correct</span>"
     },
     "metadata": {}
    }
   ]
  },
  {
   "cell_type": "markdown",
   "source": [
    "Feel free to use any additional code cells for supplemental work.  To get credit for finishing this question, you'll need to run `q2.check()` and get a result of **Correct**."
   ],
   "metadata": {}
  },
  {
   "cell_type": "code",
   "source": [
    "#(Optional) Use this code cell for any additional work."
   ],
   "metadata": {},
   "execution_count": null,
   "outputs": []
  },
  {
   "cell_type": "code",
   "source": [
    "# Lines below will give you a hint or solution code\n",
    "#q2.hint()\n",
    "#q2.solution()"
   ],
   "metadata": {
    "execution": {
     "iopub.status.busy": "2023-03-09T22:36:36.275883Z",
     "iopub.execute_input": "2023-03-09T22:36:36.276814Z",
     "iopub.status.idle": "2023-03-09T22:36:36.282131Z",
     "shell.execute_reply.started": "2023-03-09T22:36:36.276764Z",
     "shell.execute_reply": "2023-03-09T22:36:36.280950Z"
    },
    "trusted": true
   },
   "execution_count": 21,
   "outputs": []
  },
  {
   "cell_type": "markdown",
   "source": [
    "# 3) Saving your files with UTF-8 encoding\n",
    "\n",
    "Save a version of the police killings dataset to CSV with UTF-8 encoding.  Your answer will be marked correct after saving this file.  \n",
    "\n",
    "Note: When using the `to_csv()` method, supply only the name of the file (e.g., `\"my_file.csv\"`).  This saves the file at the filepath `\"/kaggle/working/my_file.csv\"`."
   ],
   "metadata": {}
  },
  {
   "cell_type": "code",
   "source": [
    "# TODO: Save the police killings dataset to CSV\n",
    "police_killings.to_csv(\"my_file.csv\")\n",
    "\n",
    "# Check your answer\n",
    "q3.check()"
   ],
   "metadata": {
    "execution": {
     "iopub.status.busy": "2023-03-09T22:37:34.249611Z",
     "iopub.execute_input": "2023-03-09T22:37:34.250051Z",
     "iopub.status.idle": "2023-03-09T22:37:34.288502Z",
     "shell.execute_reply.started": "2023-03-09T22:37:34.250014Z",
     "shell.execute_reply": "2023-03-09T22:37:34.287320Z"
    },
    "trusted": true
   },
   "execution_count": 23,
   "outputs": [
    {
     "output_type": "display_data",
     "data": {
      "text/plain": "<IPython.core.display.Javascript object>",
      "application/javascript": "parent.postMessage({\"jupyterEvent\": \"custom.exercise_interaction\", \"data\": {\"outcomeType\": 1, \"valueTowardsCompletion\": 0.3333333333333333, \"interactionType\": 1, \"questionType\": 2, \"questionId\": \"3_SaveCSV\", \"learnToolsVersion\": \"0.3.4\", \"failureMessage\": \"\", \"exceptionClass\": \"\", \"trace\": \"\"}}, \"*\")"
     },
     "metadata": {}
    },
    {
     "output_type": "display_data",
     "data": {
      "text/plain": "Correct",
      "text/markdown": "<span style=\"color:#33cc33\">Correct</span>"
     },
     "metadata": {}
    }
   ]
  },
  {
   "cell_type": "code",
   "source": [
    "# Lines below will give you a hint or solution code\n",
    "#q3.hint()\n",
    "#q3.solution()"
   ],
   "metadata": {},
   "execution_count": null,
   "outputs": []
  },
  {
   "cell_type": "markdown",
   "source": [
    "# (Optional) More practice\n",
    "\n",
    "Check out [this dataset of files in different character encodings](https://www.kaggle.com/rtatman/character-encoding-examples). Can you read in all the files with their original encodings and them save them out as UTF-8 files?\n",
    "\n",
    "If you have a file that's in UTF-8 but has just a couple of weird-looking characters in it, you can try out the [ftfy module](https://ftfy.readthedocs.io/en/latest/#) and see if it helps. \n",
    "\n",
    "# Keep going\n",
    "\n",
    "In the final lesson, learn how to [**clean up inconsistent text entries**](https://www.kaggle.com/alexisbcook/inconsistent-data-entry) in your dataset."
   ],
   "metadata": {}
  },
  {
   "cell_type": "markdown",
   "source": [
    "---\n",
    "\n",
    "\n",
    "\n",
    "\n",
    "*Have questions or comments? Visit the [course discussion forum](https://www.kaggle.com/learn/data-cleaning/discussion) to chat with other learners.*"
   ],
   "metadata": {}
  }
 ]
}
