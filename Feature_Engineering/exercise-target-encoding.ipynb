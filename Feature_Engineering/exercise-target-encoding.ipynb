{
 "metadata": {
  "jupytext": {
   "cell_metadata_filter": "-all",
   "formats": "ipynb"
  },
  "kernelspec": {
   "display_name": "Python 3",
   "language": "python",
   "name": "python3"
  },
  "language_info": {
   "name": "python",
   "version": "3.7.12",
   "mimetype": "text/x-python",
   "codemirror_mode": {
    "name": "ipython",
    "version": 3
   },
   "pygments_lexer": "ipython3",
   "nbconvert_exporter": "python",
   "file_extension": ".py"
  }
 },
 "nbformat_minor": 4,
 "nbformat": 4,
 "cells": [
  {
   "cell_type": "markdown",
   "source": "**This notebook is an exercise in the [Feature Engineering](https://www.kaggle.com/learn/feature-engineering) course.  You can reference the tutorial at [this link](https://www.kaggle.com/ryanholbrook/target-encoding).**\n\n---\n",
   "metadata": {}
  },
  {
   "cell_type": "markdown",
   "source": "# Introduction #\n\nIn this exercise, you'll apply target encoding to features in the [*Ames*](https://www.kaggle.com/c/house-prices-advanced-regression-techniques/data) dataset.\n\nRun this cell to set everything up!",
   "metadata": {}
  },
  {
   "cell_type": "code",
   "source": "# Setup feedback system\nfrom learntools.core import binder\nbinder.bind(globals())\nfrom learntools.feature_engineering_new.ex6 import *\n\nimport matplotlib.pyplot as plt\nimport numpy as np\nimport pandas as pd\nimport seaborn as sns\nimport warnings\nfrom category_encoders import MEstimateEncoder\nfrom sklearn.model_selection import cross_val_score\nfrom xgboost import XGBRegressor\n\n# Set Matplotlib defaults\nplt.style.use(\"seaborn-whitegrid\")\nplt.rc(\"figure\", autolayout=True)\nplt.rc(\n    \"axes\",\n    labelweight=\"bold\",\n    labelsize=\"large\",\n    titleweight=\"bold\",\n    titlesize=14,\n    titlepad=10,\n)\nwarnings.filterwarnings('ignore')\n\n\ndef score_dataset(X, y, model=XGBRegressor()):\n    # Label encoding for categoricals\n    for colname in X.select_dtypes([\"category\", \"object\"]):\n        X[colname], _ = X[colname].factorize()\n    # Metric for Housing competition is RMSLE (Root Mean Squared Log Error)\n    score = cross_val_score(\n        model, X, y, cv=5, scoring=\"neg_mean_squared_log_error\",\n    )\n    score = -1 * score.mean()\n    score = np.sqrt(score)\n    return score\n\n\ndf = pd.read_csv(\"../input/fe-course-data/ames.csv\")",
   "metadata": {
    "execution": {
     "iopub.status.busy": "2023-02-19T20:41:42.914666Z",
     "iopub.execute_input": "2023-02-19T20:41:42.915439Z",
     "iopub.status.idle": "2023-02-19T20:41:44.483296Z",
     "shell.execute_reply.started": "2023-02-19T20:41:42.915346Z",
     "shell.execute_reply": "2023-02-19T20:41:44.482200Z"
    },
    "trusted": true
   },
   "execution_count": 1,
   "outputs": []
  },
  {
   "cell_type": "markdown",
   "source": "-------------------------------------------------------------------------------\n\nFirst you'll need to choose which features you want to apply a target encoding to. Categorical features with a large number of categories are often good candidates. Run this cell to see how many categories each categorical feature in the *Ames* dataset has.",
   "metadata": {}
  },
  {
   "cell_type": "code",
   "source": "df.select_dtypes([\"object\"]).nunique().sort_values(ascending=False)",
   "metadata": {
    "execution": {
     "iopub.status.busy": "2023-02-19T20:50:22.223627Z",
     "iopub.execute_input": "2023-02-19T20:50:22.224552Z",
     "iopub.status.idle": "2023-02-19T20:50:22.253134Z",
     "shell.execute_reply.started": "2023-02-19T20:50:22.224512Z",
     "shell.execute_reply": "2023-02-19T20:50:22.251976Z"
    },
    "trusted": true
   },
   "execution_count": 6,
   "outputs": [
    {
     "execution_count": 6,
     "output_type": "execute_result",
     "data": {
      "text/plain": "Neighborhood     28\nExterior2nd      17\nMSSubClass       16\nExterior1st      16\nOverallQual      10\nSaleType         10\nCondition1        9\nOverallCond       9\nRoofMatl          8\nFunctional        8\nCondition2        8\nHouseStyle        8\nBsmtFinType1      7\nBsmtFinType2      7\nMSZoning          7\nGarageType        7\nBsmtQual          6\nHeating           6\nFireplaceQu       6\nGarageQual        6\nGarageCond        6\nMiscFeature       6\nBsmtCond          6\nElectrical        6\nFoundation        6\nSaleCondition     6\nRoofStyle         6\nBldgType          5\nFence             5\nPoolQC            5\nBsmtExposure      5\nKitchenQual       5\nExterCond         5\nHeatingQC         5\nMasVnrType        5\nLotConfig         5\nGarageFinish      4\nLandContour       4\nLotShape          4\nExterQual         4\nLandSlope         3\nUtilities         3\nPavedDrive        3\nAlley             3\nCentralAir        2\nStreet            2\ndtype: int64"
     },
     "metadata": {}
    }
   ]
  },
  {
   "cell_type": "markdown",
   "source": "We talked about how the M-estimate encoding uses smoothing to improve estimates for rare categories. To see how many times a category occurs in the dataset, you can use the `value_counts` method. This cell shows the counts for `SaleType`, but you might want to consider others as well.",
   "metadata": {}
  },
  {
   "cell_type": "code",
   "source": "df[\"SaleType\"].value_counts()",
   "metadata": {
    "execution": {
     "iopub.status.busy": "2023-02-19T20:50:41.377852Z",
     "iopub.execute_input": "2023-02-19T20:50:41.378736Z",
     "iopub.status.idle": "2023-02-19T20:50:41.390047Z",
     "shell.execute_reply.started": "2023-02-19T20:50:41.378679Z",
     "shell.execute_reply": "2023-02-19T20:50:41.388991Z"
    },
    "trusted": true
   },
   "execution_count": 7,
   "outputs": [
    {
     "execution_count": 7,
     "output_type": "execute_result",
     "data": {
      "text/plain": "WD       2536\nNew       239\nCOD        87\nConLD      26\nCWD        12\nConLI       9\nConLw       8\nOth         7\nCon         5\nVWD         1\nName: SaleType, dtype: int64"
     },
     "metadata": {}
    }
   ]
  },
  {
   "cell_type": "markdown",
   "source": "# 1) Choose Features for Encoding\n\nWhich features did you identify for target encoding? After you've thought about your answer, run the next cell for some discussion.",
   "metadata": {}
  },
  {
   "cell_type": "code",
   "source": "# View the solution (Run this cell to receive credit!)\nq_1.check()",
   "metadata": {
    "execution": {
     "iopub.status.busy": "2023-02-19T20:51:23.448221Z",
     "iopub.execute_input": "2023-02-19T20:51:23.448617Z",
     "iopub.status.idle": "2023-02-19T20:51:23.456679Z",
     "shell.execute_reply.started": "2023-02-19T20:51:23.448584Z",
     "shell.execute_reply": "2023-02-19T20:51:23.455891Z"
    },
    "trusted": true
   },
   "execution_count": 8,
   "outputs": [
    {
     "output_type": "display_data",
     "data": {
      "text/plain": "<IPython.core.display.Javascript object>",
      "application/javascript": "parent.postMessage({\"jupyterEvent\": \"custom.exercise_interaction\", \"data\": {\"outcomeType\": 1, \"valueTowardsCompletion\": 0.3333333333333333, \"interactionType\": 1, \"questionType\": 4, \"questionId\": \"1_Q1\", \"learnToolsVersion\": \"0.3.4\", \"failureMessage\": \"\", \"exceptionClass\": \"\", \"trace\": \"\"}}, \"*\")"
     },
     "metadata": {}
    },
    {
     "output_type": "display_data",
     "data": {
      "text/plain": "Correct: \n\n The `Neighborhood` feature looks promising. It has the most categories of any feature, and several categories are rare. Others that could be worth considering are `SaleType`, `MSSubClass`, `Exterior1st`, `Exterior2nd`. In fact, almost any of the nominal features would be worth trying because of the prevalence of rare categories.",
      "text/markdown": "<span style=\"color:#33cc33\">Correct:</span> \n\n The `Neighborhood` feature looks promising. It has the most categories of any feature, and several categories are rare. Others that could be worth considering are `SaleType`, `MSSubClass`, `Exterior1st`, `Exterior2nd`. In fact, almost any of the nominal features would be worth trying because of the prevalence of rare categories."
     },
     "metadata": {}
    }
   ]
  },
  {
   "cell_type": "markdown",
   "source": "-------------------------------------------------------------------------------\n\nNow you'll apply a target encoding to your choice of feature. As we discussed in the tutorial, to avoid overfitting, we need to fit the encoder on data heldout from the training set. Run this cell to create the encoding and training splits:",
   "metadata": {}
  },
  {
   "cell_type": "code",
   "source": "# Encoding split\nX_encode = df.sample(frac=0.20, random_state=0)\ny_encode = X_encode.pop(\"SalePrice\")\n\n# Training split\nX_pretrain = df.drop(X_encode.index)\ny_train = X_pretrain.pop(\"SalePrice\")",
   "metadata": {
    "lines_to_next_cell": 2,
    "execution": {
     "iopub.status.busy": "2023-02-19T20:51:56.540196Z",
     "iopub.execute_input": "2023-02-19T20:51:56.540593Z",
     "iopub.status.idle": "2023-02-19T20:51:56.555349Z",
     "shell.execute_reply.started": "2023-02-19T20:51:56.540563Z",
     "shell.execute_reply": "2023-02-19T20:51:56.554215Z"
    },
    "trusted": true
   },
   "execution_count": 9,
   "outputs": []
  },
  {
   "cell_type": "markdown",
   "source": "# 2) Apply M-Estimate Encoding\n\nApply a target encoding to your choice of categorical features. Also choose a value for the smoothing parameter `m` (any value is okay for a correct answer).",
   "metadata": {}
  },
  {
   "cell_type": "code",
   "source": "# YOUR CODE HERE: Create the MEstimateEncoder\n# Choose a set of features to encode and a value for m\nencoder = MEstimateEncoder(cols=[\"Neighborhood\"], m=5.0)\n\n\n# Fit the encoder on the encoding split\nencoder.fit(X_encode, y_encode)\n\n# Encode the training split\nX_train = encoder.transform(X_pretrain, y_train)\n\n\n# Check your answer\nq_2.check()",
   "metadata": {
    "lines_to_next_cell": 0,
    "execution": {
     "iopub.status.busy": "2023-02-19T20:52:57.548599Z",
     "iopub.execute_input": "2023-02-19T20:52:57.549036Z",
     "iopub.status.idle": "2023-02-19T20:52:57.629695Z",
     "shell.execute_reply.started": "2023-02-19T20:52:57.549004Z",
     "shell.execute_reply": "2023-02-19T20:52:57.628256Z"
    },
    "trusted": true
   },
   "execution_count": 10,
   "outputs": [
    {
     "output_type": "display_data",
     "data": {
      "text/plain": "<IPython.core.display.Javascript object>",
      "application/javascript": "parent.postMessage({\"jupyterEvent\": \"custom.exercise_interaction\", \"data\": {\"outcomeType\": 1, \"valueTowardsCompletion\": 0.3333333333333333, \"interactionType\": 1, \"questionType\": 2, \"questionId\": \"2_Q2\", \"learnToolsVersion\": \"0.3.4\", \"failureMessage\": \"\", \"exceptionClass\": \"\", \"trace\": \"\"}}, \"*\")"
     },
     "metadata": {}
    },
    {
     "output_type": "display_data",
     "data": {
      "text/plain": "Correct",
      "text/markdown": "<span style=\"color:#33cc33\">Correct</span>"
     },
     "metadata": {}
    }
   ]
  },
  {
   "cell_type": "code",
   "source": "# Lines below will give you a hint or solution code\n#q_2.hint()\n#q_2.solution()",
   "metadata": {
    "lines_to_next_cell": 0
   },
   "execution_count": null,
   "outputs": []
  },
  {
   "cell_type": "markdown",
   "source": "If you'd like to see how the encoded feature compares to the target, you can run this cell:",
   "metadata": {}
  },
  {
   "cell_type": "code",
   "source": "feature = encoder.cols\n\nplt.figure(dpi=90)\nax = sns.distplot(y_train, kde=True, hist=False)\nax = sns.distplot(X_train[feature], color='r', ax=ax, hist=True, kde=False, norm_hist=True)\nax.set_xlabel(\"SalePrice\");",
   "metadata": {
    "execution": {
     "iopub.status.busy": "2023-02-19T20:53:03.501862Z",
     "iopub.execute_input": "2023-02-19T20:53:03.502281Z",
     "iopub.status.idle": "2023-02-19T20:53:03.903594Z",
     "shell.execute_reply.started": "2023-02-19T20:53:03.502248Z",
     "shell.execute_reply": "2023-02-19T20:53:03.902453Z"
    },
    "trusted": true
   },
   "execution_count": 11,
   "outputs": [
    {
     "output_type": "display_data",
     "data": {
      "text/plain": "<Figure size 576x432 with 1 Axes>",
      "image/png": "[encoded data removed]"
     },
     "metadata": {}
    }
   ]
  },
  {
   "cell_type": "markdown",
   "source": "From the distribution plots, does it seem like the encoding is informative?\n\nAnd this cell will show you the score of the encoded set compared to the original set:",
   "metadata": {}
  },
  {
   "cell_type": "code",
   "source": "X = df.copy()\ny = X.pop(\"SalePrice\")\nscore_base = score_dataset(X, y)\nscore_new = score_dataset(X_train, y_train)\n\nprint(f\"Baseline Score: {score_base:.4f} RMSLE\")\nprint(f\"Score with Encoding: {score_new:.4f} RMSLE\")",
   "metadata": {
    "execution": {
     "iopub.status.busy": "2023-02-19T20:53:33.804257Z",
     "iopub.execute_input": "2023-02-19T20:53:33.804669Z",
     "iopub.status.idle": "2023-02-19T20:53:41.500401Z",
     "shell.execute_reply.started": "2023-02-19T20:53:33.804624Z",
     "shell.execute_reply": "2023-02-19T20:53:41.499542Z"
    },
    "trusted": true
   },
   "execution_count": 12,
   "outputs": [
    {
     "name": "stdout",
     "text": "Baseline Score: 0.1428 RMSLE\nScore with Encoding: 0.1383 RMSLE\n",
     "output_type": "stream"
    }
   ]
  },
  {
   "cell_type": "markdown",
   "source": "Do you think that target encoding was worthwhile in this case? Depending on which feature or features you chose, you may have ended up with a score significantly worse than the baseline. In that case, it's likely the extra information gained by the encoding couldn't make up for the loss of data used for the encoding.",
   "metadata": {}
  },
  {
   "cell_type": "markdown",
   "source": "-------------------------------------------------------------------------------\n\nIn this question, you'll explore the problem of overfitting with target encodings. This will illustrate this importance of training fitting target encoders on data held-out from the training set.\n\nSo let's see what happens when we fit the encoder and the model on the *same* dataset. To emphasize how dramatic the overfitting can be, we'll mean-encode a feature that should have no relationship with `SalePrice`, a count: `0, 1, 2, 3, 4, 5, ...`.",
   "metadata": {}
  },
  {
   "cell_type": "code",
   "source": "# Try experimenting with the smoothing parameter m\n# Try 0, 1, 5, 50\nm = 69\n\nX = df.copy()\ny = X.pop('SalePrice')\n\n# Create an uninformative feature\nX[\"Count\"] = range(len(X))\nX[\"Count\"][1] = 0  # actually need one duplicate value to circumvent error-checking in MEstimateEncoder\n\n# fit and transform on the same dataset\nencoder = MEstimateEncoder(cols=\"Count\", m=m)\nX = encoder.fit_transform(X, y)\n\n# Results\nscore =  score_dataset(X, y)\nprint(f\"Score: {score:.4f} RMSLE\")",
   "metadata": {
    "execution": {
     "iopub.status.busy": "2023-02-19T20:55:01.588102Z",
     "iopub.execute_input": "2023-02-19T20:55:01.588485Z",
     "iopub.status.idle": "2023-02-19T20:55:05.738915Z",
     "shell.execute_reply.started": "2023-02-19T20:55:01.588455Z",
     "shell.execute_reply": "2023-02-19T20:55:05.737945Z"
    },
    "trusted": true
   },
   "execution_count": 15,
   "outputs": [
    {
     "name": "stdout",
     "text": "Score: 0.0302 RMSLE\n",
     "output_type": "stream"
    }
   ]
  },
  {
   "cell_type": "markdown",
   "source": "Almost a perfect score!",
   "metadata": {}
  },
  {
   "cell_type": "code",
   "source": "plt.figure(dpi=90)\nax = sns.distplot(y, kde=True, hist=False)\nax = sns.distplot(X[\"Count\"], color='r', ax=ax, hist=True, kde=False, norm_hist=True)\nax.set_xlabel(\"SalePrice\");",
   "metadata": {
    "execution": {
     "iopub.status.busy": "2023-02-19T20:55:08.956139Z",
     "iopub.execute_input": "2023-02-19T20:55:08.957195Z",
     "iopub.status.idle": "2023-02-19T20:55:09.392097Z",
     "shell.execute_reply.started": "2023-02-19T20:55:08.957153Z",
     "shell.execute_reply": "2023-02-19T20:55:09.390835Z"
    },
    "trusted": true
   },
   "execution_count": 16,
   "outputs": [
    {
     "output_type": "display_data",
     "data": {
      "text/plain": "<Figure size 576x432 with 1 Axes>",
      "image/png": "[encoded data removed]"
     },
     "metadata": {}
    }
   ]
  },
  {
   "cell_type": "markdown",
   "source": "And the distributions are almost exactly the same, too.\n\n# 3) Overfitting with Target Encoders\n\nBased on your understanding of how mean-encoding works, can you explain how XGBoost was able to get an almost a perfect fit after mean-encoding the count feature?",
   "metadata": {}
  },
  {
   "cell_type": "code",
   "source": "# View the solution (Run this cell to receive credit!)\nq_3.check()",
   "metadata": {
    "lines_to_next_cell": 0,
    "execution": {
     "iopub.status.busy": "2023-02-19T20:55:23.098153Z",
     "iopub.execute_input": "2023-02-19T20:55:23.098557Z",
     "iopub.status.idle": "2023-02-19T20:55:23.107450Z",
     "shell.execute_reply.started": "2023-02-19T20:55:23.098524Z",
     "shell.execute_reply": "2023-02-19T20:55:23.106376Z"
    },
    "trusted": true
   },
   "execution_count": 17,
   "outputs": [
    {
     "output_type": "display_data",
     "data": {
      "text/plain": "<IPython.core.display.Javascript object>",
      "application/javascript": "parent.postMessage({\"jupyterEvent\": \"custom.exercise_interaction\", \"data\": {\"outcomeType\": 1, \"valueTowardsCompletion\": 0.3333333333333333, \"interactionType\": 1, \"questionType\": 4, \"questionId\": \"3_Q3\", \"learnToolsVersion\": \"0.3.4\", \"failureMessage\": \"\", \"exceptionClass\": \"\", \"trace\": \"\"}}, \"*\")"
     },
     "metadata": {}
    },
    {
     "output_type": "display_data",
     "data": {
      "text/plain": "Correct: \n\n\nSince `Count` never has any duplicate values, the mean-encoded `Count` is essentially an exact copy of the target. In other words, mean-encoding turned a completely meaningless feature into a perfect feature.\n\nNow, the only reason this worked is because we trained XGBoost on the same set we used to train the encoder. If we had used a hold-out set instead, none of this \"fake\" encoding would have transferred to the training data.\n\nThe lesson is that when using a target encoder it's very important to use separate data sets for training the encoder and training the model. Otherwise the results can be very disappointing!",
      "text/markdown": "<span style=\"color:#33cc33\">Correct:</span> \n\n\nSince `Count` never has any duplicate values, the mean-encoded `Count` is essentially an exact copy of the target. In other words, mean-encoding turned a completely meaningless feature into a perfect feature.\n\nNow, the only reason this worked is because we trained XGBoost on the same set we used to train the encoder. If we had used a hold-out set instead, none of this \"fake\" encoding would have transferred to the training data.\n\nThe lesson is that when using a target encoder it's very important to use separate data sets for training the encoder and training the model. Otherwise the results can be very disappointing!\n"
     },
     "metadata": {}
    }
   ]
  },
  {
   "cell_type": "code",
   "source": "# Uncomment this if you'd like a hint before seeing the answer\n#q_3.hint()",
   "metadata": {},
   "execution_count": null,
   "outputs": []
  },
  {
   "cell_type": "markdown",
   "source": "# The End #\n\nThat's it for *Feature Engineering*! We hope you enjoyed your time with us.\n\nNow, are you ready to try out your new skills? Now would be a great time to join our [Housing Prices](https://www.kaggle.com/c/house-prices-advanced-regression-techniques) Getting Started competition. We've even prepared a [Bonus Lesson](https://www.kaggle.com/ryanholbrook/feature-engineering-for-house-prices) that collects all the work we've done together into a starter notebook.\n\n# References #\nHere are some great resources you might like to consult for more information. They all played a part in shaping this course:\n- *The Art of Feature Engineering*, a book by Pablo Duboue.\n- *An Empirical Analysis of Feature Engineering for Predictive Modeling*, an article by Jeff Heaton.\n- *Feature Engineering for Machine Learning*, a book by Alice Zheng and Amanda Casari. The tutorial on clustering was inspired by this excellent book.\n- *Feature Engineering and Selection*, a book by Max Kuhn and Kjell Johnson.",
   "metadata": {}
  },
  {
   "cell_type": "markdown",
   "source": "---\n\n\n\n\n*Have questions or comments? Visit the [course discussion forum](https://www.kaggle.com/learn/feature-engineering/discussion) to chat with other learners.*",
   "metadata": {}
  }
 ]
}
