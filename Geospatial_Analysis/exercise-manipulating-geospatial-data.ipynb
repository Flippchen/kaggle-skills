{
 "metadata": {
  "kernelspec": {
   "display_name": "Python 3",
   "language": "python",
   "name": "python3"
  },
  "language_info": {
   "name": "python",
   "version": "3.7.12",
   "mimetype": "text/x-python",
   "codemirror_mode": {
    "name": "ipython",
    "version": 3
   },
   "pygments_lexer": "ipython3",
   "nbconvert_exporter": "python",
   "file_extension": ".py"
  }
 },
 "nbformat_minor": 4,
 "nbformat": 4,
 "cells": [
  {
   "cell_type": "markdown",
   "source": "**This notebook is an exercise in the [Geospatial Analysis](https://www.kaggle.com/learn/geospatial-analysis) course.  You can reference the tutorial at [this link](https://www.kaggle.com/alexisbcook/manipulating-geospatial-data).**\n\n---\n",
   "metadata": {}
  },
  {
   "cell_type": "markdown",
   "source": "# Introduction\n\nYou are a Starbucks big data analyst ([that’s a real job!](https://www.forbes.com/sites/bernardmarr/2018/05/28/starbucks-using-big-data-analytics-and-artificial-intelligence-to-boost-performance/#130c7d765cdc)) looking to find the next store into a [Starbucks Reserve Roastery](https://www.businessinsider.com/starbucks-reserve-roastery-compared-regular-starbucks-2018-12#also-on-the-first-floor-was-the-main-coffee-bar-five-hourglass-like-units-hold-the-freshly-roasted-coffee-beans-that-are-used-in-each-order-the-selection-rotates-seasonally-5).  These roasteries are much larger than a typical Starbucks store and have several additional features, including various food and wine options, along with upscale lounge areas.  You'll investigate the demographics of various counties in the state of California, to determine potentially suitable locations.\n\n<center>\n<img src=\"https://i.imgur.com/BIyE6kR.png\" width=\"450\"><br/><br/>\n</center>\n\nBefore you get started, run the code cell below to set everything up.",
   "metadata": {}
  },
  {
   "cell_type": "code",
   "source": "import math\nimport pandas as pd\nimport geopandas as gpd\n#from geopy.geocoders import Nominatim            # What you'd normally run\nfrom learntools.geospatial.tools import Nominatim # Just for this exercise\n\nimport folium \nfrom folium import Marker\nfrom folium.plugins import MarkerCluster\n\nfrom learntools.core import binder\nbinder.bind(globals())\nfrom learntools.geospatial.ex4 import *",
   "metadata": {
    "execution": {
     "iopub.status.busy": "2023-03-13T16:25:04.196981Z",
     "iopub.execute_input": "2023-03-13T16:25:04.197360Z",
     "iopub.status.idle": "2023-03-13T16:25:06.250628Z",
     "shell.execute_reply.started": "2023-03-13T16:25:04.197324Z",
     "shell.execute_reply": "2023-03-13T16:25:06.249621Z"
    },
    "trusted": true
   },
   "execution_count": 1,
   "outputs": [
    {
     "name": "stderr",
     "text": "/opt/conda/lib/python3.7/site-packages/geopandas/_compat.py:115: UserWarning: The Shapely GEOS version (3.9.1-CAPI-1.14.2) is incompatible with the GEOS version PyGEOS was compiled with (3.10.4-CAPI-1.16.2). Conversions between both will be slow.\n  shapely_geos_version, geos_capi_version_string\n",
     "output_type": "stream"
    }
   ]
  },
  {
   "cell_type": "markdown",
   "source": "You'll use the `embed_map()` function from the previous exercise to visualize your maps.",
   "metadata": {}
  },
  {
   "cell_type": "code",
   "source": "def embed_map(m, file_name):\n    from IPython.display import IFrame\n    m.save(file_name)\n    return IFrame(file_name, width='100%', height='500px')",
   "metadata": {
    "execution": {
     "iopub.status.busy": "2023-03-13T16:26:50.840871Z",
     "iopub.execute_input": "2023-03-13T16:26:50.841274Z",
     "iopub.status.idle": "2023-03-13T16:26:50.846624Z",
     "shell.execute_reply.started": "2023-03-13T16:26:50.841238Z",
     "shell.execute_reply": "2023-03-13T16:26:50.845715Z"
    },
    "trusted": true
   },
   "execution_count": 2,
   "outputs": []
  },
  {
   "cell_type": "markdown",
   "source": "# Exercises\n\n### 1) Geocode the missing locations.\n\nRun the next code cell to create a DataFrame `starbucks` containing Starbucks locations in the state of California.",
   "metadata": {}
  },
  {
   "cell_type": "code",
   "source": "# Load and preview Starbucks locations in California\nstarbucks = pd.read_csv(\"../input/geospatial-learn-course-data/starbucks_locations.csv\")\nstarbucks.head()",
   "metadata": {
    "execution": {
     "iopub.status.busy": "2023-03-13T16:27:00.398861Z",
     "iopub.execute_input": "2023-03-13T16:27:00.399267Z",
     "iopub.status.idle": "2023-03-13T16:27:00.434310Z",
     "shell.execute_reply.started": "2023-03-13T16:27:00.399225Z",
     "shell.execute_reply": "2023-03-13T16:27:00.432729Z"
    },
    "trusted": true
   },
   "execution_count": 3,
   "outputs": [
    {
     "execution_count": 3,
     "output_type": "execute_result",
     "data": {
      "text/plain": "   Store Number               Store Name  \\\n0  10429-100710       Palmdale & Hwy 395   \n1       635-352    Kanan & Thousand Oaks   \n2   74510-27669  Vons-Agoura Hills #2001   \n3  29839-255026    Target Anaheim T-0677   \n4  23463-230284   Safeway - Alameda 3281   \n\n                                   Address          City  Longitude  Latitude  \n0             14136 US Hwy 395 Adelanto CA      Adelanto    -117.40     34.51  \n1                5827 Kanan Road Agoura CA        Agoura    -118.76     34.16  \n2           5671 Kanan Rd. Agoura Hills CA  Agoura Hills    -118.76     34.15  \n3  8148 E SANTA ANA CANYON ROAD AHAHEIM CA       AHAHEIM    -117.75     33.87  \n4               2600 5th Street Alameda CA       Alameda    -122.28     37.79  ",
      "text/html": "<div>\n<style scoped>\n    .dataframe tbody tr th:only-of-type {\n        vertical-align: middle;\n    }\n\n    .dataframe tbody tr th {\n        vertical-align: top;\n    }\n\n    .dataframe thead th {\n        text-align: right;\n    }\n</style>\n<table border=\"1\" class=\"dataframe\">\n  <thead>\n    <tr style=\"text-align: right;\">\n      <th></th>\n      <th>Store Number</th>\n      <th>Store Name</th>\n      <th>Address</th>\n      <th>City</th>\n      <th>Longitude</th>\n      <th>Latitude</th>\n    </tr>\n  </thead>\n  <tbody>\n    <tr>\n      <th>0</th>\n      <td>10429-100710</td>\n      <td>Palmdale &amp; Hwy 395</td>\n      <td>14136 US Hwy 395 Adelanto CA</td>\n      <td>Adelanto</td>\n      <td>-117.40</td>\n      <td>34.51</td>\n    </tr>\n    <tr>\n      <th>1</th>\n      <td>635-352</td>\n      <td>Kanan &amp; Thousand Oaks</td>\n      <td>5827 Kanan Road Agoura CA</td>\n      <td>Agoura</td>\n      <td>-118.76</td>\n      <td>34.16</td>\n    </tr>\n    <tr>\n      <th>2</th>\n      <td>74510-27669</td>\n      <td>Vons-Agoura Hills #2001</td>\n      <td>5671 Kanan Rd. Agoura Hills CA</td>\n      <td>Agoura Hills</td>\n      <td>-118.76</td>\n      <td>34.15</td>\n    </tr>\n    <tr>\n      <th>3</th>\n      <td>29839-255026</td>\n      <td>Target Anaheim T-0677</td>\n      <td>8148 E SANTA ANA CANYON ROAD AHAHEIM CA</td>\n      <td>AHAHEIM</td>\n      <td>-117.75</td>\n      <td>33.87</td>\n    </tr>\n    <tr>\n      <th>4</th>\n      <td>23463-230284</td>\n      <td>Safeway - Alameda 3281</td>\n      <td>2600 5th Street Alameda CA</td>\n      <td>Alameda</td>\n      <td>-122.28</td>\n      <td>37.79</td>\n    </tr>\n  </tbody>\n</table>\n</div>"
     },
     "metadata": {}
    }
   ]
  },
  {
   "cell_type": "markdown",
   "source": "Most of the stores have known (latitude, longitude) locations.  But, all of the locations in the city of Berkeley are missing.",
   "metadata": {}
  },
  {
   "cell_type": "code",
   "source": "# How many rows in each column have missing values?\nprint(starbucks.isnull().sum())\n\n# View rows with missing locations\nrows_with_missing = starbucks[starbucks[\"City\"]==\"Berkeley\"]\nrows_with_missing",
   "metadata": {
    "execution": {
     "iopub.status.busy": "2023-03-13T16:27:04.571338Z",
     "iopub.execute_input": "2023-03-13T16:27:04.571817Z",
     "iopub.status.idle": "2023-03-13T16:27:04.590999Z",
     "shell.execute_reply.started": "2023-03-13T16:27:04.571777Z",
     "shell.execute_reply": "2023-03-13T16:27:04.589846Z"
    },
    "trusted": true
   },
   "execution_count": 4,
   "outputs": [
    {
     "name": "stdout",
     "text": "Store Number    0\nStore Name      0\nAddress         0\nCity            0\nLongitude       5\nLatitude        5\ndtype: int64\n",
     "output_type": "stream"
    },
    {
     "execution_count": 4,
     "output_type": "execute_result",
     "data": {
      "text/plain": "     Store Number                Store Name  \\\n153      5406-945  2224 Shattuck - Berkeley   \n154       570-512                Solano Ave   \n155  17877-164526   Safeway - Berkeley #691   \n156  19864-202264         Telegraph & Ashby   \n157     9217-9253           2128 Oxford St.   \n\n                               Address      City  Longitude  Latitude  \n153   2224 Shattuck Avenue Berkeley CA  Berkeley        NaN       NaN  \n154     1799 Solano Avenue Berkeley CA  Berkeley        NaN       NaN  \n155    1444 Shattuck Place Berkeley CA  Berkeley        NaN       NaN  \n156  3001 Telegraph Avenue Berkeley CA  Berkeley        NaN       NaN  \n157     2128 Oxford Street Berkeley CA  Berkeley        NaN       NaN  ",
      "text/html": "<div>\n<style scoped>\n    .dataframe tbody tr th:only-of-type {\n        vertical-align: middle;\n    }\n\n    .dataframe tbody tr th {\n        vertical-align: top;\n    }\n\n    .dataframe thead th {\n        text-align: right;\n    }\n</style>\n<table border=\"1\" class=\"dataframe\">\n  <thead>\n    <tr style=\"text-align: right;\">\n      <th></th>\n      <th>Store Number</th>\n      <th>Store Name</th>\n      <th>Address</th>\n      <th>City</th>\n      <th>Longitude</th>\n      <th>Latitude</th>\n    </tr>\n  </thead>\n  <tbody>\n    <tr>\n      <th>153</th>\n      <td>5406-945</td>\n      <td>2224 Shattuck - Berkeley</td>\n      <td>2224 Shattuck Avenue Berkeley CA</td>\n      <td>Berkeley</td>\n      <td>NaN</td>\n      <td>NaN</td>\n    </tr>\n    <tr>\n      <th>154</th>\n      <td>570-512</td>\n      <td>Solano Ave</td>\n      <td>1799 Solano Avenue Berkeley CA</td>\n      <td>Berkeley</td>\n      <td>NaN</td>\n      <td>NaN</td>\n    </tr>\n    <tr>\n      <th>155</th>\n      <td>17877-164526</td>\n      <td>Safeway - Berkeley #691</td>\n      <td>1444 Shattuck Place Berkeley CA</td>\n      <td>Berkeley</td>\n      <td>NaN</td>\n      <td>NaN</td>\n    </tr>\n    <tr>\n      <th>156</th>\n      <td>19864-202264</td>\n      <td>Telegraph &amp; Ashby</td>\n      <td>3001 Telegraph Avenue Berkeley CA</td>\n      <td>Berkeley</td>\n      <td>NaN</td>\n      <td>NaN</td>\n    </tr>\n    <tr>\n      <th>157</th>\n      <td>9217-9253</td>\n      <td>2128 Oxford St.</td>\n      <td>2128 Oxford Street Berkeley CA</td>\n      <td>Berkeley</td>\n      <td>NaN</td>\n      <td>NaN</td>\n    </tr>\n  </tbody>\n</table>\n</div>"
     },
     "metadata": {}
    }
   ]
  },
  {
   "cell_type": "markdown",
   "source": "Use the code cell below to fill in these values with the Nominatim geocoder.\n\nNote that in the tutorial, we used `Nominatim()` (from `geopy.geocoders`) to geocode values, and this is what you can use in your own projects outside of this course.  \n\nIn this exercise, you will use a slightly different function `Nominatim()` (from `learntools.geospatial.tools`).  This function was imported at the top of the notebook and works identically to the function from GeoPandas.\n\nSo, in other words, as long as: \n- you don't change the import statements at the top of the notebook, and \n- you call the geocoding function as `geocode()` in the code cell below, \n\nyour code will work as intended!",
   "metadata": {}
  },
  {
   "cell_type": "code",
   "source": "def my_geocoder(row):\n    point = geolocator.geocode(row).point\n    return pd.Series({'Latitude': point.latitude, 'Longitude': point.longitude})",
   "metadata": {
    "execution": {
     "iopub.status.busy": "2023-03-13T16:28:55.814609Z",
     "iopub.execute_input": "2023-03-13T16:28:55.814963Z",
     "iopub.status.idle": "2023-03-13T16:28:55.820227Z",
     "shell.execute_reply.started": "2023-03-13T16:28:55.814933Z",
     "shell.execute_reply": "2023-03-13T16:28:55.819192Z"
    },
    "trusted": true
   },
   "execution_count": 6,
   "outputs": []
  },
  {
   "cell_type": "code",
   "source": "# Create the geocoder\ngeolocator = Nominatim(user_agent=\"kaggle_learn\")\n\n# Your code here\nberkeley_locations = rows_with_missing.apply(lambda x: my_geocoder(x['Address']), axis=1)\nstarbucks.update(berkeley_locations)\n\n# Check your answer\nq_1.check()",
   "metadata": {
    "execution": {
     "iopub.status.busy": "2023-03-13T16:29:02.065186Z",
     "iopub.execute_input": "2023-03-13T16:29:02.065575Z",
     "iopub.status.idle": "2023-03-13T16:29:02.320014Z",
     "shell.execute_reply.started": "2023-03-13T16:29:02.065542Z",
     "shell.execute_reply": "2023-03-13T16:29:02.319280Z"
    },
    "trusted": true
   },
   "execution_count": 7,
   "outputs": [
    {
     "output_type": "display_data",
     "data": {
      "text/plain": "<IPython.core.display.Javascript object>",
      "application/javascript": "parent.postMessage({\"jupyterEvent\": \"custom.exercise_interaction\", \"data\": {\"outcomeType\": 1, \"valueTowardsCompletion\": 0.2, \"interactionType\": 1, \"questionType\": 2, \"questionId\": \"1_Q1\", \"learnToolsVersion\": \"0.3.4\", \"failureMessage\": \"\", \"exceptionClass\": \"\", \"trace\": \"\"}}, \"*\")"
     },
     "metadata": {}
    },
    {
     "output_type": "display_data",
     "data": {
      "text/plain": "Correct",
      "text/markdown": "<span style=\"color:#33cc33\">Correct</span>"
     },
     "metadata": {}
    }
   ]
  },
  {
   "cell_type": "code",
   "source": "# Line below will give you solution code\n#q_1.solution()",
   "metadata": {
    "execution": {
     "iopub.status.busy": "2023-03-13T16:29:04.196094Z",
     "iopub.execute_input": "2023-03-13T16:29:04.196479Z",
     "iopub.status.idle": "2023-03-13T16:29:04.202001Z",
     "shell.execute_reply.started": "2023-03-13T16:29:04.196446Z",
     "shell.execute_reply": "2023-03-13T16:29:04.200618Z"
    },
    "trusted": true
   },
   "execution_count": 8,
   "outputs": []
  },
  {
   "cell_type": "markdown",
   "source": "### 2) View Berkeley locations.\n\nLet's take a look at the locations you just found.  Visualize the (latitude, longitude) locations in Berkeley in the OpenStreetMap style. ",
   "metadata": {}
  },
  {
   "cell_type": "code",
   "source": "# Create a base map\nm_2 = folium.Map(location=[37.88,-122.26], zoom_start=13)\n\n# Your code here: Add a marker for each Berkeley location\nfor _, row in starbucks[starbucks[\"City\"]=='Berkeley'].iterrows():\n    Marker([row['Latitude'], row['Longitude']]).add_to(m_2)\n\n# Uncomment to see a hint\n#q_2.a.hint()\n\n# Show the map\nembed_map(m_2, 'q_2.html')",
   "metadata": {
    "execution": {
     "iopub.status.busy": "2023-03-13T16:30:07.858158Z",
     "iopub.execute_input": "2023-03-13T16:30:07.858524Z",
     "iopub.status.idle": "2023-03-13T16:30:07.877210Z",
     "shell.execute_reply.started": "2023-03-13T16:30:07.858492Z",
     "shell.execute_reply": "2023-03-13T16:30:07.876087Z"
    },
    "trusted": true
   },
   "execution_count": 12,
   "outputs": [
    {
     "execution_count": 12,
     "output_type": "execute_result",
     "data": {
      "text/plain": "<IPython.lib.display.IFrame at 0x7fbebe69e150>",
      "text/html": "\n        <iframe\n            width=\"100%\"\n            height=\"500px\"\n            src=\"q_2.html\"\n            frameborder=\"0\"\n            allowfullscreen\n            \n        ></iframe>\n        "
     },
     "metadata": {}
    }
   ]
  },
  {
   "cell_type": "code",
   "source": "# Get credit for your work after you have created a map\nq_2.a.check()\n\n# Uncomment to see our solution (your code may look different!)\n#q_2.a.solution()",
   "metadata": {
    "execution": {
     "iopub.status.busy": "2023-03-13T16:30:26.899349Z",
     "iopub.execute_input": "2023-03-13T16:30:26.899753Z",
     "iopub.status.idle": "2023-03-13T16:30:26.909715Z",
     "shell.execute_reply.started": "2023-03-13T16:30:26.899719Z",
     "shell.execute_reply": "2023-03-13T16:30:26.908241Z"
    },
    "trusted": true
   },
   "execution_count": 13,
   "outputs": [
    {
     "output_type": "display_data",
     "data": {
      "text/plain": "<IPython.core.display.Javascript object>",
      "application/javascript": "parent.postMessage({\"jupyterEvent\": \"custom.exercise_interaction\", \"data\": {\"outcomeType\": 1, \"valueTowardsCompletion\": 0.2, \"interactionType\": 1, \"questionType\": 2, \"questionId\": \"2.1_Q2P\", \"learnToolsVersion\": \"0.3.4\", \"failureMessage\": \"\", \"exceptionClass\": \"\", \"trace\": \"\"}}, \"*\")"
     },
     "metadata": {}
    },
    {
     "output_type": "display_data",
     "data": {
      "text/plain": "Thank you for creating a map!",
      "text/markdown": "<span style=\"color:#33cc33\">Thank you for creating a map!</span>"
     },
     "metadata": {}
    }
   ]
  },
  {
   "cell_type": "markdown",
   "source": "Considering only the five locations in Berkeley, how many of the (latitude, longitude) locations seem potentially correct (are located in the correct city)?",
   "metadata": {}
  },
  {
   "cell_type": "code",
   "source": "# View the solution (Run this code cell to receive credit!)\nq_2.b.solution()",
   "metadata": {
    "execution": {
     "iopub.status.busy": "2023-03-13T16:30:31.028630Z",
     "iopub.execute_input": "2023-03-13T16:30:31.029627Z",
     "iopub.status.idle": "2023-03-13T16:30:31.038305Z",
     "shell.execute_reply.started": "2023-03-13T16:30:31.029593Z",
     "shell.execute_reply": "2023-03-13T16:30:31.036745Z"
    },
    "trusted": true
   },
   "execution_count": 14,
   "outputs": [
    {
     "output_type": "display_data",
     "data": {
      "text/plain": "<IPython.core.display.Javascript object>",
      "application/javascript": "parent.postMessage({\"jupyterEvent\": \"custom.exercise_interaction\", \"data\": {\"interactionType\": 3, \"questionType\": 4, \"questionId\": \"2.2_Q2T\", \"learnToolsVersion\": \"0.3.4\", \"valueTowardsCompletion\": 0.0, \"failureMessage\": \"\", \"exceptionClass\": \"\", \"trace\": \"\", \"outcomeType\": 4}}, \"*\")"
     },
     "metadata": {}
    },
    {
     "output_type": "display_data",
     "data": {
      "text/plain": "Solution: All five locations appear to be correct!",
      "text/markdown": "<span style=\"color:#33cc99\">Solution:</span> All five locations appear to be correct!"
     },
     "metadata": {}
    }
   ]
  },
  {
   "cell_type": "markdown",
   "source": "### 3) Consolidate your data.\n\nRun the code below to load a GeoDataFrame `CA_counties` containing the name, area (in square kilometers), and a unique id (in the \"GEOID\" column) for each county in the state of California.  The \"geometry\" column contains a polygon with county boundaries.",
   "metadata": {}
  },
  {
   "cell_type": "code",
   "source": "CA_counties = gpd.read_file(\"../input/geospatial-learn-course-data/CA_county_boundaries/CA_county_boundaries/CA_county_boundaries.shp\")\nCA_counties.head()",
   "metadata": {
    "execution": {
     "iopub.status.busy": "2023-03-13T16:30:38.047114Z",
     "iopub.execute_input": "2023-03-13T16:30:38.047917Z",
     "iopub.status.idle": "2023-03-13T16:30:38.305663Z",
     "shell.execute_reply.started": "2023-03-13T16:30:38.047861Z",
     "shell.execute_reply": "2023-03-13T16:30:38.303936Z"
    },
    "trusted": true
   },
   "execution_count": 15,
   "outputs": [
    {
     "execution_count": 15,
     "output_type": "execute_result",
     "data": {
      "text/plain": "   GEOID                  name    area_sqkm  \\\n0   6091         Sierra County  2491.995494   \n1   6067     Sacramento County  2575.258262   \n2   6083  Santa Barbara County  9813.817958   \n3   6009      Calaveras County  2685.626726   \n4   6111        Ventura County  5719.321379   \n\n                                            geometry  \n0  POLYGON ((-120.65560 39.69357, -120.65554 39.6...  \n1  POLYGON ((-121.18858 38.71431, -121.18732 38.7...  \n2  MULTIPOLYGON (((-120.58191 34.09856, -120.5822...  \n3  POLYGON ((-120.63095 38.34111, -120.63058 38.3...  \n4  MULTIPOLYGON (((-119.63631 33.27304, -119.6360...  ",
      "text/html": "<div>\n<style scoped>\n    .dataframe tbody tr th:only-of-type {\n        vertical-align: middle;\n    }\n\n    .dataframe tbody tr th {\n        vertical-align: top;\n    }\n\n    .dataframe thead th {\n        text-align: right;\n    }\n</style>\n<table border=\"1\" class=\"dataframe\">\n  <thead>\n    <tr style=\"text-align: right;\">\n      <th></th>\n      <th>GEOID</th>\n      <th>name</th>\n      <th>area_sqkm</th>\n      <th>geometry</th>\n    </tr>\n  </thead>\n  <tbody>\n    <tr>\n      <th>0</th>\n      <td>6091</td>\n      <td>Sierra County</td>\n      <td>2491.995494</td>\n      <td>POLYGON ((-120.65560 39.69357, -120.65554 39.6...</td>\n    </tr>\n    <tr>\n      <th>1</th>\n      <td>6067</td>\n      <td>Sacramento County</td>\n      <td>2575.258262</td>\n      <td>POLYGON ((-121.18858 38.71431, -121.18732 38.7...</td>\n    </tr>\n    <tr>\n      <th>2</th>\n      <td>6083</td>\n      <td>Santa Barbara County</td>\n      <td>9813.817958</td>\n      <td>MULTIPOLYGON (((-120.58191 34.09856, -120.5822...</td>\n    </tr>\n    <tr>\n      <th>3</th>\n      <td>6009</td>\n      <td>Calaveras County</td>\n      <td>2685.626726</td>\n      <td>POLYGON ((-120.63095 38.34111, -120.63058 38.3...</td>\n    </tr>\n    <tr>\n      <th>4</th>\n      <td>6111</td>\n      <td>Ventura County</td>\n      <td>5719.321379</td>\n      <td>MULTIPOLYGON (((-119.63631 33.27304, -119.6360...</td>\n    </tr>\n  </tbody>\n</table>\n</div>"
     },
     "metadata": {}
    }
   ]
  },
  {
   "cell_type": "markdown",
   "source": "Next, we create three DataFrames:\n- `CA_pop` contains an estimate of the population of each county.\n- `CA_high_earners` contains the number of households with an income of at least $150,000 per year.\n- `CA_median_age` contains the median age for each county.",
   "metadata": {}
  },
  {
   "cell_type": "code",
   "source": "CA_pop = pd.read_csv(\"../input/geospatial-learn-course-data/CA_county_population.csv\", index_col=\"GEOID\")\nCA_high_earners = pd.read_csv(\"../input/geospatial-learn-course-data/CA_county_high_earners.csv\", index_col=\"GEOID\")\nCA_median_age = pd.read_csv(\"../input/geospatial-learn-course-data/CA_county_median_age.csv\", index_col=\"GEOID\")",
   "metadata": {
    "execution": {
     "iopub.status.busy": "2023-03-13T16:30:42.514638Z",
     "iopub.execute_input": "2023-03-13T16:30:42.514990Z",
     "iopub.status.idle": "2023-03-13T16:30:42.531409Z",
     "shell.execute_reply.started": "2023-03-13T16:30:42.514963Z",
     "shell.execute_reply": "2023-03-13T16:30:42.529984Z"
    },
    "trusted": true
   },
   "execution_count": 16,
   "outputs": []
  },
  {
   "cell_type": "markdown",
   "source": "Use the next code cell to join the `CA_counties` GeoDataFrame with `CA_pop`, `CA_high_earners`, and `CA_median_age`.\n\nName the resultant GeoDataFrame `CA_stats`, and make sure it has 8 columns: \"GEOID\", \"name\", \"area_sqkm\", \"geometry\", \"population\", \"high_earners\", and \"median_age\".  Also, make sure the CRS is set to `{'init': 'epsg:4326'}`.",
   "metadata": {}
  },
  {
   "cell_type": "code",
   "source": "# Your code here\nCA_stats = CA_counties.merge(CA_pop.join([CA_high_earners, CA_median_age]).reset_index(), on=\"GEOID\")\nCA_stats.crs = {'init': 'epsg:4326'}\n# Check your answer\nq_3.check()",
   "metadata": {
    "execution": {
     "iopub.status.busy": "2023-03-13T16:33:09.086324Z",
     "iopub.execute_input": "2023-03-13T16:33:09.086689Z",
     "iopub.status.idle": "2023-03-13T16:33:09.284963Z",
     "shell.execute_reply.started": "2023-03-13T16:33:09.086657Z",
     "shell.execute_reply": "2023-03-13T16:33:09.283923Z"
    },
    "trusted": true
   },
   "execution_count": 24,
   "outputs": [
    {
     "name": "stderr",
     "text": "/opt/conda/lib/python3.7/site-packages/pyproj/crs/crs.py:68: FutureWarning: '+init=<authority>:<code>' syntax is deprecated. '<authority>:<code>' is the preferred initialization method. When making the change, be mindful of axis order changes: https://pyproj4.github.io/pyproj/stable/gotchas.html#axis-order-changes-in-proj-6\n  return _prepare_from_string(\" \".join(pjargs))\n",
     "output_type": "stream"
    },
    {
     "output_type": "display_data",
     "data": {
      "text/plain": "<IPython.core.display.Javascript object>",
      "application/javascript": "parent.postMessage({\"jupyterEvent\": \"custom.exercise_interaction\", \"data\": {\"outcomeType\": 1, \"valueTowardsCompletion\": 0.2, \"interactionType\": 1, \"questionType\": 2, \"questionId\": \"3_Q3\", \"learnToolsVersion\": \"0.3.4\", \"failureMessage\": \"\", \"exceptionClass\": \"\", \"trace\": \"\"}}, \"*\")"
     },
     "metadata": {}
    },
    {
     "output_type": "display_data",
     "data": {
      "text/plain": "Correct",
      "text/markdown": "<span style=\"color:#33cc33\">Correct</span>"
     },
     "metadata": {}
    }
   ]
  },
  {
   "cell_type": "code",
   "source": "# Lines below will give you a hint or solution code\n#q_3.hint()\n#q_3.solution()",
   "metadata": {
    "execution": {
     "iopub.status.busy": "2023-03-13T16:33:14.405472Z",
     "iopub.execute_input": "2023-03-13T16:33:14.405835Z",
     "iopub.status.idle": "2023-03-13T16:33:14.411406Z",
     "shell.execute_reply.started": "2023-03-13T16:33:14.405802Z",
     "shell.execute_reply": "2023-03-13T16:33:14.409879Z"
    },
    "trusted": true
   },
   "execution_count": 25,
   "outputs": []
  },
  {
   "cell_type": "markdown",
   "source": "Now that we have all of the data in one place, it's much easier to calculate statistics that use a combination of columns.  Run the next code cell to create a \"density\" column with the population density.",
   "metadata": {}
  },
  {
   "cell_type": "code",
   "source": "CA_stats[\"density\"] = CA_stats[\"population\"] / CA_stats[\"area_sqkm\"]",
   "metadata": {
    "execution": {
     "iopub.status.busy": "2023-03-13T16:33:15.689669Z",
     "iopub.execute_input": "2023-03-13T16:33:15.690021Z",
     "iopub.status.idle": "2023-03-13T16:33:15.699285Z",
     "shell.execute_reply.started": "2023-03-13T16:33:15.689988Z",
     "shell.execute_reply": "2023-03-13T16:33:15.698175Z"
    },
    "trusted": true
   },
   "execution_count": 26,
   "outputs": []
  },
  {
   "cell_type": "markdown",
   "source": "### 4) Which counties look promising?\n\nCollapsing all of the information into a single GeoDataFrame also makes it much easier to select counties that meet specific criteria.\n\nUse the next code cell to create a GeoDataFrame `sel_counties` that contains a subset of the rows (and all of the columns) from the `CA_stats` GeoDataFrame.  In particular, you should select counties where:\n- there are at least 100,000 households making \\$150,000 per year,\n- the median age is less than 38.5, and\n- the density of inhabitants is at least 285 (per square kilometer).\n\nAdditionally, selected counties should satisfy at least one of the following criteria:\n- there are at least 500,000 households making \\$150,000 per year,\n- the median age is less than 35.5, or\n- the density of inhabitants is at least 1400 (per square kilometer).",
   "metadata": {}
  },
  {
   "cell_type": "code",
   "source": "# Your code here\nsel_counties = CA_stats[((CA_stats.high_earners > 100000) & (CA_stats.median_age < 38.5) & (CA_stats.density > 285) & ((CA_stats.median_age < 35.5) | (CA_stats.density > 1400) | (CA_stats.high_earners > 500000)))]\n\n# Check your answer\nq_4.check()",
   "metadata": {
    "execution": {
     "iopub.status.busy": "2023-03-13T16:34:41.116953Z",
     "iopub.execute_input": "2023-03-13T16:34:41.117334Z",
     "iopub.status.idle": "2023-03-13T16:34:41.136367Z",
     "shell.execute_reply.started": "2023-03-13T16:34:41.117299Z",
     "shell.execute_reply": "2023-03-13T16:34:41.134983Z"
    },
    "trusted": true
   },
   "execution_count": 32,
   "outputs": [
    {
     "output_type": "display_data",
     "data": {
      "text/plain": "<IPython.core.display.Javascript object>",
      "application/javascript": "parent.postMessage({\"jupyterEvent\": \"custom.exercise_interaction\", \"data\": {\"outcomeType\": 1, \"valueTowardsCompletion\": 0.2, \"interactionType\": 1, \"questionType\": 2, \"questionId\": \"4_Q4\", \"learnToolsVersion\": \"0.3.4\", \"failureMessage\": \"\", \"exceptionClass\": \"\", \"trace\": \"\"}}, \"*\")"
     },
     "metadata": {}
    },
    {
     "output_type": "display_data",
     "data": {
      "text/plain": "Correct",
      "text/markdown": "<span style=\"color:#33cc33\">Correct</span>"
     },
     "metadata": {}
    }
   ]
  },
  {
   "cell_type": "code",
   "source": "# Lines below will give you a hint or solution code\n#q_4.hint()\n#q_4.solution()",
   "metadata": {
    "execution": {
     "iopub.status.busy": "2023-03-13T16:34:44.389701Z",
     "iopub.execute_input": "2023-03-13T16:34:44.390050Z",
     "iopub.status.idle": "2023-03-13T16:34:44.395554Z",
     "shell.execute_reply.started": "2023-03-13T16:34:44.390020Z",
     "shell.execute_reply": "2023-03-13T16:34:44.394318Z"
    },
    "trusted": true
   },
   "execution_count": 33,
   "outputs": []
  },
  {
   "cell_type": "markdown",
   "source": "### 5) How many stores did you identify?\n\nWhen looking for the next Starbucks Reserve Roastery location, you'd like to consider all of the stores within the counties that you selected.  So, how many stores are within the selected counties?\n\nTo prepare to answer this question, run the next code cell to create a GeoDataFrame `starbucks_gdf` with all of the starbucks locations.",
   "metadata": {}
  },
  {
   "cell_type": "code",
   "source": "starbucks_gdf = gpd.GeoDataFrame(starbucks, geometry=gpd.points_from_xy(starbucks.Longitude, starbucks.Latitude))\nstarbucks_gdf.crs = {'init': 'epsg:4326'}",
   "metadata": {
    "execution": {
     "iopub.status.busy": "2023-03-13T16:34:46.078633Z",
     "iopub.execute_input": "2023-03-13T16:34:46.079002Z",
     "iopub.status.idle": "2023-03-13T16:34:46.093568Z",
     "shell.execute_reply.started": "2023-03-13T16:34:46.078971Z",
     "shell.execute_reply": "2023-03-13T16:34:46.091575Z"
    },
    "trusted": true
   },
   "execution_count": 34,
   "outputs": [
    {
     "name": "stderr",
     "text": "/opt/conda/lib/python3.7/site-packages/pyproj/crs/crs.py:68: FutureWarning: '+init=<authority>:<code>' syntax is deprecated. '<authority>:<code>' is the preferred initialization method. When making the change, be mindful of axis order changes: https://pyproj4.github.io/pyproj/stable/gotchas.html#axis-order-changes-in-proj-6\n  return _prepare_from_string(\" \".join(pjargs))\n",
     "output_type": "stream"
    }
   ]
  },
  {
   "cell_type": "markdown",
   "source": "So, how many stores are in the counties you selected?",
   "metadata": {}
  },
  {
   "cell_type": "code",
   "source": "# Fill in your answer\nlocations = gpd.sjoin(starbucks_gdf, sel_counties)\nnum_stores = len(locations)\n\n# Check your answer\nq_5.check()",
   "metadata": {
    "execution": {
     "iopub.status.busy": "2023-03-13T16:35:45.416493Z",
     "iopub.execute_input": "2023-03-13T16:35:45.416950Z",
     "iopub.status.idle": "2023-03-13T16:35:45.498317Z",
     "shell.execute_reply.started": "2023-03-13T16:35:45.416911Z",
     "shell.execute_reply": "2023-03-13T16:35:45.497123Z"
    },
    "trusted": true
   },
   "execution_count": 39,
   "outputs": [
    {
     "output_type": "display_data",
     "data": {
      "text/plain": "<IPython.core.display.Javascript object>",
      "application/javascript": "parent.postMessage({\"jupyterEvent\": \"custom.exercise_interaction\", \"data\": {\"outcomeType\": 1, \"valueTowardsCompletion\": 0.2, \"interactionType\": 1, \"questionType\": 2, \"questionId\": \"5_Q5\", \"learnToolsVersion\": \"0.3.4\", \"failureMessage\": \"\", \"exceptionClass\": \"\", \"trace\": \"\"}}, \"*\")"
     },
     "metadata": {}
    },
    {
     "output_type": "display_data",
     "data": {
      "text/plain": "Correct",
      "text/markdown": "<span style=\"color:#33cc33\">Correct</span>"
     },
     "metadata": {}
    }
   ]
  },
  {
   "cell_type": "code",
   "source": "# Lines below will give you a hint or solution code\n#q_5.hint()\n#q_5.solution()",
   "metadata": {
    "execution": {
     "iopub.status.busy": "2023-03-13T16:35:47.358305Z",
     "iopub.execute_input": "2023-03-13T16:35:47.358672Z",
     "iopub.status.idle": "2023-03-13T16:35:47.363822Z",
     "shell.execute_reply.started": "2023-03-13T16:35:47.358643Z",
     "shell.execute_reply": "2023-03-13T16:35:47.362783Z"
    },
    "trusted": true
   },
   "execution_count": 40,
   "outputs": []
  },
  {
   "cell_type": "markdown",
   "source": "### 6) Visualize the store locations.\n\nCreate a map that shows the locations of the stores that you identified in the previous question.",
   "metadata": {}
  },
  {
   "cell_type": "code",
   "source": "# Create a base map\nm_6 = folium.Map(location=[37,-120], zoom_start=6)\n\n# Your code here: show selected store locations\nmc = MarkerCluster()\n\nlocations = gpd.sjoin(starbucks_gdf, sel_counties)\nfor _, row in locations.iterrows():\n    if not math.isnan(row['Longitude']) and not math.isnan(row['Latitude']):\n        mc.add_child(folium.Marker([row['Latitude'], row['Longitude']]))\n        \nm_6.add_child(mc)\n\n# Uncomment to see a hint\n#q_6.hint()\n\n# Show the map\nembed_map(m_6, 'q_6.html')",
   "metadata": {
    "execution": {
     "iopub.status.busy": "2023-03-13T16:36:34.427144Z",
     "iopub.execute_input": "2023-03-13T16:36:34.427553Z",
     "iopub.status.idle": "2023-03-13T16:36:35.111738Z",
     "shell.execute_reply.started": "2023-03-13T16:36:34.427516Z",
     "shell.execute_reply": "2023-03-13T16:36:35.110698Z"
    },
    "trusted": true
   },
   "execution_count": 43,
   "outputs": [
    {
     "execution_count": 43,
     "output_type": "execute_result",
     "data": {
      "text/plain": "<IPython.lib.display.IFrame at 0x7fbebb3f6210>",
      "text/html": "\n        <iframe\n            width=\"100%\"\n            height=\"500px\"\n            src=\"q_6.html\"\n            frameborder=\"0\"\n            allowfullscreen\n            \n        ></iframe>\n        "
     },
     "metadata": {}
    }
   ]
  },
  {
   "cell_type": "code",
   "source": "# Get credit for your work after you have created a map\nq_6.check()\n\n# Uncomment to see our solution (your code may look different!)\n#q_6.solution()",
   "metadata": {
    "execution": {
     "iopub.status.busy": "2023-03-13T16:36:44.383845Z",
     "iopub.execute_input": "2023-03-13T16:36:44.384290Z",
     "iopub.status.idle": "2023-03-13T16:36:44.391594Z",
     "shell.execute_reply.started": "2023-03-13T16:36:44.384255Z",
     "shell.execute_reply": "2023-03-13T16:36:44.390792Z"
    },
    "trusted": true
   },
   "execution_count": 44,
   "outputs": [
    {
     "output_type": "display_data",
     "data": {
      "text/plain": "<IPython.core.display.Javascript object>",
      "application/javascript": "parent.postMessage({\"jupyterEvent\": \"custom.exercise_interaction\", \"data\": {\"outcomeType\": 1, \"valueTowardsCompletion\": 0.2, \"interactionType\": 1, \"questionType\": 2, \"questionId\": \"6_Q6\", \"learnToolsVersion\": \"0.3.4\", \"failureMessage\": \"\", \"exceptionClass\": \"\", \"trace\": \"\"}}, \"*\")"
     },
     "metadata": {}
    },
    {
     "output_type": "display_data",
     "data": {
      "text/plain": "Thank you for creating a map!",
      "text/markdown": "<span style=\"color:#33cc33\">Thank you for creating a map!</span>"
     },
     "metadata": {}
    }
   ]
  },
  {
   "cell_type": "markdown",
   "source": "# Keep going\n\nLearn about how **[proximity analysis](https://www.kaggle.com/alexisbcook/proximity-analysis)** can help you to understand the relationships between points on a map.",
   "metadata": {}
  },
  {
   "cell_type": "markdown",
   "source": "---\n\n\n\n\n*Have questions or comments? Visit the [course discussion forum](https://www.kaggle.com/learn/geospatial-analysis/discussion) to chat with other learners.*",
   "metadata": {}
  }
 ]
}
