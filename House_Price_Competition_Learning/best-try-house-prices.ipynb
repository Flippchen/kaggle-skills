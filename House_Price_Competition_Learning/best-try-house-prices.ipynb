{
 "metadata": {
  "kernelspec": {
   "language": "python",
   "display_name": "Python 3",
   "name": "python3"
  },
  "language_info": {
   "name": "python",
   "version": "3.7.12",
   "mimetype": "text/x-python",
   "codemirror_mode": {
    "name": "ipython",
    "version": 3
   },
   "pygments_lexer": "ipython3",
   "nbconvert_exporter": "python",
   "file_extension": ".py"
  }
 },
 "nbformat_minor": 4,
 "nbformat": 4,
 "cells": [
  {
   "cell_type": "markdown",
   "source": [
    "## **1.Libraries**"
   ],
   "metadata": {}
  },
  {
   "cell_type": "code",
   "source": [
    "import warnings\n",
    "warnings.simplefilter(action='ignore')\n",
    "import pandas as pd\n",
    "import numpy as np\n",
    "import matplotlib.pyplot as plt\n",
    "import seaborn as sns\n",
    "from sklearn.impute import SimpleImputer\n",
    "from sklearn.preprocessing import LabelEncoder\n",
    "from sklearn.utils import shuffle\n",
    "from eli5.sklearn import PermutationImportance\n",
    "from xgboost import XGBRegressor\n",
    "from sklearn.linear_model import Lasso\n",
    "import eli5\n",
    "from sklearn.model_selection import GridSearchCV , cross_val_score, train_test_split\n",
    "from sklearn.preprocessing import MinMaxScaler, StandardScaler, RobustScaler\n",
    "from sklearn.metrics import mean_squared_error\n",
    "from sklearn.preprocessing import OneHotEncoder\n",
    "from scipy import stats\n",
    "from sklearn.feature_selection import SelectFromModel\n"
   ],
   "metadata": {
    "execution": {
     "iopub.status.busy": "2023-02-11T21:51:58.768860Z",
     "iopub.execute_input": "2023-02-11T21:51:58.769335Z",
     "iopub.status.idle": "2023-02-11T21:52:07.196895Z",
     "shell.execute_reply.started": "2023-02-11T21:51:58.769244Z",
     "shell.execute_reply": "2023-02-11T21:52:07.195762Z"
    },
    "trusted": true
   },
   "execution_count": 1,
   "outputs": [
    {
     "output_type": "display_data",
     "data": {
      "text/plain": "<IPython.core.display.HTML object>",
      "text/html": "<style type='text/css'>\n.datatable table.frame { margin-bottom: 0; }\n.datatable table.frame thead { border-bottom: none; }\n.datatable table.frame tr.coltypes td {  color: #FFFFFF;  line-height: 6px;  padding: 0 0.5em;}\n.datatable .bool    { background: #DDDD99; }\n.datatable .object  { background: #565656; }\n.datatable .int     { background: #5D9E5D; }\n.datatable .float   { background: #4040CC; }\n.datatable .str     { background: #CC4040; }\n.datatable .time    { background: #40CC40; }\n.datatable .row_index {  background: var(--jp-border-color3);  border-right: 1px solid var(--jp-border-color0);  color: var(--jp-ui-font-color3);  font-size: 9px;}\n.datatable .frame tbody td { text-align: left; }\n.datatable .frame tr.coltypes .row_index {  background: var(--jp-border-color0);}\n.datatable th:nth-child(2) { padding-left: 12px; }\n.datatable .hellipsis {  color: var(--jp-cell-editor-border-color);}\n.datatable .vellipsis {  background: var(--jp-layout-color0);  color: var(--jp-cell-editor-border-color);}\n.datatable .na {  color: var(--jp-cell-editor-border-color);  font-size: 80%;}\n.datatable .sp {  opacity: 0.25;}\n.datatable .footer { font-size: 9px; }\n.datatable .frame_dimensions {  background: var(--jp-border-color3);  border-top: 1px solid var(--jp-border-color0);  color: var(--jp-ui-font-color3);  display: inline-block;  opacity: 0.6;  padding: 1px 10px 1px 5px;}\n</style>\n"
     },
     "metadata": {}
    }
   ]
  },
  {
   "cell_type": "markdown",
   "source": [
    "## **2. Import Dataset**"
   ],
   "metadata": {}
  },
  {
   "cell_type": "code",
   "source": [
    "df_train = pd.read_csv(\"/kaggle/input/home-data-for-ml-course/train.csv\")\n",
    "X_test = pd.read_csv(\"/kaggle/input/home-data-for-ml-course/test.csv\")\n",
    "pd.set_option('display.max_columns', None)"
   ],
   "metadata": {
    "execution": {
     "iopub.status.busy": "2023-02-11T21:52:40.344382Z",
     "iopub.execute_input": "2023-02-11T21:52:40.344803Z",
     "iopub.status.idle": "2023-02-11T21:52:40.393585Z",
     "shell.execute_reply.started": "2023-02-11T21:52:40.344765Z",
     "shell.execute_reply": "2023-02-11T21:52:40.392377Z"
    },
    "trusted": true
   },
   "execution_count": 3,
   "outputs": []
  },
  {
   "cell_type": "code",
   "source": [
    "df_train_row = df_train.shape[0]\n"
   ],
   "metadata": {
    "execution": {
     "iopub.status.busy": "2023-02-11T21:52:42.897448Z",
     "iopub.execute_input": "2023-02-11T21:52:42.898057Z",
     "iopub.status.idle": "2023-02-11T21:52:42.902999Z",
     "shell.execute_reply.started": "2023-02-11T21:52:42.898015Z",
     "shell.execute_reply": "2023-02-11T21:52:42.902108Z"
    },
    "trusted": true
   },
   "execution_count": 4,
   "outputs": []
  },
  {
   "cell_type": "code",
   "source": [
    "\n",
    "X_test_row = X_test.shape[0]\n"
   ],
   "metadata": {
    "execution": {
     "iopub.status.busy": "2023-02-11T21:52:51.332877Z",
     "iopub.execute_input": "2023-02-11T21:52:51.334026Z",
     "iopub.status.idle": "2023-02-11T21:52:51.339507Z",
     "shell.execute_reply.started": "2023-02-11T21:52:51.333976Z",
     "shell.execute_reply": "2023-02-11T21:52:51.338095Z"
    },
    "trusted": true
   },
   "execution_count": 5,
   "outputs": []
  },
  {
   "cell_type": "markdown",
   "source": [
    "## **3.Analysis**"
   ],
   "metadata": {}
  },
  {
   "cell_type": "code",
   "source": [
    "df_train.isnull().sum().sort_values(ascending=False).head(40)"
   ],
   "metadata": {
    "execution": {
     "iopub.status.busy": "2023-02-11T21:53:26.078267Z",
     "iopub.execute_input": "2023-02-11T21:53:26.078714Z",
     "iopub.status.idle": "2023-02-11T21:53:26.093533Z",
     "shell.execute_reply.started": "2023-02-11T21:53:26.078664Z",
     "shell.execute_reply": "2023-02-11T21:53:26.092625Z"
    },
    "trusted": true
   },
   "execution_count": 7,
   "outputs": [
    {
     "execution_count": 7,
     "output_type": "execute_result",
     "data": {
      "text/plain": "PoolQC           1453\nMiscFeature      1406\nAlley            1369\nFence            1179\nFireplaceQu       690\nLotFrontage       259\nGarageYrBlt        81\nGarageCond         81\nGarageType         81\nGarageFinish       81\nGarageQual         81\nBsmtFinType2       38\nBsmtExposure       38\nBsmtQual           37\nBsmtCond           37\nBsmtFinType1       37\nMasVnrArea          8\nMasVnrType          8\nElectrical          1\nId                  0\nFunctional          0\nFireplaces          0\nKitchenQual         0\nKitchenAbvGr        0\nBedroomAbvGr        0\nHalfBath            0\nFullBath            0\nBsmtHalfBath        0\nTotRmsAbvGrd        0\nGarageCars          0\nGrLivArea           0\nGarageArea          0\nPavedDrive          0\nWoodDeckSF          0\nOpenPorchSF         0\nEnclosedPorch       0\n3SsnPorch           0\nScreenPorch         0\nPoolArea            0\nMiscVal             0\ndtype: int64"
     },
     "metadata": {}
    }
   ]
  },
  {
   "cell_type": "code",
   "source": [
    "df_train.describe()"
   ],
   "metadata": {
    "execution": {
     "iopub.status.busy": "2023-02-11T21:53:39.704389Z",
     "iopub.execute_input": "2023-02-11T21:53:39.704949Z",
     "iopub.status.idle": "2023-02-11T21:53:39.836651Z",
     "shell.execute_reply.started": "2023-02-11T21:53:39.704899Z",
     "shell.execute_reply": "2023-02-11T21:53:39.835911Z"
    },
    "trusted": true
   },
   "execution_count": 8,
   "outputs": [
    {
     "execution_count": 8,
     "output_type": "execute_result",
     "data": {
      "text/plain": "                Id   MSSubClass  LotFrontage        LotArea  OverallQual  \\\ncount  1460.000000  1460.000000  1201.000000    1460.000000  1460.000000   \nmean    730.500000    56.897260    70.049958   10516.828082     6.099315   \nstd     421.610009    42.300571    24.284752    9981.264932     1.382997   \nmin       1.000000    20.000000    21.000000    1300.000000     1.000000   \n25%     365.750000    20.000000    59.000000    7553.500000     5.000000   \n50%     730.500000    50.000000    69.000000    9478.500000     6.000000   \n75%    1095.250000    70.000000    80.000000   11601.500000     7.000000   \nmax    1460.000000   190.000000   313.000000  215245.000000    10.000000   \n\n       OverallCond    YearBuilt  YearRemodAdd   MasVnrArea   BsmtFinSF1  \\\ncount  1460.000000  1460.000000   1460.000000  1452.000000  1460.000000   \nmean      5.575342  1971.267808   1984.865753   103.685262   443.639726   \nstd       1.112799    30.202904     20.645407   181.066207   456.098091   \nmin       1.000000  1872.000000   1950.000000     0.000000     0.000000   \n25%       5.000000  1954.000000   1967.000000     0.000000     0.000000   \n50%       5.000000  1973.000000   1994.000000     0.000000   383.500000   \n75%       6.000000  2000.000000   2004.000000   166.000000   712.250000   \nmax       9.000000  2010.000000   2010.000000  1600.000000  5644.000000   \n\n        BsmtFinSF2    BsmtUnfSF  TotalBsmtSF     1stFlrSF     2ndFlrSF  \\\ncount  1460.000000  1460.000000  1460.000000  1460.000000  1460.000000   \nmean     46.549315   567.240411  1057.429452  1162.626712   346.992466   \nstd     161.319273   441.866955   438.705324   386.587738   436.528436   \nmin       0.000000     0.000000     0.000000   334.000000     0.000000   \n25%       0.000000   223.000000   795.750000   882.000000     0.000000   \n50%       0.000000   477.500000   991.500000  1087.000000     0.000000   \n75%       0.000000   808.000000  1298.250000  1391.250000   728.000000   \nmax    1474.000000  2336.000000  6110.000000  4692.000000  2065.000000   \n\n       LowQualFinSF    GrLivArea  BsmtFullBath  BsmtHalfBath     FullBath  \\\ncount   1460.000000  1460.000000   1460.000000   1460.000000  1460.000000   \nmean       5.844521  1515.463699      0.425342      0.057534     1.565068   \nstd       48.623081   525.480383      0.518911      0.238753     0.550916   \nmin        0.000000   334.000000      0.000000      0.000000     0.000000   \n25%        0.000000  1129.500000      0.000000      0.000000     1.000000   \n50%        0.000000  1464.000000      0.000000      0.000000     2.000000   \n75%        0.000000  1776.750000      1.000000      0.000000     2.000000   \nmax      572.000000  5642.000000      3.000000      2.000000     3.000000   \n\n          HalfBath  BedroomAbvGr  KitchenAbvGr  TotRmsAbvGrd   Fireplaces  \\\ncount  1460.000000   1460.000000   1460.000000   1460.000000  1460.000000   \nmean      0.382877      2.866438      1.046575      6.517808     0.613014   \nstd       0.502885      0.815778      0.220338      1.625393     0.644666   \nmin       0.000000      0.000000      0.000000      2.000000     0.000000   \n25%       0.000000      2.000000      1.000000      5.000000     0.000000   \n50%       0.000000      3.000000      1.000000      6.000000     1.000000   \n75%       1.000000      3.000000      1.000000      7.000000     1.000000   \nmax       2.000000      8.000000      3.000000     14.000000     3.000000   \n\n       GarageYrBlt   GarageCars   GarageArea   WoodDeckSF  OpenPorchSF  \\\ncount  1379.000000  1460.000000  1460.000000  1460.000000  1460.000000   \nmean   1978.506164     1.767123   472.980137    94.244521    46.660274   \nstd      24.689725     0.747315   213.804841   125.338794    66.256028   \nmin    1900.000000     0.000000     0.000000     0.000000     0.000000   \n25%    1961.000000     1.000000   334.500000     0.000000     0.000000   \n50%    1980.000000     2.000000   480.000000     0.000000    25.000000   \n75%    2002.000000     2.000000   576.000000   168.000000    68.000000   \nmax    2010.000000     4.000000  1418.000000   857.000000   547.000000   \n\n       EnclosedPorch    3SsnPorch  ScreenPorch     PoolArea       MiscVal  \\\ncount    1460.000000  1460.000000  1460.000000  1460.000000   1460.000000   \nmean       21.954110     3.409589    15.060959     2.758904     43.489041   \nstd        61.119149    29.317331    55.757415    40.177307    496.123024   \nmin         0.000000     0.000000     0.000000     0.000000      0.000000   \n25%         0.000000     0.000000     0.000000     0.000000      0.000000   \n50%         0.000000     0.000000     0.000000     0.000000      0.000000   \n75%         0.000000     0.000000     0.000000     0.000000      0.000000   \nmax       552.000000   508.000000   480.000000   738.000000  15500.000000   \n\n            MoSold       YrSold      SalePrice  \ncount  1460.000000  1460.000000    1460.000000  \nmean      6.321918  2007.815753  180921.195890  \nstd       2.703626     1.328095   79442.502883  \nmin       1.000000  2006.000000   34900.000000  \n25%       5.000000  2007.000000  129975.000000  \n50%       6.000000  2008.000000  163000.000000  \n75%       8.000000  2009.000000  214000.000000  \nmax      12.000000  2010.000000  755000.000000  ",
      "text/html": "<div>\n<style scoped>\n    .dataframe tbody tr th:only-of-type {\n        vertical-align: middle;\n    }\n\n    .dataframe tbody tr th {\n        vertical-align: top;\n    }\n\n    .dataframe thead th {\n        text-align: right;\n    }\n</style>\n<table border=\"1\" class=\"dataframe\">\n  <thead>\n    <tr style=\"text-align: right;\">\n      <th></th>\n      <th>Id</th>\n      <th>MSSubClass</th>\n      <th>LotFrontage</th>\n      <th>LotArea</th>\n      <th>OverallQual</th>\n      <th>OverallCond</th>\n      <th>YearBuilt</th>\n      <th>YearRemodAdd</th>\n      <th>MasVnrArea</th>\n      <th>BsmtFinSF1</th>\n      <th>BsmtFinSF2</th>\n      <th>BsmtUnfSF</th>\n      <th>TotalBsmtSF</th>\n      <th>1stFlrSF</th>\n      <th>2ndFlrSF</th>\n      <th>LowQualFinSF</th>\n      <th>GrLivArea</th>\n      <th>BsmtFullBath</th>\n      <th>BsmtHalfBath</th>\n      <th>FullBath</th>\n      <th>HalfBath</th>\n      <th>BedroomAbvGr</th>\n      <th>KitchenAbvGr</th>\n      <th>TotRmsAbvGrd</th>\n      <th>Fireplaces</th>\n      <th>GarageYrBlt</th>\n      <th>GarageCars</th>\n      <th>GarageArea</th>\n      <th>WoodDeckSF</th>\n      <th>OpenPorchSF</th>\n      <th>EnclosedPorch</th>\n      <th>3SsnPorch</th>\n      <th>ScreenPorch</th>\n      <th>PoolArea</th>\n      <th>MiscVal</th>\n      <th>MoSold</th>\n      <th>YrSold</th>\n      <th>SalePrice</th>\n    </tr>\n  </thead>\n  <tbody>\n    <tr>\n      <th>count</th>\n      <td>1460.000000</td>\n      <td>1460.000000</td>\n      <td>1201.000000</td>\n      <td>1460.000000</td>\n      <td>1460.000000</td>\n      <td>1460.000000</td>\n      <td>1460.000000</td>\n      <td>1460.000000</td>\n      <td>1452.000000</td>\n      <td>1460.000000</td>\n      <td>1460.000000</td>\n      <td>1460.000000</td>\n      <td>1460.000000</td>\n      <td>1460.000000</td>\n      <td>1460.000000</td>\n      <td>1460.000000</td>\n      <td>1460.000000</td>\n      <td>1460.000000</td>\n      <td>1460.000000</td>\n      <td>1460.000000</td>\n      <td>1460.000000</td>\n      <td>1460.000000</td>\n      <td>1460.000000</td>\n      <td>1460.000000</td>\n      <td>1460.000000</td>\n      <td>1379.000000</td>\n      <td>1460.000000</td>\n      <td>1460.000000</td>\n      <td>1460.000000</td>\n      <td>1460.000000</td>\n      <td>1460.000000</td>\n      <td>1460.000000</td>\n      <td>1460.000000</td>\n      <td>1460.000000</td>\n      <td>1460.000000</td>\n      <td>1460.000000</td>\n      <td>1460.000000</td>\n      <td>1460.000000</td>\n    </tr>\n    <tr>\n      <th>mean</th>\n      <td>730.500000</td>\n      <td>56.897260</td>\n      <td>70.049958</td>\n      <td>10516.828082</td>\n      <td>6.099315</td>\n      <td>5.575342</td>\n      <td>1971.267808</td>\n      <td>1984.865753</td>\n      <td>103.685262</td>\n      <td>443.639726</td>\n      <td>46.549315</td>\n      <td>567.240411</td>\n      <td>1057.429452</td>\n      <td>1162.626712</td>\n      <td>346.992466</td>\n      <td>5.844521</td>\n      <td>1515.463699</td>\n      <td>0.425342</td>\n      <td>0.057534</td>\n      <td>1.565068</td>\n      <td>0.382877</td>\n      <td>2.866438</td>\n      <td>1.046575</td>\n      <td>6.517808</td>\n      <td>0.613014</td>\n      <td>1978.506164</td>\n      <td>1.767123</td>\n      <td>472.980137</td>\n      <td>94.244521</td>\n      <td>46.660274</td>\n      <td>21.954110</td>\n      <td>3.409589</td>\n      <td>15.060959</td>\n      <td>2.758904</td>\n      <td>43.489041</td>\n      <td>6.321918</td>\n      <td>2007.815753</td>\n      <td>180921.195890</td>\n    </tr>\n    <tr>\n      <th>std</th>\n      <td>421.610009</td>\n      <td>42.300571</td>\n      <td>24.284752</td>\n      <td>9981.264932</td>\n      <td>1.382997</td>\n      <td>1.112799</td>\n      <td>30.202904</td>\n      <td>20.645407</td>\n      <td>181.066207</td>\n      <td>456.098091</td>\n      <td>161.319273</td>\n      <td>441.866955</td>\n      <td>438.705324</td>\n      <td>386.587738</td>\n      <td>436.528436</td>\n      <td>48.623081</td>\n      <td>525.480383</td>\n      <td>0.518911</td>\n      <td>0.238753</td>\n      <td>0.550916</td>\n      <td>0.502885</td>\n      <td>0.815778</td>\n      <td>0.220338</td>\n      <td>1.625393</td>\n      <td>0.644666</td>\n      <td>24.689725</td>\n      <td>0.747315</td>\n      <td>213.804841</td>\n      <td>125.338794</td>\n      <td>66.256028</td>\n      <td>61.119149</td>\n      <td>29.317331</td>\n      <td>55.757415</td>\n      <td>40.177307</td>\n      <td>496.123024</td>\n      <td>2.703626</td>\n      <td>1.328095</td>\n      <td>79442.502883</td>\n    </tr>\n    <tr>\n      <th>min</th>\n      <td>1.000000</td>\n      <td>20.000000</td>\n      <td>21.000000</td>\n      <td>1300.000000</td>\n      <td>1.000000</td>\n      <td>1.000000</td>\n      <td>1872.000000</td>\n      <td>1950.000000</td>\n      <td>0.000000</td>\n      <td>0.000000</td>\n      <td>0.000000</td>\n      <td>0.000000</td>\n      <td>0.000000</td>\n      <td>334.000000</td>\n      <td>0.000000</td>\n      <td>0.000000</td>\n      <td>334.000000</td>\n      <td>0.000000</td>\n      <td>0.000000</td>\n      <td>0.000000</td>\n      <td>0.000000</td>\n      <td>0.000000</td>\n      <td>0.000000</td>\n      <td>2.000000</td>\n      <td>0.000000</td>\n      <td>1900.000000</td>\n      <td>0.000000</td>\n      <td>0.000000</td>\n      <td>0.000000</td>\n      <td>0.000000</td>\n      <td>0.000000</td>\n      <td>0.000000</td>\n      <td>0.000000</td>\n      <td>0.000000</td>\n      <td>0.000000</td>\n      <td>1.000000</td>\n      <td>2006.000000</td>\n      <td>34900.000000</td>\n    </tr>\n    <tr>\n      <th>25%</th>\n      <td>365.750000</td>\n      <td>20.000000</td>\n      <td>59.000000</td>\n      <td>7553.500000</td>\n      <td>5.000000</td>\n      <td>5.000000</td>\n      <td>1954.000000</td>\n      <td>1967.000000</td>\n      <td>0.000000</td>\n      <td>0.000000</td>\n      <td>0.000000</td>\n      <td>223.000000</td>\n      <td>795.750000</td>\n      <td>882.000000</td>\n      <td>0.000000</td>\n      <td>0.000000</td>\n      <td>1129.500000</td>\n      <td>0.000000</td>\n      <td>0.000000</td>\n      <td>1.000000</td>\n      <td>0.000000</td>\n      <td>2.000000</td>\n      <td>1.000000</td>\n      <td>5.000000</td>\n      <td>0.000000</td>\n      <td>1961.000000</td>\n      <td>1.000000</td>\n      <td>334.500000</td>\n      <td>0.000000</td>\n      <td>0.000000</td>\n      <td>0.000000</td>\n      <td>0.000000</td>\n      <td>0.000000</td>\n      <td>0.000000</td>\n      <td>0.000000</td>\n      <td>5.000000</td>\n      <td>2007.000000</td>\n      <td>129975.000000</td>\n    </tr>\n    <tr>\n      <th>50%</th>\n      <td>730.500000</td>\n      <td>50.000000</td>\n      <td>69.000000</td>\n      <td>9478.500000</td>\n      <td>6.000000</td>\n      <td>5.000000</td>\n      <td>1973.000000</td>\n      <td>1994.000000</td>\n      <td>0.000000</td>\n      <td>383.500000</td>\n      <td>0.000000</td>\n      <td>477.500000</td>\n      <td>991.500000</td>\n      <td>1087.000000</td>\n      <td>0.000000</td>\n      <td>0.000000</td>\n      <td>1464.000000</td>\n      <td>0.000000</td>\n      <td>0.000000</td>\n      <td>2.000000</td>\n      <td>0.000000</td>\n      <td>3.000000</td>\n      <td>1.000000</td>\n      <td>6.000000</td>\n      <td>1.000000</td>\n      <td>1980.000000</td>\n      <td>2.000000</td>\n      <td>480.000000</td>\n      <td>0.000000</td>\n      <td>25.000000</td>\n      <td>0.000000</td>\n      <td>0.000000</td>\n      <td>0.000000</td>\n      <td>0.000000</td>\n      <td>0.000000</td>\n      <td>6.000000</td>\n      <td>2008.000000</td>\n      <td>163000.000000</td>\n    </tr>\n    <tr>\n      <th>75%</th>\n      <td>1095.250000</td>\n      <td>70.000000</td>\n      <td>80.000000</td>\n      <td>11601.500000</td>\n      <td>7.000000</td>\n      <td>6.000000</td>\n      <td>2000.000000</td>\n      <td>2004.000000</td>\n      <td>166.000000</td>\n      <td>712.250000</td>\n      <td>0.000000</td>\n      <td>808.000000</td>\n      <td>1298.250000</td>\n      <td>1391.250000</td>\n      <td>728.000000</td>\n      <td>0.000000</td>\n      <td>1776.750000</td>\n      <td>1.000000</td>\n      <td>0.000000</td>\n      <td>2.000000</td>\n      <td>1.000000</td>\n      <td>3.000000</td>\n      <td>1.000000</td>\n      <td>7.000000</td>\n      <td>1.000000</td>\n      <td>2002.000000</td>\n      <td>2.000000</td>\n      <td>576.000000</td>\n      <td>168.000000</td>\n      <td>68.000000</td>\n      <td>0.000000</td>\n      <td>0.000000</td>\n      <td>0.000000</td>\n      <td>0.000000</td>\n      <td>0.000000</td>\n      <td>8.000000</td>\n      <td>2009.000000</td>\n      <td>214000.000000</td>\n    </tr>\n    <tr>\n      <th>max</th>\n      <td>1460.000000</td>\n      <td>190.000000</td>\n      <td>313.000000</td>\n      <td>215245.000000</td>\n      <td>10.000000</td>\n      <td>9.000000</td>\n      <td>2010.000000</td>\n      <td>2010.000000</td>\n      <td>1600.000000</td>\n      <td>5644.000000</td>\n      <td>1474.000000</td>\n      <td>2336.000000</td>\n      <td>6110.000000</td>\n      <td>4692.000000</td>\n      <td>2065.000000</td>\n      <td>572.000000</td>\n      <td>5642.000000</td>\n      <td>3.000000</td>\n      <td>2.000000</td>\n      <td>3.000000</td>\n      <td>2.000000</td>\n      <td>8.000000</td>\n      <td>3.000000</td>\n      <td>14.000000</td>\n      <td>3.000000</td>\n      <td>2010.000000</td>\n      <td>4.000000</td>\n      <td>1418.000000</td>\n      <td>857.000000</td>\n      <td>547.000000</td>\n      <td>552.000000</td>\n      <td>508.000000</td>\n      <td>480.000000</td>\n      <td>738.000000</td>\n      <td>15500.000000</td>\n      <td>12.000000</td>\n      <td>2010.000000</td>\n      <td>755000.000000</td>\n    </tr>\n  </tbody>\n</table>\n</div>"
     },
     "metadata": {}
    }
   ]
  },
  {
   "cell_type": "code",
   "source": [
    "X_test.describe()"
   ],
   "metadata": {
    "execution": {
     "iopub.status.busy": "2023-02-11T21:53:42.781320Z",
     "iopub.execute_input": "2023-02-11T21:53:42.782383Z",
     "iopub.status.idle": "2023-02-11T21:53:42.917851Z",
     "shell.execute_reply.started": "2023-02-11T21:53:42.782341Z",
     "shell.execute_reply": "2023-02-11T21:53:42.916745Z"
    },
    "trusted": true
   },
   "execution_count": 9,
   "outputs": [
    {
     "execution_count": 9,
     "output_type": "execute_result",
     "data": {
      "text/plain": "                Id   MSSubClass  LotFrontage       LotArea  OverallQual  \\\ncount  1459.000000  1459.000000  1232.000000   1459.000000  1459.000000   \nmean   2190.000000    57.378341    68.580357   9819.161069     6.078821   \nstd     421.321334    42.746880    22.376841   4955.517327     1.436812   \nmin    1461.000000    20.000000    21.000000   1470.000000     1.000000   \n25%    1825.500000    20.000000    58.000000   7391.000000     5.000000   \n50%    2190.000000    50.000000    67.000000   9399.000000     6.000000   \n75%    2554.500000    70.000000    80.000000  11517.500000     7.000000   \nmax    2919.000000   190.000000   200.000000  56600.000000    10.000000   \n\n       OverallCond    YearBuilt  YearRemodAdd   MasVnrArea   BsmtFinSF1  \\\ncount  1459.000000  1459.000000   1459.000000  1444.000000  1458.000000   \nmean      5.553804  1971.357779   1983.662783   100.709141   439.203704   \nstd       1.113740    30.390071     21.130467   177.625900   455.268042   \nmin       1.000000  1879.000000   1950.000000     0.000000     0.000000   \n25%       5.000000  1953.000000   1963.000000     0.000000     0.000000   \n50%       5.000000  1973.000000   1992.000000     0.000000   350.500000   \n75%       6.000000  2001.000000   2004.000000   164.000000   753.500000   \nmax       9.000000  2010.000000   2010.000000  1290.000000  4010.000000   \n\n        BsmtFinSF2    BsmtUnfSF  TotalBsmtSF     1stFlrSF     2ndFlrSF  \\\ncount  1458.000000  1458.000000  1458.000000  1459.000000  1459.000000   \nmean     52.619342   554.294925  1046.117970  1156.534613   325.967786   \nstd     176.753926   437.260486   442.898624   398.165820   420.610226   \nmin       0.000000     0.000000     0.000000   407.000000     0.000000   \n25%       0.000000   219.250000   784.000000   873.500000     0.000000   \n50%       0.000000   460.000000   988.000000  1079.000000     0.000000   \n75%       0.000000   797.750000  1305.000000  1382.500000   676.000000   \nmax    1526.000000  2140.000000  5095.000000  5095.000000  1862.000000   \n\n       LowQualFinSF    GrLivArea  BsmtFullBath  BsmtHalfBath     FullBath  \\\ncount   1459.000000  1459.000000   1457.000000   1457.000000  1459.000000   \nmean       3.543523  1486.045922      0.434454      0.065202     1.570939   \nstd       44.043251   485.566099      0.530648      0.252468     0.555190   \nmin        0.000000   407.000000      0.000000      0.000000     0.000000   \n25%        0.000000  1117.500000      0.000000      0.000000     1.000000   \n50%        0.000000  1432.000000      0.000000      0.000000     2.000000   \n75%        0.000000  1721.000000      1.000000      0.000000     2.000000   \nmax     1064.000000  5095.000000      3.000000      2.000000     4.000000   \n\n          HalfBath  BedroomAbvGr  KitchenAbvGr  TotRmsAbvGrd  Fireplaces  \\\ncount  1459.000000   1459.000000   1459.000000   1459.000000  1459.00000   \nmean      0.377656      2.854010      1.042495      6.385195     0.58122   \nstd       0.503017      0.829788      0.208472      1.508895     0.64742   \nmin       0.000000      0.000000      0.000000      3.000000     0.00000   \n25%       0.000000      2.000000      1.000000      5.000000     0.00000   \n50%       0.000000      3.000000      1.000000      6.000000     0.00000   \n75%       1.000000      3.000000      1.000000      7.000000     1.00000   \nmax       2.000000      6.000000      2.000000     15.000000     4.00000   \n\n       GarageYrBlt   GarageCars   GarageArea   WoodDeckSF  OpenPorchSF  \\\ncount  1381.000000  1458.000000  1458.000000  1459.000000  1459.000000   \nmean   1977.721217     1.766118   472.768861    93.174777    48.313914   \nstd      26.431175     0.775945   217.048611   127.744882    68.883364   \nmin    1895.000000     0.000000     0.000000     0.000000     0.000000   \n25%    1959.000000     1.000000   318.000000     0.000000     0.000000   \n50%    1979.000000     2.000000   480.000000     0.000000    28.000000   \n75%    2002.000000     2.000000   576.000000   168.000000    72.000000   \nmax    2207.000000     5.000000  1488.000000  1424.000000   742.000000   \n\n       EnclosedPorch    3SsnPorch  ScreenPorch     PoolArea       MiscVal  \\\ncount    1459.000000  1459.000000  1459.000000  1459.000000   1459.000000   \nmean       24.243317     1.794380    17.064428     1.744345     58.167923   \nstd        67.227765    20.207842    56.609763    30.491646    630.806978   \nmin         0.000000     0.000000     0.000000     0.000000      0.000000   \n25%         0.000000     0.000000     0.000000     0.000000      0.000000   \n50%         0.000000     0.000000     0.000000     0.000000      0.000000   \n75%         0.000000     0.000000     0.000000     0.000000      0.000000   \nmax      1012.000000   360.000000   576.000000   800.000000  17000.000000   \n\n            MoSold       YrSold  \ncount  1459.000000  1459.000000  \nmean      6.104181  2007.769705  \nstd       2.722432     1.301740  \nmin       1.000000  2006.000000  \n25%       4.000000  2007.000000  \n50%       6.000000  2008.000000  \n75%       8.000000  2009.000000  \nmax      12.000000  2010.000000  ",
      "text/html": "<div>\n<style scoped>\n    .dataframe tbody tr th:only-of-type {\n        vertical-align: middle;\n    }\n\n    .dataframe tbody tr th {\n        vertical-align: top;\n    }\n\n    .dataframe thead th {\n        text-align: right;\n    }\n</style>\n<table border=\"1\" class=\"dataframe\">\n  <thead>\n    <tr style=\"text-align: right;\">\n      <th></th>\n      <th>Id</th>\n      <th>MSSubClass</th>\n      <th>LotFrontage</th>\n      <th>LotArea</th>\n      <th>OverallQual</th>\n      <th>OverallCond</th>\n      <th>YearBuilt</th>\n      <th>YearRemodAdd</th>\n      <th>MasVnrArea</th>\n      <th>BsmtFinSF1</th>\n      <th>BsmtFinSF2</th>\n      <th>BsmtUnfSF</th>\n      <th>TotalBsmtSF</th>\n      <th>1stFlrSF</th>\n      <th>2ndFlrSF</th>\n      <th>LowQualFinSF</th>\n      <th>GrLivArea</th>\n      <th>BsmtFullBath</th>\n      <th>BsmtHalfBath</th>\n      <th>FullBath</th>\n      <th>HalfBath</th>\n      <th>BedroomAbvGr</th>\n      <th>KitchenAbvGr</th>\n      <th>TotRmsAbvGrd</th>\n      <th>Fireplaces</th>\n      <th>GarageYrBlt</th>\n      <th>GarageCars</th>\n      <th>GarageArea</th>\n      <th>WoodDeckSF</th>\n      <th>OpenPorchSF</th>\n      <th>EnclosedPorch</th>\n      <th>3SsnPorch</th>\n      <th>ScreenPorch</th>\n      <th>PoolArea</th>\n      <th>MiscVal</th>\n      <th>MoSold</th>\n      <th>YrSold</th>\n    </tr>\n  </thead>\n  <tbody>\n    <tr>\n      <th>count</th>\n      <td>1459.000000</td>\n      <td>1459.000000</td>\n      <td>1232.000000</td>\n      <td>1459.000000</td>\n      <td>1459.000000</td>\n      <td>1459.000000</td>\n      <td>1459.000000</td>\n      <td>1459.000000</td>\n      <td>1444.000000</td>\n      <td>1458.000000</td>\n      <td>1458.000000</td>\n      <td>1458.000000</td>\n      <td>1458.000000</td>\n      <td>1459.000000</td>\n      <td>1459.000000</td>\n      <td>1459.000000</td>\n      <td>1459.000000</td>\n      <td>1457.000000</td>\n      <td>1457.000000</td>\n      <td>1459.000000</td>\n      <td>1459.000000</td>\n      <td>1459.000000</td>\n      <td>1459.000000</td>\n      <td>1459.000000</td>\n      <td>1459.00000</td>\n      <td>1381.000000</td>\n      <td>1458.000000</td>\n      <td>1458.000000</td>\n      <td>1459.000000</td>\n      <td>1459.000000</td>\n      <td>1459.000000</td>\n      <td>1459.000000</td>\n      <td>1459.000000</td>\n      <td>1459.000000</td>\n      <td>1459.000000</td>\n      <td>1459.000000</td>\n      <td>1459.000000</td>\n    </tr>\n    <tr>\n      <th>mean</th>\n      <td>2190.000000</td>\n      <td>57.378341</td>\n      <td>68.580357</td>\n      <td>9819.161069</td>\n      <td>6.078821</td>\n      <td>5.553804</td>\n      <td>1971.357779</td>\n      <td>1983.662783</td>\n      <td>100.709141</td>\n      <td>439.203704</td>\n      <td>52.619342</td>\n      <td>554.294925</td>\n      <td>1046.117970</td>\n      <td>1156.534613</td>\n      <td>325.967786</td>\n      <td>3.543523</td>\n      <td>1486.045922</td>\n      <td>0.434454</td>\n      <td>0.065202</td>\n      <td>1.570939</td>\n      <td>0.377656</td>\n      <td>2.854010</td>\n      <td>1.042495</td>\n      <td>6.385195</td>\n      <td>0.58122</td>\n      <td>1977.721217</td>\n      <td>1.766118</td>\n      <td>472.768861</td>\n      <td>93.174777</td>\n      <td>48.313914</td>\n      <td>24.243317</td>\n      <td>1.794380</td>\n      <td>17.064428</td>\n      <td>1.744345</td>\n      <td>58.167923</td>\n      <td>6.104181</td>\n      <td>2007.769705</td>\n    </tr>\n    <tr>\n      <th>std</th>\n      <td>421.321334</td>\n      <td>42.746880</td>\n      <td>22.376841</td>\n      <td>4955.517327</td>\n      <td>1.436812</td>\n      <td>1.113740</td>\n      <td>30.390071</td>\n      <td>21.130467</td>\n      <td>177.625900</td>\n      <td>455.268042</td>\n      <td>176.753926</td>\n      <td>437.260486</td>\n      <td>442.898624</td>\n      <td>398.165820</td>\n      <td>420.610226</td>\n      <td>44.043251</td>\n      <td>485.566099</td>\n      <td>0.530648</td>\n      <td>0.252468</td>\n      <td>0.555190</td>\n      <td>0.503017</td>\n      <td>0.829788</td>\n      <td>0.208472</td>\n      <td>1.508895</td>\n      <td>0.64742</td>\n      <td>26.431175</td>\n      <td>0.775945</td>\n      <td>217.048611</td>\n      <td>127.744882</td>\n      <td>68.883364</td>\n      <td>67.227765</td>\n      <td>20.207842</td>\n      <td>56.609763</td>\n      <td>30.491646</td>\n      <td>630.806978</td>\n      <td>2.722432</td>\n      <td>1.301740</td>\n    </tr>\n    <tr>\n      <th>min</th>\n      <td>1461.000000</td>\n      <td>20.000000</td>\n      <td>21.000000</td>\n      <td>1470.000000</td>\n      <td>1.000000</td>\n      <td>1.000000</td>\n      <td>1879.000000</td>\n      <td>1950.000000</td>\n      <td>0.000000</td>\n      <td>0.000000</td>\n      <td>0.000000</td>\n      <td>0.000000</td>\n      <td>0.000000</td>\n      <td>407.000000</td>\n      <td>0.000000</td>\n      <td>0.000000</td>\n      <td>407.000000</td>\n      <td>0.000000</td>\n      <td>0.000000</td>\n      <td>0.000000</td>\n      <td>0.000000</td>\n      <td>0.000000</td>\n      <td>0.000000</td>\n      <td>3.000000</td>\n      <td>0.00000</td>\n      <td>1895.000000</td>\n      <td>0.000000</td>\n      <td>0.000000</td>\n      <td>0.000000</td>\n      <td>0.000000</td>\n      <td>0.000000</td>\n      <td>0.000000</td>\n      <td>0.000000</td>\n      <td>0.000000</td>\n      <td>0.000000</td>\n      <td>1.000000</td>\n      <td>2006.000000</td>\n    </tr>\n    <tr>\n      <th>25%</th>\n      <td>1825.500000</td>\n      <td>20.000000</td>\n      <td>58.000000</td>\n      <td>7391.000000</td>\n      <td>5.000000</td>\n      <td>5.000000</td>\n      <td>1953.000000</td>\n      <td>1963.000000</td>\n      <td>0.000000</td>\n      <td>0.000000</td>\n      <td>0.000000</td>\n      <td>219.250000</td>\n      <td>784.000000</td>\n      <td>873.500000</td>\n      <td>0.000000</td>\n      <td>0.000000</td>\n      <td>1117.500000</td>\n      <td>0.000000</td>\n      <td>0.000000</td>\n      <td>1.000000</td>\n      <td>0.000000</td>\n      <td>2.000000</td>\n      <td>1.000000</td>\n      <td>5.000000</td>\n      <td>0.00000</td>\n      <td>1959.000000</td>\n      <td>1.000000</td>\n      <td>318.000000</td>\n      <td>0.000000</td>\n      <td>0.000000</td>\n      <td>0.000000</td>\n      <td>0.000000</td>\n      <td>0.000000</td>\n      <td>0.000000</td>\n      <td>0.000000</td>\n      <td>4.000000</td>\n      <td>2007.000000</td>\n    </tr>\n    <tr>\n      <th>50%</th>\n      <td>2190.000000</td>\n      <td>50.000000</td>\n      <td>67.000000</td>\n      <td>9399.000000</td>\n      <td>6.000000</td>\n      <td>5.000000</td>\n      <td>1973.000000</td>\n      <td>1992.000000</td>\n      <td>0.000000</td>\n      <td>350.500000</td>\n      <td>0.000000</td>\n      <td>460.000000</td>\n      <td>988.000000</td>\n      <td>1079.000000</td>\n      <td>0.000000</td>\n      <td>0.000000</td>\n      <td>1432.000000</td>\n      <td>0.000000</td>\n      <td>0.000000</td>\n      <td>2.000000</td>\n      <td>0.000000</td>\n      <td>3.000000</td>\n      <td>1.000000</td>\n      <td>6.000000</td>\n      <td>0.00000</td>\n      <td>1979.000000</td>\n      <td>2.000000</td>\n      <td>480.000000</td>\n      <td>0.000000</td>\n      <td>28.000000</td>\n      <td>0.000000</td>\n      <td>0.000000</td>\n      <td>0.000000</td>\n      <td>0.000000</td>\n      <td>0.000000</td>\n      <td>6.000000</td>\n      <td>2008.000000</td>\n    </tr>\n    <tr>\n      <th>75%</th>\n      <td>2554.500000</td>\n      <td>70.000000</td>\n      <td>80.000000</td>\n      <td>11517.500000</td>\n      <td>7.000000</td>\n      <td>6.000000</td>\n      <td>2001.000000</td>\n      <td>2004.000000</td>\n      <td>164.000000</td>\n      <td>753.500000</td>\n      <td>0.000000</td>\n      <td>797.750000</td>\n      <td>1305.000000</td>\n      <td>1382.500000</td>\n      <td>676.000000</td>\n      <td>0.000000</td>\n      <td>1721.000000</td>\n      <td>1.000000</td>\n      <td>0.000000</td>\n      <td>2.000000</td>\n      <td>1.000000</td>\n      <td>3.000000</td>\n      <td>1.000000</td>\n      <td>7.000000</td>\n      <td>1.00000</td>\n      <td>2002.000000</td>\n      <td>2.000000</td>\n      <td>576.000000</td>\n      <td>168.000000</td>\n      <td>72.000000</td>\n      <td>0.000000</td>\n      <td>0.000000</td>\n      <td>0.000000</td>\n      <td>0.000000</td>\n      <td>0.000000</td>\n      <td>8.000000</td>\n      <td>2009.000000</td>\n    </tr>\n    <tr>\n      <th>max</th>\n      <td>2919.000000</td>\n      <td>190.000000</td>\n      <td>200.000000</td>\n      <td>56600.000000</td>\n      <td>10.000000</td>\n      <td>9.000000</td>\n      <td>2010.000000</td>\n      <td>2010.000000</td>\n      <td>1290.000000</td>\n      <td>4010.000000</td>\n      <td>1526.000000</td>\n      <td>2140.000000</td>\n      <td>5095.000000</td>\n      <td>5095.000000</td>\n      <td>1862.000000</td>\n      <td>1064.000000</td>\n      <td>5095.000000</td>\n      <td>3.000000</td>\n      <td>2.000000</td>\n      <td>4.000000</td>\n      <td>2.000000</td>\n      <td>6.000000</td>\n      <td>2.000000</td>\n      <td>15.000000</td>\n      <td>4.00000</td>\n      <td>2207.000000</td>\n      <td>5.000000</td>\n      <td>1488.000000</td>\n      <td>1424.000000</td>\n      <td>742.000000</td>\n      <td>1012.000000</td>\n      <td>360.000000</td>\n      <td>576.000000</td>\n      <td>800.000000</td>\n      <td>17000.000000</td>\n      <td>12.000000</td>\n      <td>2010.000000</td>\n    </tr>\n  </tbody>\n</table>\n</div>"
     },
     "metadata": {}
    }
   ]
  },
  {
   "cell_type": "markdown",
   "source": [
    "## **4.Preprocessing**"
   ],
   "metadata": {}
  },
  {
   "cell_type": "code",
   "source": [
    "lotFrontagemedian = df_train.LotFrontage.median()\n",
    "df_train.LotFrontage.fillna(lotFrontagemedian, inplace=True)"
   ],
   "metadata": {
    "execution": {
     "iopub.status.busy": "2023-02-11T21:54:26.498021Z",
     "iopub.execute_input": "2023-02-11T21:54:26.498431Z",
     "iopub.status.idle": "2023-02-11T21:54:26.504329Z",
     "shell.execute_reply.started": "2023-02-11T21:54:26.498398Z",
     "shell.execute_reply": "2023-02-11T21:54:26.503504Z"
    },
    "trusted": true
   },
   "execution_count": 11,
   "outputs": []
  },
  {
   "cell_type": "code",
   "source": [
    "lotFrontagemedian = X_test.LotFrontage.median()\n",
    "X_test.LotFrontage.fillna(lotFrontagemedian, inplace=True)\n",
    "print(X_test.LotFrontage.isnull().sum())"
   ],
   "metadata": {
    "execution": {
     "iopub.status.busy": "2023-02-11T21:54:34.066471Z",
     "iopub.execute_input": "2023-02-11T21:54:34.066893Z",
     "iopub.status.idle": "2023-02-11T21:54:34.074336Z",
     "shell.execute_reply.started": "2023-02-11T21:54:34.066857Z",
     "shell.execute_reply": "2023-02-11T21:54:34.073509Z"
    },
    "trusted": true
   },
   "execution_count": 12,
   "outputs": [
    {
     "name": "stdout",
     "text": "Foi encontrado um total de 0 valores nulos na coluna LotFrontage dos dados de Teste\n",
     "output_type": "stream"
    }
   ]
  },
  {
   "cell_type": "code",
   "source": [
    "garage = ['GarageCond','GarageType','GarageFinish','GarageQual', \"Alley\"]\n",
    "categoric_imput = SimpleImputer(strategy='constant', fill_value=\"NA\")\n",
    "df_train[garage] = pd.DataFrame(categoric_imput.fit_transform(df_train[garage]),columns=garage)\n",
    "df_train[\"GarageYrBlt\"].fillna(0, inplace=True)\n",
    "X_test[garage] = pd.DataFrame(categoric_imput.fit_transform(X_test[garage]),columns=garage)\n",
    "X_test[\"GarageYrBlt\"].fillna(0, inplace=True)"
   ],
   "metadata": {
    "execution": {
     "iopub.status.busy": "2023-02-11T21:54:47.369864Z",
     "iopub.execute_input": "2023-02-11T21:54:47.370449Z",
     "iopub.status.idle": "2023-02-11T21:54:47.390828Z",
     "shell.execute_reply.started": "2023-02-11T21:54:47.370392Z",
     "shell.execute_reply": "2023-02-11T21:54:47.389915Z"
    },
    "trusted": true
   },
   "execution_count": 13,
   "outputs": []
  },
  {
   "cell_type": "code",
   "source": [
    "garage = ['GarageCond','GarageType','GarageFinish','GarageQual', \"Alley\"]\n",
    "categoric_imput = SimpleImputer(strategy='constant', fill_value=\"NA\")\n",
    "df_train[garage] = pd.DataFrame(categoric_imput.fit_transform(df_train[garage]),columns=garage)\n",
    "df_train[\"GarageYrBlt\"].fillna(0, inplace=True)\n",
    "X_test[garage] = pd.DataFrame(categoric_imput.fit_transform(X_test[garage]),columns=garage)\n",
    "X_test[\"GarageYrBlt\"].fillna(0, inplace=True)\n",
    "df_train.GarageCars.fillna(0, inplace=True)\n",
    "df_train.GarageArea.fillna(0, inplace=True)\n",
    "X_test.GarageCars.fillna(0, inplace=True)\n",
    "X_test.GarageArea.fillna(0, inplace=True)"
   ],
   "metadata": {
    "execution": {
     "iopub.status.busy": "2023-02-11T21:55:30.775071Z",
     "iopub.execute_input": "2023-02-11T21:55:30.775509Z",
     "iopub.status.idle": "2023-02-11T21:55:30.797143Z",
     "shell.execute_reply.started": "2023-02-11T21:55:30.775478Z",
     "shell.execute_reply": "2023-02-11T21:55:30.796188Z"
    },
    "trusted": true
   },
   "execution_count": 14,
   "outputs": []
  },
  {
   "cell_type": "code",
   "source": [
    "basement = [\"BsmtCond\", \"BsmtExposure\", \"BsmtQual\", \"BsmtFinType2\", \"BsmtFinType1\"]\n",
    "categoric_imput = SimpleImputer(strategy='constant', fill_value=\"NA\")\n",
    "df_train[basement] = pd.DataFrame(categoric_imput.fit_transform(df_train[basement]),columns=basement)\n",
    "X_test[basement] = pd.DataFrame(categoric_imput.fit_transform(X_test[basement]),columns=basement)"
   ],
   "metadata": {
    "execution": {
     "iopub.status.busy": "2023-02-11T21:55:41.007823Z",
     "iopub.execute_input": "2023-02-11T21:55:41.008287Z",
     "iopub.status.idle": "2023-02-11T21:55:41.027598Z",
     "shell.execute_reply.started": "2023-02-11T21:55:41.008251Z",
     "shell.execute_reply": "2023-02-11T21:55:41.026371Z"
    },
    "trusted": true
   },
   "execution_count": 15,
   "outputs": []
  },
  {
   "cell_type": "code",
   "source": [
    "df_train.PoolQC.fillna(\"NA\", inplace=True)\n",
    "X_test.PoolQC.fillna(\"NA\", inplace=True)"
   ],
   "metadata": {
    "execution": {
     "iopub.status.busy": "2023-02-11T21:55:46.667734Z",
     "iopub.execute_input": "2023-02-11T21:55:46.668109Z",
     "iopub.status.idle": "2023-02-11T21:55:46.674642Z",
     "shell.execute_reply.started": "2023-02-11T21:55:46.668078Z",
     "shell.execute_reply": "2023-02-11T21:55:46.673559Z"
    },
    "trusted": true
   },
   "execution_count": 16,
   "outputs": []
  },
  {
   "cell_type": "code",
   "source": [
    "df_train.MiscFeature.fillna(\"NA\", inplace=True)\n",
    "X_test.MiscFeature.fillna(\"NA\", inplace=True)"
   ],
   "metadata": {
    "execution": {
     "iopub.status.busy": "2023-02-11T21:55:52.842082Z",
     "iopub.execute_input": "2023-02-11T21:55:52.842846Z",
     "iopub.status.idle": "2023-02-11T21:55:52.849095Z",
     "shell.execute_reply.started": "2023-02-11T21:55:52.842800Z",
     "shell.execute_reply": "2023-02-11T21:55:52.848265Z"
    },
    "trusted": true
   },
   "execution_count": 17,
   "outputs": []
  },
  {
   "cell_type": "code",
   "source": [
    "df_train.Fence.fillna(\"NA\", inplace=True)\n",
    "X_test.Fence.fillna(\"NA\", inplace=True)"
   ],
   "metadata": {
    "execution": {
     "iopub.status.busy": "2023-02-11T21:55:57.351152Z",
     "iopub.execute_input": "2023-02-11T21:55:57.351925Z",
     "iopub.status.idle": "2023-02-11T21:55:57.358464Z",
     "shell.execute_reply.started": "2023-02-11T21:55:57.351887Z",
     "shell.execute_reply": "2023-02-11T21:55:57.357231Z"
    },
    "trusted": true
   },
   "execution_count": 18,
   "outputs": []
  },
  {
   "cell_type": "code",
   "source": [
    "df_train.FireplaceQu.fillna(\"NA\", inplace=True)\n",
    "X_test.FireplaceQu.fillna(\"NA\", inplace=True)"
   ],
   "metadata": {
    "execution": {
     "iopub.status.busy": "2023-02-11T21:56:15.135393Z",
     "iopub.execute_input": "2023-02-11T21:56:15.135794Z",
     "iopub.status.idle": "2023-02-11T21:56:15.142850Z",
     "shell.execute_reply.started": "2023-02-11T21:56:15.135764Z",
     "shell.execute_reply": "2023-02-11T21:56:15.141741Z"
    },
    "trusted": true
   },
   "execution_count": 19,
   "outputs": []
  },
  {
   "cell_type": "code",
   "source": [
    "y_train = df_train.SalePrice\n",
    "X_train = df_train.drop([\"SalePrice\"], axis=1)"
   ],
   "metadata": {
    "execution": {
     "iopub.status.busy": "2023-02-11T21:56:33.324229Z",
     "iopub.execute_input": "2023-02-11T21:56:33.324641Z",
     "iopub.status.idle": "2023-02-11T21:56:33.332142Z",
     "shell.execute_reply.started": "2023-02-11T21:56:33.324610Z",
     "shell.execute_reply": "2023-02-11T21:56:33.331062Z"
    },
    "trusted": true
   },
   "execution_count": 20,
   "outputs": []
  },
  {
   "cell_type": "code",
   "source": [
    "X_train.isnull().sum().sort_values(ascending=False).head(30)"
   ],
   "metadata": {
    "execution": {
     "iopub.status.busy": "2023-02-11T21:56:42.975724Z",
     "iopub.execute_input": "2023-02-11T21:56:42.976179Z",
     "iopub.status.idle": "2023-02-11T21:56:42.989823Z",
     "shell.execute_reply.started": "2023-02-11T21:56:42.976143Z",
     "shell.execute_reply": "2023-02-11T21:56:42.988742Z"
    },
    "trusted": true
   },
   "execution_count": 21,
   "outputs": [
    {
     "execution_count": 21,
     "output_type": "execute_result",
     "data": {
      "text/plain": "MasVnrType      8\nMasVnrArea      8\nElectrical      1\nGarageYrBlt     0\nFireplaceQu     0\nFireplaces      0\nFunctional      0\nTotRmsAbvGrd    0\nKitchenQual     0\nKitchenAbvGr    0\nBedroomAbvGr    0\nHalfBath        0\nFullBath        0\nBsmtHalfBath    0\nBsmtFullBath    0\nGrLivArea       0\nLowQualFinSF    0\n2ndFlrSF        0\n1stFlrSF        0\nGarageType      0\nId              0\nCentralAir      0\nGarageCars      0\nSaleType        0\nYrSold          0\nMoSold          0\nMiscVal         0\nMiscFeature     0\nFence           0\nPoolQC          0\ndtype: int64"
     },
     "metadata": {}
    }
   ]
  },
  {
   "cell_type": "code",
   "source": [
    "X_test.isnull().sum().sort_values(ascending=False).head(30)"
   ],
   "metadata": {
    "execution": {
     "iopub.status.busy": "2023-02-11T21:56:53.538011Z",
     "iopub.execute_input": "2023-02-11T21:56:53.538401Z",
     "iopub.status.idle": "2023-02-11T21:56:53.550869Z",
     "shell.execute_reply.started": "2023-02-11T21:56:53.538370Z",
     "shell.execute_reply": "2023-02-11T21:56:53.550114Z"
    },
    "trusted": true
   },
   "execution_count": 22,
   "outputs": [
    {
     "execution_count": 22,
     "output_type": "execute_result",
     "data": {
      "text/plain": "MasVnrType      16\nMasVnrArea      15\nMSZoning         4\nBsmtFullBath     2\nBsmtHalfBath     2\nFunctional       2\nUtilities        2\nBsmtFinSF2       1\nExterior1st      1\nKitchenQual      1\nBsmtFinSF1       1\nExterior2nd      1\nBsmtUnfSF        1\nTotalBsmtSF      1\nSaleType         1\nKitchenAbvGr     0\nBedroomAbvGr     0\nTotRmsAbvGrd     0\nHalfBath         0\nFireplaces       0\nFireplaceQu      0\nGarageType       0\nGarageYrBlt      0\nFullBath         0\nId               0\nGarageFinish     0\nLowQualFinSF     0\nScreenPorch      0\nYrSold           0\nMoSold           0\ndtype: int64"
     },
     "metadata": {}
    }
   ]
  },
  {
   "cell_type": "code",
   "source": [
    "\n",
    "categoric_columns = X_train.select_dtypes(include=['object']).columns\n",
    "numeric_columns = X_train.select_dtypes(include=['float64', 'int64']).columns\n",
    "\n",
    "\n",
    "categoric_imput = SimpleImputer(strategy='most_frequent')\n",
    "X_train[categoric_columns] = pd.DataFrame(categoric_imput.fit_transform(X_train[categoric_columns]),columns=categoric_columns)\n",
    "X_test[categoric_columns] = pd.DataFrame(categoric_imput.fit_transform(X_test[categoric_columns]),columns=categoric_columns)\n",
    "numeric_imput = SimpleImputer(strategy='median')\n",
    "X_train[numeric_columns] = pd.DataFrame(numeric_imput.fit_transform(X_train[numeric_columns]),columns=numeric_columns)\n",
    "X_test[numeric_columns] = pd.DataFrame(numeric_imput.fit_transform(X_test[numeric_columns]),columns=numeric_columns)\n"
   ],
   "metadata": {
    "execution": {
     "iopub.status.busy": "2023-02-11T21:57:02.035262Z",
     "iopub.execute_input": "2023-02-11T21:57:02.036570Z",
     "iopub.status.idle": "2023-02-11T21:57:02.118837Z",
     "shell.execute_reply.started": "2023-02-11T21:57:02.036513Z",
     "shell.execute_reply": "2023-02-11T21:57:02.117763Z"
    },
    "trusted": true
   },
   "execution_count": 23,
   "outputs": []
  },
  {
   "cell_type": "markdown",
   "source": [
    "## **5.Attributes**"
   ],
   "metadata": {}
  },
  {
   "cell_type": "code",
   "source": [
    "df = pd.concat([X_train, X_test], axis=0)"
   ],
   "metadata": {
    "execution": {
     "iopub.status.busy": "2023-02-11T21:57:37.105880Z",
     "iopub.execute_input": "2023-02-11T21:57:37.106458Z",
     "iopub.status.idle": "2023-02-11T21:57:37.131088Z",
     "shell.execute_reply.started": "2023-02-11T21:57:37.106412Z",
     "shell.execute_reply": "2023-02-11T21:57:37.129937Z"
    },
    "trusted": true
   },
   "execution_count": 24,
   "outputs": []
  },
  {
   "cell_type": "code",
   "source": [
    "street = {\"Grvl\":1, \n",
    "          \"Pave\":2}\n",
    "df[\"Street\"] = df[\"Street\"].map(street)\n",
    "\n",
    "alley = {\"NA\": 0,\n",
    "         \"Grvl\": 1,\n",
    "         \"Pave\": 2}\n",
    "df[\"Alley\"] = df[\"Alley\"].map(alley)\n",
    "\n",
    "\n",
    "lotShape = {\"IR3\": 0,\n",
    "            \"IR2\": 1,\n",
    "            \"IR1\": 2,\n",
    "            \"Reg\": 3}\n",
    "df[\"LotShape\"] = df[\"LotShape\"].map(lotShape)\n",
    "\n",
    "qualify = {\"NA\":0,\n",
    "         \"Po\":1,\n",
    "         \"Fa\":2,\n",
    "         \"TA\":3,\n",
    "         \"Gd\":4,\n",
    "         \"Ex\":5}\n",
    "cols = [\"ExterQual\", \"ExterCond\", \"BsmtQual\", \"BsmtCond\", \"HeatingQC\", \"KitchenQual\", \"FireplaceQu\", \"GarageQual\", \"GarageCond\", \"PoolQC\"]\n",
    "for col in cols:\n",
    "    df[col] = df[col].map(qualify)\n",
    "\n",
    "bsmtExposure = {\"NA\": 0,\n",
    "                \"Gd\":1,\n",
    "                \"Av\":2,\n",
    "                \"Mn\":3,\n",
    "                \"No\":4}\n",
    "df[\"BsmtExposure\"] = df[\"BsmtExposure\"].map(bsmtExposure)\n",
    "\n",
    "bsmtFin = {\"NA\":0,\n",
    "           \"Unf\":1,\n",
    "           \"LwQ\":2,\n",
    "           \"Rec\":3,\n",
    "           \"BLQ\":4,\n",
    "           \"ALQ\":5,\n",
    "           \"GLQ\":6}\n",
    "cols = [\"BsmtFinType1\", \"BsmtFinType2\"]\n",
    "for col in cols:\n",
    "    df[col] = df[col].map(bsmtFin)\n",
    "\n",
    "garagefinish = {\"NA\":0,\n",
    "                \"Unf\":1,\n",
    "                \"RFn\":2,\n",
    "                \"Fin\":3}\n",
    "df[\"GarageFinish\"] = df[\"GarageFinish\"].map(garagefinish)\n",
    "\n",
    "pavedDrive = {\"N\":0,\n",
    "              \"P\":1,\n",
    "              \"Y\":2}"
   ],
   "metadata": {
    "execution": {
     "iopub.status.busy": "2023-02-11T21:57:40.832964Z",
     "iopub.execute_input": "2023-02-11T21:57:40.833389Z",
     "iopub.status.idle": "2023-02-11T21:57:40.868400Z",
     "shell.execute_reply.started": "2023-02-11T21:57:40.833353Z",
     "shell.execute_reply": "2023-02-11T21:57:40.867247Z"
    },
    "trusted": true
   },
   "execution_count": 25,
   "outputs": []
  },
  {
   "cell_type": "code",
   "source": [
    "bath = [\"BsmtFullBath\", \"BsmtHalfBath\", \"FullBath\", \"HalfBath\"]\n",
    "df[\"Bath\"] = df.loc[:,bath].sum(axis=1)\n",
    "\n",
    "df.drop(bath, inplace=True, axis=1)"
   ],
   "metadata": {
    "execution": {
     "iopub.status.busy": "2023-02-11T21:57:47.652451Z",
     "iopub.execute_input": "2023-02-11T21:57:47.652890Z",
     "iopub.status.idle": "2023-02-11T21:57:47.670164Z",
     "shell.execute_reply.started": "2023-02-11T21:57:47.652846Z",
     "shell.execute_reply": "2023-02-11T21:57:47.669099Z"
    },
    "trusted": true
   },
   "execution_count": 26,
   "outputs": []
  },
  {
   "cell_type": "code",
   "source": [
    "categoric_columns = df.select_dtypes(include=['object']).columns\n",
    "numeric_columns = df.select_dtypes(include=['float64', 'int64']).columns"
   ],
   "metadata": {
    "execution": {
     "iopub.status.busy": "2023-02-11T21:57:52.978083Z",
     "iopub.execute_input": "2023-02-11T21:57:52.978481Z",
     "iopub.status.idle": "2023-02-11T21:57:52.988763Z",
     "shell.execute_reply.started": "2023-02-11T21:57:52.978450Z",
     "shell.execute_reply": "2023-02-11T21:57:52.987758Z"
    },
    "trusted": true
   },
   "execution_count": 27,
   "outputs": []
  },
  {
   "cell_type": "code",
   "source": [
    "df.reset_index(drop=True,inplace=True)"
   ],
   "metadata": {
    "execution": {
     "iopub.status.busy": "2023-02-11T21:57:59.002515Z",
     "iopub.execute_input": "2023-02-11T21:57:59.002946Z",
     "iopub.status.idle": "2023-02-11T21:57:59.008754Z",
     "shell.execute_reply.started": "2023-02-11T21:57:59.002912Z",
     "shell.execute_reply": "2023-02-11T21:57:59.007072Z"
    },
    "trusted": true
   },
   "execution_count": 28,
   "outputs": []
  },
  {
   "cell_type": "code",
   "source": [
    "enc = OneHotEncoder(handle_unknown='ignore',sparse = False)\n",
    "categoric = pd.DataFrame(enc.fit_transform(df[categoric_columns]),columns= enc.get_feature_names_out())\n",
    "df = pd.concat([df[numeric_columns], categoric], axis=1)"
   ],
   "metadata": {
    "execution": {
     "iopub.status.busy": "2023-02-11T21:58:05.468321Z",
     "iopub.execute_input": "2023-02-11T21:58:05.468734Z",
     "iopub.status.idle": "2023-02-11T21:58:05.518495Z",
     "shell.execute_reply.started": "2023-02-11T21:58:05.468687Z",
     "shell.execute_reply": "2023-02-11T21:58:05.517492Z"
    },
    "trusted": true
   },
   "execution_count": 29,
   "outputs": []
  },
  {
   "cell_type": "code",
   "source": [
    "corrAlta = []\n",
    "for col1 in df.columns:\n",
    "    for col2 in df.columns:\n",
    "        if col1 != col2:\n",
    "            correl = df[col1].corr(df[col2])\n",
    "            if correl > 0.9:\n",
    "                corrAlta.append(col2)\n"
   ],
   "metadata": {
    "execution": {
     "iopub.status.busy": "2023-02-11T21:58:31.458582Z",
     "iopub.execute_input": "2023-02-11T21:58:31.458995Z",
     "iopub.status.idle": "2023-02-11T21:58:47.730436Z",
     "shell.execute_reply.started": "2023-02-11T21:58:31.458961Z",
     "shell.execute_reply": "2023-02-11T21:58:47.729485Z"
    },
    "trusted": true
   },
   "execution_count": 31,
   "outputs": []
  },
  {
   "cell_type": "code",
   "source": [
    "corrAlta = list(set(corrAlta))\n",
    "sns.heatmap(df[corrAlta].corr())"
   ],
   "metadata": {
    "execution": {
     "iopub.status.busy": "2023-02-11T21:58:51.317783Z",
     "iopub.execute_input": "2023-02-11T21:58:51.318309Z",
     "iopub.status.idle": "2023-02-11T21:58:51.664181Z",
     "shell.execute_reply.started": "2023-02-11T21:58:51.318272Z",
     "shell.execute_reply": "2023-02-11T21:58:51.663061Z"
    },
    "trusted": true
   },
   "execution_count": 32,
   "outputs": [
    {
     "execution_count": 32,
     "output_type": "execute_result",
     "data": {
      "text/plain": "<AxesSubplot:>"
     },
     "metadata": {}
    },
    {
     "output_type": "display_data",
     "data": {
      "text/plain": "<Figure size 432x288 with 2 Axes>",
      "image/png": "[encoded data removed]"
     },
     "metadata": {
      "needs_background": "light"
     }
    }
   ]
  },
  {
   "cell_type": "code",
   "source": [
    "df.drop([\"GarageQual\", \"GarageCond\", \"SaleType_New\", \"Exterior2nd_MetalSd\", \"Exterior2nd_VinylSd\", \"Exterior2nd_CmentBd\"],  axis=1, inplace=True)"
   ],
   "metadata": {
    "execution": {
     "iopub.status.busy": "2023-02-11T21:59:56.415479Z",
     "iopub.execute_input": "2023-02-11T21:59:56.415949Z",
     "iopub.status.idle": "2023-02-11T21:59:56.424303Z",
     "shell.execute_reply.started": "2023-02-11T21:59:56.415914Z",
     "shell.execute_reply": "2023-02-11T21:59:56.423079Z"
    },
    "trusted": true
   },
   "execution_count": 33,
   "outputs": []
  },
  {
   "cell_type": "code",
   "source": [
    "X_train = pd.concat([df[:df_train_row], y_train], axis=1)\n",
    "\n",
    "X_test = df[df_train_row:]\n",
    "\n",
    "registros = np.array([True] * len(X_train))\n",
    "\n",
    "\n",
    "cols = [\"LotArea\", \"BsmtUnfSF\", \"TotalBsmtSF\", \"1stFlrSF\", \"2ndFlrSF\", \"GrLivArea\", \"GarageArea\"]\n",
    "\n",
    "\n",
    "for col in cols:\n",
    "    \n",
    "   \n",
    "    zscore = abs(stats.zscore(X_train[col]))\n",
    "    \n",
    "   \n",
    "    registros = (zscore < 3) & registros\n",
    "\n",
    "\n",
    "X_train = X_train[registros]\n",
    "\n",
    "\n"
   ],
   "metadata": {
    "execution": {
     "iopub.status.busy": "2023-02-11T22:00:14.876241Z",
     "iopub.execute_input": "2023-02-11T22:00:14.876642Z",
     "iopub.status.idle": "2023-02-11T22:00:14.908487Z",
     "shell.execute_reply.started": "2023-02-11T22:00:14.876610Z",
     "shell.execute_reply": "2023-02-11T22:00:14.907589Z"
    },
    "trusted": true
   },
   "execution_count": 34,
   "outputs": []
  },
  {
   "cell_type": "code",
   "source": [
    "y_train = X_train[\"SalePrice\"]\n",
    "\n",
    "X_train.drop(\"SalePrice\", inplace=True, axis=1)\n",
    "\n",
    "df_train_row = len(X_train)\n",
    "\n",
    "X_train = X_train.reset_index(drop=True)\n",
    "X_test = X_test.reset_index(drop=True)\n",
    "\n",
    "df = pd.concat([X_train, X_test], axis=0)\n"
   ],
   "metadata": {
    "execution": {
     "iopub.status.busy": "2023-02-11T22:00:32.166158Z",
     "iopub.execute_input": "2023-02-11T22:00:32.167139Z",
     "iopub.status.idle": "2023-02-11T22:00:32.182819Z",
     "shell.execute_reply.started": "2023-02-11T22:00:32.167101Z",
     "shell.execute_reply": "2023-02-11T22:00:32.181718Z"
    },
    "trusted": true
   },
   "execution_count": 35,
   "outputs": []
  },
  {
   "cell_type": "code",
   "source": [
    "X_train = df.iloc[:df_train_row].reset_index(drop=True)\n",
    "X_test = df.iloc[df_train_row:].reset_index(drop=True)"
   ],
   "metadata": {
    "execution": {
     "iopub.status.busy": "2023-02-11T22:00:37.337309Z",
     "iopub.execute_input": "2023-02-11T22:00:37.337721Z",
     "iopub.status.idle": "2023-02-11T22:00:37.349442Z",
     "shell.execute_reply.started": "2023-02-11T22:00:37.337672Z",
     "shell.execute_reply": "2023-02-11T22:00:37.348031Z"
    },
    "trusted": true
   },
   "execution_count": 36,
   "outputs": []
  },
  {
   "cell_type": "code",
   "source": [
    "categoric_columns = df.select_dtypes(include=['object']).columns\n",
    "numeric_columns = df.select_dtypes(include=['float64', 'int64']).columns\n",
    "scaler = RobustScaler()\n",
    "scaler.fit(X_train[numeric_columns])\n",
    "X_train[numeric_columns] = scaler.transform(X_train[numeric_columns])\n",
    "scaler.fit(X_test[numeric_columns])\n",
    "X_test[numeric_columns] = scaler.transform(X_test[numeric_columns])"
   ],
   "metadata": {
    "execution": {
     "iopub.status.busy": "2023-02-11T22:00:45.384020Z",
     "iopub.execute_input": "2023-02-11T22:00:45.384445Z",
     "iopub.status.idle": "2023-02-11T22:00:45.535713Z",
     "shell.execute_reply.started": "2023-02-11T22:00:45.384411Z",
     "shell.execute_reply": "2023-02-11T22:00:45.534820Z"
    },
    "trusted": true
   },
   "execution_count": 37,
   "outputs": []
  },
  {
   "cell_type": "markdown",
   "source": [
    "## **6.Model Training**"
   ],
   "metadata": {}
  },
  {
   "cell_type": "code",
   "source": [
    "\n",
    "\"\"\"X_train_ = X_train[['GrLivArea', 'OverallQual', 'TotalBsmtSF', 'Bath', 'YearBuilt', 'ExterQual', 'LotArea', 'OverallCond', 'BsmtFinSF1', \n",
    "                    '1stFlrSF', 'GarageArea', 'BsmtQual', 'YearRemodAdd', 'KitchenQual', 'GarageCars', 'Neighborhood_Crawfor', '2ndFlrSF', \n",
    "                    'BsmtExposure', 'FireplaceQu', 'GarageYrBlt', 'Neighborhood_StoneBr', 'SaleType_WD', 'BsmtFinType1', 'OpenPorchSF', \n",
    "                    'SaleCondition_Partial', 'Exterior1st_BrkFace', 'Functional_Typ', 'BsmtUnfSF', 'SaleCondition_Abnorml', 'MSZoning_RM', \n",
    "                    'WoodDeckSF', 'LotFrontage', 'Fireplaces', 'ScreenPorch', 'MSZoning_C (all)', 'GarageFinish', 'LotConfig_CulDSac', \n",
    "                    'Condition1_Norm', 'CentralAir_N', 'Condition1_Artery', 'Neighborhood_BrkSide', 'Neighborhood_CollgCr', 'Exterior1st_HdBoard', \n",
    "                    'BsmtCond', 'BsmtFinSF2', 'Neighborhood_OldTown', 'LotConfig_FR2', 'MSSubClass', 'Neighborhood_NAmes', 'Neighborhood_Edwards', \n",
    "                    'KitchenAbvGr', 'BedroomAbvGr', 'HeatingQC', 'GarageType_CarPort', 'Foundation_PConc', 'GarageType_Attchd', 'MSZoning_RL', \n",
    "                    'Neighborhood_Timber', 'CentralAir_Y', 'Neighborhood_NridgHt', 'Exterior1st_Wd Sdng', 'Alley', \n",
    "                    'Foundation_BrkTil', 'HouseStyle_SLvl', 'MSZoning_FV', 'HouseStyle_1.5Fin', 'Neighborhood_Somerst', \n",
    "                    'Condition1_RRAe', 'PavedDrive_Y', 'BldgType_1Fam']]\n",
    "\n",
    "X_test_ = X_test[['GrLivArea', 'OverallQual', 'TotalBsmtSF', 'Bath', 'YearBuilt', 'ExterQual', 'LotArea', 'OverallCond', 'BsmtFinSF1', \n",
    "                    '1stFlrSF', 'GarageArea', 'BsmtQual', 'YearRemodAdd', 'KitchenQual', 'GarageCars', 'Neighborhood_Crawfor', '2ndFlrSF', \n",
    "                    'BsmtExposure', 'FireplaceQu', 'GarageYrBlt', 'Neighborhood_StoneBr', 'SaleType_WD', 'BsmtFinType1', 'OpenPorchSF', \n",
    "                    'SaleCondition_Partial', 'Exterior1st_BrkFace', 'Functional_Typ', 'BsmtUnfSF', 'SaleCondition_Abnorml', 'MSZoning_RM', \n",
    "                    'WoodDeckSF', 'LotFrontage', 'Fireplaces', 'ScreenPorch', 'MSZoning_C (all)', 'GarageFinish', 'LotConfig_CulDSac', \n",
    "                    'Condition1_Norm', 'CentralAir_N', 'Condition1_Artery', 'Neighborhood_BrkSide', 'Neighborhood_CollgCr', 'Exterior1st_HdBoard', \n",
    "                    'BsmtCond', 'BsmtFinSF2', 'Neighborhood_OldTown', 'LotConfig_FR2', 'MSSubClass', 'Neighborhood_NAmes', 'Neighborhood_Edwards', \n",
    "                    'KitchenAbvGr', 'BedroomAbvGr', 'HeatingQC', 'GarageType_CarPort', 'Foundation_PConc', 'GarageType_Attchd', 'MSZoning_RL', \n",
    "                    'Neighborhood_Timber', 'CentralAir_Y', 'Neighborhood_NridgHt', 'Exterior1st_Wd Sdng', 'Alley', \n",
    "                    'Foundation_BrkTil', 'HouseStyle_SLvl', 'MSZoning_FV', 'HouseStyle_1.5Fin', 'Neighborhood_Somerst',\n",
    "                    'Condition1_RRAe', 'PavedDrive_Y', 'BldgType_1Fam']]\"\"\"\n",
    "#############################################################################################################################################################\n",
    "\n",
    "\n",
    "#FEATURES DO KAGGLE\n",
    "#############################################################################################################################################################\n",
    "X_train_ = X_train[[\"OverallQual\", \"GrLivArea\", \"TotalBsmtSF\", \"1stFlrSF\", \"LotArea\", \"Bath\",\n",
    "                    \"BsmtFinSF1\", \"GarageCars\", \"YearBuilt\", \"OverallCond\", \"ExterQual\", \"YearRemodAdd\",\n",
    "                    \"2ndFlrSF\", \"KitchenQual\", \"BsmtQual\", \"GarageArea\", \"Neighborhood_Crawfor\", \"Condition1_Norm\",\n",
    "                    \"BsmtExposure\", \"Neighborhood_Edwards\", \"OpenPorchSF\", \"LotFrontage\", \"TotRmsAbvGrd\",\n",
    "                    \"Neighborhood_StoneBr\", \"Fireplaces\", \"FireplaceQu\", \"BsmtFinType1\", \"GarageYrBlt\",\n",
    "                    \"Exterior1st_BrkFace\", \"LandContour_Bnk\", \"ScreenPorch\", \"Neighborhood_NoRidge\",\n",
    "                    \"BedroomAbvGr\", \"Functional_Typ\", \"MSZoning_RM\", \"SaleCondition_Abnorml\", \"WoodDeckSF\",\n",
    "                    \"SaleCondition_Partial\", \"GarageFinish\", \"MSZoning_C (all)\", \"LotConfig_CulDSac\",\n",
    "                    \"CentralAir_N\", \"KitchenAbvGr\", \"LandContour_Lvl\", \"Neighborhood_BrkSide\",\n",
    "                    \"Neighborhood_OldTown\", \"MasVnrArea\", \"Neighborhood_NAmes\", \"HeatingQC\",\n",
    "                    \"Condition1_Artery\", \"BsmtFinSF2\", \"BsmtCond\", \"SaleType_WD\", \"GarageType_Attchd\",\n",
    "                    \"Condition1_Feedr\", \"Neighborhood_ClearCr\", \"LotConfig_FR2\", \"CentralAir_Y\",\n",
    "                    \"MSZoning_RL\", \"LandSlope_Gtl\", \"Alley\", \"Foundation_BrkTil\", \"Exterior1st_HdBoard\",\n",
    "                    \"GarageType_CarPort\", \"Condition1_PosN\", \"Neighborhood_Somerst\", \"BldgType_1Fam\",\n",
    "                    \"Neighborhood_CollgCr\", \"RoofStyle_Hip\", \"PavedDrive_Y\", \"MasVnrType_Stone\",\n",
    "                    \"Neighborhood_Timber\", \"MasVnrType_BrkFace\", \"BldgType_Duplex\", \"Exterior2nd_HdBoard\",\n",
    "                    \"Functional_Maj2\", \"LandSlope_Mod\", \"Neighborhood_NridgHt\", \"MSZoning_FV\",\n",
    "                    \"Exterior1st_Stucco\", \"RoofStyle_Gable\", \"Neighborhood_Veenker\", \"GarageType_Detchd\",\n",
    "                    \"RoofMatl_WdShngl\", \"Neighborhood_Blmngtn\", \"Condition1_RRAe\", \"Neighborhood_Mitchel\",\n",
    "                    \"HouseStyle_SLvl\", \"LowQualFinSF\", \"Condition2_Norm\", \"Neighborhood_IDOTRR\",\n",
    "                    \"MasVnrType_BrkCmn\", \"SaleCondition_Family\", \"PavedDrive_N\", \"HouseStyle_1.5Fin\",\n",
    "                    \"Exterior2nd_Wd Sdng\", \"Neighborhood_SWISU\", \"Functional_Min2\", \"BsmtFinType2\",\n",
    "                    \"Functional_Maj1\", \"Neighborhood_MeadowV\", \"Exterior1st_VinylSd\", \"Exterior1st_MetalSd\",\n",
    "                    \"Exterior1st_WdShing\", \"Heating_GasA\", \"Neighborhood_Gilbert\", \"MiscVal\", \"Neighborhood_Sawyer\",\n",
    "                    \"GarageType_2Types\", \"Electrical_FuseF\", \"MiscFeature_NA\", \"Exterior2nd_Stucco\",\n",
    "                    \"BldgType_2fmCon\", \"Condition2_Feedr\", \"Foundation_Slab\", \"MiscFeature_Shed\", \"HouseStyle_SFoyer\",\n",
    "                    \"Exterior2nd_Brk Cmn\", \"Street\"]]\n",
    "\n",
    "X_test_ = X_test[[\"OverallQual\", \"GrLivArea\", \"TotalBsmtSF\", \"1stFlrSF\", \"LotArea\", \"Bath\",\n",
    "                    \"BsmtFinSF1\", \"GarageCars\", \"YearBuilt\", \"OverallCond\", \"ExterQual\", \"YearRemodAdd\",\n",
    "                    \"2ndFlrSF\", \"KitchenQual\", \"BsmtQual\", \"GarageArea\", \"Neighborhood_Crawfor\", \"Condition1_Norm\",\n",
    "                    \"BsmtExposure\", \"Neighborhood_Edwards\", \"OpenPorchSF\", \"LotFrontage\", \"TotRmsAbvGrd\",\n",
    "                    \"Neighborhood_StoneBr\", \"Fireplaces\", \"FireplaceQu\", \"BsmtFinType1\", \"GarageYrBlt\",\n",
    "                    \"Exterior1st_BrkFace\", \"LandContour_Bnk\", \"ScreenPorch\", \"Neighborhood_NoRidge\",\n",
    "                    \"BedroomAbvGr\", \"Functional_Typ\", \"MSZoning_RM\", \"SaleCondition_Abnorml\", \"WoodDeckSF\",\n",
    "                    \"SaleCondition_Partial\", \"GarageFinish\", \"MSZoning_C (all)\", \"LotConfig_CulDSac\",\n",
    "                    \"CentralAir_N\", \"KitchenAbvGr\", \"LandContour_Lvl\", \"Neighborhood_BrkSide\",\n",
    "                    \"Neighborhood_OldTown\", \"MasVnrArea\", \"Neighborhood_NAmes\", \"HeatingQC\",\n",
    "                    \"Condition1_Artery\", \"BsmtFinSF2\", \"BsmtCond\", \"SaleType_WD\", \"GarageType_Attchd\",\n",
    "                    \"Condition1_Feedr\", \"Neighborhood_ClearCr\", \"LotConfig_FR2\", \"CentralAir_Y\",\n",
    "                    \"MSZoning_RL\", \"LandSlope_Gtl\", \"Alley\", \"Foundation_BrkTil\", \"Exterior1st_HdBoard\",\n",
    "                    \"GarageType_CarPort\", \"Condition1_PosN\", \"Neighborhood_Somerst\", \"BldgType_1Fam\",\n",
    "                    \"Neighborhood_CollgCr\", \"RoofStyle_Hip\", \"PavedDrive_Y\", \"MasVnrType_Stone\",\n",
    "                    \"Neighborhood_Timber\", \"MasVnrType_BrkFace\", \"BldgType_Duplex\", \"Exterior2nd_HdBoard\",\n",
    "                    \"Functional_Maj2\", \"LandSlope_Mod\", \"Neighborhood_NridgHt\", \"MSZoning_FV\",\n",
    "                    \"Exterior1st_Stucco\", \"RoofStyle_Gable\", \"Neighborhood_Veenker\", \"GarageType_Detchd\",\n",
    "                    \"RoofMatl_WdShngl\", \"Neighborhood_Blmngtn\", \"Condition1_RRAe\", \"Neighborhood_Mitchel\",\n",
    "                    \"HouseStyle_SLvl\", \"LowQualFinSF\", \"Condition2_Norm\", \"Neighborhood_IDOTRR\",\n",
    "                    \"MasVnrType_BrkCmn\", \"SaleCondition_Family\", \"PavedDrive_N\", \"HouseStyle_1.5Fin\",\n",
    "                    \"Exterior2nd_Wd Sdng\", \"Neighborhood_SWISU\", \"Functional_Min2\", \"BsmtFinType2\",\n",
    "                    \"Functional_Maj1\", \"Neighborhood_MeadowV\", \"Exterior1st_VinylSd\", \"Exterior1st_MetalSd\",\n",
    "                    \"Exterior1st_WdShing\", \"Heating_GasA\", \"Neighborhood_Gilbert\", \"MiscVal\", \"Neighborhood_Sawyer\",\n",
    "                    \"GarageType_2Types\", \"Electrical_FuseF\", \"MiscFeature_NA\", \"Exterior2nd_Stucco\",\n",
    "                    \"BldgType_2fmCon\", \"Condition2_Feedr\", \"Foundation_Slab\", \"MiscFeature_Shed\", \"HouseStyle_SFoyer\",\n",
    "                    \"Exterior2nd_Brk Cmn\", \"Street\"]]\n",
    "\n",
    "y_train_ = y_train\n",
    "#############################################################################################################################################################"
   ],
   "metadata": {
    "execution": {
     "iopub.status.busy": "2023-02-11T22:03:31.057809Z",
     "iopub.execute_input": "2023-02-11T22:03:31.058344Z",
     "iopub.status.idle": "2023-02-11T22:03:31.088519Z",
     "shell.execute_reply.started": "2023-02-11T22:03:31.058296Z",
     "shell.execute_reply": "2023-02-11T22:03:31.087500Z"
    },
    "trusted": true
   },
   "execution_count": 42,
   "outputs": []
  },
  {
   "cell_type": "code",
   "source": [
    "# All Features for first test\n",
    "\"\"\"X_train_ = X_train\n",
    "X_test_ = X_test\n",
    "y_train_ = y_train\"\"\""
   ],
   "metadata": {
    "execution": {
     "iopub.status.busy": "2023-02-11T22:01:54.871293Z",
     "iopub.execute_input": "2023-02-11T22:01:54.871751Z",
     "iopub.status.idle": "2023-02-11T22:01:54.878655Z",
     "shell.execute_reply.started": "2023-02-11T22:01:54.871716Z",
     "shell.execute_reply": "2023-02-11T22:01:54.877760Z"
    },
    "trusted": true
   },
   "execution_count": 38,
   "outputs": [
    {
     "execution_count": 38,
     "output_type": "execute_result",
     "data": {
      "text/plain": "'X_train_ = X_train\\nX_test_ = X_test\\ny_train_ = y_train'"
     },
     "metadata": {}
    }
   ]
  },
  {
   "cell_type": "markdown",
   "source": [
    "**X_train_ = X_train.drop([\"MoSold\"], axis=1)** - BEST"
   ],
   "metadata": {}
  },
  {
   "cell_type": "code",
   "source": [
    "model = XGBRegressor()\n",
    "model.fit(X_train, y_train)\n",
    "scores = cross_val_score(model, X_train_, y_train_, cv=5, scoring='neg_mean_absolute_error')\n",
    "print(\"Mean Absolute Error in Cross Validation: %0.2f (+/- %0.2f)\" % ((scores.mean()*-1), scores.std() * 2))"
   ],
   "metadata": {
    "execution": {
     "iopub.status.busy": "2023-02-11T22:03:45.593442Z",
     "iopub.execute_input": "2023-02-11T22:03:45.593913Z",
     "iopub.status.idle": "2023-02-11T22:03:52.481168Z",
     "shell.execute_reply.started": "2023-02-11T22:03:45.593878Z",
     "shell.execute_reply": "2023-02-11T22:03:52.480168Z"
    },
    "trusted": true
   },
   "execution_count": 43,
   "outputs": [
    {
     "name": "stdout",
     "text": "Mean Absolute Error in Cross Validation: 16107.39 (+/- 983.15)\n",
     "output_type": "stream"
    }
   ]
  },
  {
   "cell_type": "code",
   "source": [
    "# Model Tuning\n",
    "xgbr = model = XGBRegressor()\n",
    "                     \n",
    "# GRID SEARCH\n",
    "\n",
    "\"\"\"params_XGB_best = dict(n_estimators=[3000, 4000, 5000, 7000],\n",
    "                  subsample=[0.5, 0.6, 0.7, 0.8],\n",
    "                  colsample_bytree=[0.5, 0.6, 0.7, 0.8],\n",
    "                  colsample_bylevel=[0.5, 0.6, 0.7, 0.8],\n",
    "                  max_depth=[3, 5, 10, 15],  \n",
    "                  learning_rate=[0.0050, 0.0051, 0.0052, 0.0053])\"\"\"\n",
    "\n",
    "params_XGB_best = dict(n_estimators=[5000],\n",
    "                  subsample=[0.6],\n",
    "                  colsample_bytree=[0.6],\n",
    "                  colsample_bylevel=[0.8],\n",
    "                  max_depth=[5], \n",
    "                  learning_rate=[0.0051])\n",
    "\n",
    "              \n",
    "\n",
    "grid_search_xgb = GridSearchCV(estimator=xgbr, param_grid=params_XGB_best, cv = 5,scoring='neg_mean_absolute_error').fit(X_train_, y_train_)\n",
    "xgbr_best = grid_search_xgb.best_estimator_\n",
    "print('xgbr_best Best Score',(grid_search_xgb.best_score_*-1))\n",
    "print('xgbr_best Best Parmas',grid_search_xgb.best_params_)"
   ],
   "metadata": {
    "execution": {
     "iopub.status.busy": "2023-02-11T22:04:32.278829Z",
     "iopub.execute_input": "2023-02-11T22:04:32.279225Z",
     "iopub.status.idle": "2023-02-11T22:07:02.974652Z",
     "shell.execute_reply.started": "2023-02-11T22:04:32.279194Z",
     "shell.execute_reply": "2023-02-11T22:07:02.973791Z"
    },
    "trusted": true
   },
   "execution_count": 44,
   "outputs": [
    {
     "name": "stdout",
     "text": "xgbr_best Best Score 12494.747170521327\nxgbr_best Best Parmas {'colsample_bylevel': 0.8, 'colsample_bytree': 0.6, 'learning_rate': 0.0051, 'max_depth': 5, 'n_estimators': 5000, 'subsample': 0.6}\n",
     "output_type": "stream"
    }
   ]
  },
  {
   "cell_type": "code",
   "source": [
    "best = {'colsample_bylevel': 0.8, 'colsample_bytree': 0.6, 'learning_rate': 0.0051, 'max_depth': 5, 'n_estimators': 5000, 'subsample': 0.6}"
   ],
   "metadata": {
    "execution": {
     "iopub.status.busy": "2023-02-11T22:10:22.885474Z",
     "iopub.execute_input": "2023-02-11T22:10:22.886041Z",
     "iopub.status.idle": "2023-02-11T22:10:22.892007Z",
     "shell.execute_reply.started": "2023-02-11T22:10:22.885993Z",
     "shell.execute_reply": "2023-02-11T22:10:22.890764Z"
    },
    "trusted": true
   },
   "execution_count": 46,
   "outputs": []
  },
  {
   "cell_type": "code",
   "source": [
    "#perm = PermutationImportance(XGBRegressor(**best),n_iter =10,cv=5).fit(X_train_.values, y_train_.values)\n",
    "#eli5.show_weights(perm, feature_names = X_train_.columns.tolist(),top=240)"
   ],
   "metadata": {
    "execution": {
     "iopub.status.busy": "2023-02-11T22:10:41.081844Z",
     "iopub.execute_input": "2023-02-11T22:10:41.082736Z",
     "iopub.status.idle": "2023-02-11T22:16:29.522340Z",
     "shell.execute_reply.started": "2023-02-11T22:10:41.082626Z",
     "shell.execute_reply": "2023-02-11T22:16:29.521190Z"
    },
    "trusted": true
   },
   "execution_count": 47,
   "outputs": [
    {
     "execution_count": 47,
     "output_type": "execute_result",
     "data": {
      "text/plain": "<IPython.core.display.HTML object>",
      "text/html": "\n    <style>\n    table.eli5-weights tr:hover {\n        filter: brightness(85%);\n    }\n</style>\n\n\n\n    \n\n    \n\n    \n\n    \n\n    \n\n    \n\n\n    \n\n    \n\n    \n\n    \n\n    \n\n    \n\n\n    \n\n    \n\n    \n\n    \n\n    \n        <table class=\"eli5-weights eli5-feature-importances\" style=\"border-collapse: collapse; border: none; margin-top: 0em; table-layout: auto;\">\n    <thead>\n    <tr style=\"border: none;\">\n        <th style=\"padding: 0 1em 0 0.5em; text-align: right; border: none;\">Weight</th>\n        <th style=\"padding: 0 0.5em 0 0.5em; text-align: left; border: none;\">Feature</th>\n    </tr>\n    </thead>\n    <tbody>\n    \n        <tr style=\"background-color: hsl(120, 100.00%, 80.00%); border: none;\">\n            <td style=\"padding: 0 1em 0 0.5em; text-align: right; border: none;\">\n                0.1187\n                \n                    &plusmn; 0.0380\n                \n            </td>\n            <td style=\"padding: 0 0.5em 0 0.5em; text-align: left; border: none;\">\n                GrLivArea\n            </td>\n        </tr>\n    \n        <tr style=\"background-color: hsl(120, 100.00%, 81.09%); border: none;\">\n            <td style=\"padding: 0 1em 0 0.5em; text-align: right; border: none;\">\n                0.1096\n                \n                    &plusmn; 0.0364\n                \n            </td>\n            <td style=\"padding: 0 0.5em 0 0.5em; text-align: left; border: none;\">\n                OverallQual\n            </td>\n        </tr>\n    \n        <tr style=\"background-color: hsl(120, 100.00%, 93.44%); border: none;\">\n            <td style=\"padding: 0 1em 0 0.5em; text-align: right; border: none;\">\n                0.0241\n                \n                    &plusmn; 0.0126\n                \n            </td>\n            <td style=\"padding: 0 0.5em 0 0.5em; text-align: left; border: none;\">\n                TotalBsmtSF\n            </td>\n        </tr>\n    \n        <tr style=\"background-color: hsl(120, 100.00%, 95.57%); border: none;\">\n            <td style=\"padding: 0 1em 0 0.5em; text-align: right; border: none;\">\n                0.0138\n                \n                    &plusmn; 0.0121\n                \n            </td>\n            <td style=\"padding: 0 0.5em 0 0.5em; text-align: left; border: none;\">\n                Bath\n            </td>\n        </tr>\n    \n        <tr style=\"background-color: hsl(120, 100.00%, 95.59%); border: none;\">\n            <td style=\"padding: 0 1em 0 0.5em; text-align: right; border: none;\">\n                0.0137\n                \n                    &plusmn; 0.0129\n                \n            </td>\n            <td style=\"padding: 0 0.5em 0 0.5em; text-align: left; border: none;\">\n                ExterQual\n            </td>\n        </tr>\n    \n        <tr style=\"background-color: hsl(120, 100.00%, 95.70%); border: none;\">\n            <td style=\"padding: 0 1em 0 0.5em; text-align: right; border: none;\">\n                0.0132\n                \n                    &plusmn; 0.0062\n                \n            </td>\n            <td style=\"padding: 0 0.5em 0 0.5em; text-align: left; border: none;\">\n                YearBuilt\n            </td>\n        </tr>\n    \n        <tr style=\"background-color: hsl(120, 100.00%, 95.72%); border: none;\">\n            <td style=\"padding: 0 1em 0 0.5em; text-align: right; border: none;\">\n                0.0131\n                \n                    &plusmn; 0.0074\n                \n            </td>\n            <td style=\"padding: 0 0.5em 0 0.5em; text-align: left; border: none;\">\n                LotArea\n            </td>\n        </tr>\n    \n        <tr style=\"background-color: hsl(120, 100.00%, 95.91%); border: none;\">\n            <td style=\"padding: 0 1em 0 0.5em; text-align: right; border: none;\">\n                0.0123\n                \n                    &plusmn; 0.0115\n                \n            </td>\n            <td style=\"padding: 0 0.5em 0 0.5em; text-align: left; border: none;\">\n                BsmtFinSF1\n            </td>\n        </tr>\n    \n        <tr style=\"background-color: hsl(120, 100.00%, 96.13%); border: none;\">\n            <td style=\"padding: 0 1em 0 0.5em; text-align: right; border: none;\">\n                0.0114\n                \n                    &plusmn; 0.0087\n                \n            </td>\n            <td style=\"padding: 0 0.5em 0 0.5em; text-align: left; border: none;\">\n                OverallCond\n            </td>\n        </tr>\n    \n        <tr style=\"background-color: hsl(120, 100.00%, 97.39%); border: none;\">\n            <td style=\"padding: 0 1em 0 0.5em; text-align: right; border: none;\">\n                0.0065\n                \n                    &plusmn; 0.0072\n                \n            </td>\n            <td style=\"padding: 0 0.5em 0 0.5em; text-align: left; border: none;\">\n                BsmtQual\n            </td>\n        </tr>\n    \n        <tr style=\"background-color: hsl(120, 100.00%, 97.55%); border: none;\">\n            <td style=\"padding: 0 1em 0 0.5em; text-align: right; border: none;\">\n                0.0059\n                \n                    &plusmn; 0.0068\n                \n            </td>\n            <td style=\"padding: 0 0.5em 0 0.5em; text-align: left; border: none;\">\n                KitchenQual\n            </td>\n        </tr>\n    \n        <tr style=\"background-color: hsl(120, 100.00%, 97.59%); border: none;\">\n            <td style=\"padding: 0 1em 0 0.5em; text-align: right; border: none;\">\n                0.0058\n                \n                    &plusmn; 0.0057\n                \n            </td>\n            <td style=\"padding: 0 0.5em 0 0.5em; text-align: left; border: none;\">\n                YearRemodAdd\n            </td>\n        </tr>\n    \n        <tr style=\"background-color: hsl(120, 100.00%, 97.65%); border: none;\">\n            <td style=\"padding: 0 1em 0 0.5em; text-align: right; border: none;\">\n                0.0056\n                \n                    &plusmn; 0.0064\n                \n            </td>\n            <td style=\"padding: 0 0.5em 0 0.5em; text-align: left; border: none;\">\n                1stFlrSF\n            </td>\n        </tr>\n    \n        <tr style=\"background-color: hsl(120, 100.00%, 97.73%); border: none;\">\n            <td style=\"padding: 0 1em 0 0.5em; text-align: right; border: none;\">\n                0.0053\n                \n                    &plusmn; 0.0064\n                \n            </td>\n            <td style=\"padding: 0 0.5em 0 0.5em; text-align: left; border: none;\">\n                GarageArea\n            </td>\n        </tr>\n    \n        <tr style=\"background-color: hsl(120, 100.00%, 98.01%); border: none;\">\n            <td style=\"padding: 0 1em 0 0.5em; text-align: right; border: none;\">\n                0.0044\n                \n                    &plusmn; 0.0038\n                \n            </td>\n            <td style=\"padding: 0 0.5em 0 0.5em; text-align: left; border: none;\">\n                GarageCars\n            </td>\n        </tr>\n    \n        <tr style=\"background-color: hsl(120, 100.00%, 98.27%); border: none;\">\n            <td style=\"padding: 0 1em 0 0.5em; text-align: right; border: none;\">\n                0.0036\n                \n                    &plusmn; 0.0033\n                \n            </td>\n            <td style=\"padding: 0 0.5em 0 0.5em; text-align: left; border: none;\">\n                BsmtExposure\n            </td>\n        </tr>\n    \n        <tr style=\"background-color: hsl(120, 100.00%, 98.34%); border: none;\">\n            <td style=\"padding: 0 1em 0 0.5em; text-align: right; border: none;\">\n                0.0034\n                \n                    &plusmn; 0.0035\n                \n            </td>\n            <td style=\"padding: 0 0.5em 0 0.5em; text-align: left; border: none;\">\n                Neighborhood_Crawfor\n            </td>\n        </tr>\n    \n        <tr style=\"background-color: hsl(120, 100.00%, 98.61%); border: none;\">\n            <td style=\"padding: 0 1em 0 0.5em; text-align: right; border: none;\">\n                0.0026\n                \n                    &plusmn; 0.0040\n                \n            </td>\n            <td style=\"padding: 0 0.5em 0 0.5em; text-align: left; border: none;\">\n                2ndFlrSF\n            </td>\n        </tr>\n    \n        <tr style=\"background-color: hsl(120, 100.00%, 98.77%); border: none;\">\n            <td style=\"padding: 0 1em 0 0.5em; text-align: right; border: none;\">\n                0.0022\n                \n                    &plusmn; 0.0022\n                \n            </td>\n            <td style=\"padding: 0 0.5em 0 0.5em; text-align: left; border: none;\">\n                GarageYrBlt\n            </td>\n        </tr>\n    \n        <tr style=\"background-color: hsl(120, 100.00%, 98.78%); border: none;\">\n            <td style=\"padding: 0 1em 0 0.5em; text-align: right; border: none;\">\n                0.0022\n                \n                    &plusmn; 0.0029\n                \n            </td>\n            <td style=\"padding: 0 0.5em 0 0.5em; text-align: left; border: none;\">\n                BsmtFinType1\n            </td>\n        </tr>\n    \n        <tr style=\"background-color: hsl(120, 100.00%, 98.85%); border: none;\">\n            <td style=\"padding: 0 1em 0 0.5em; text-align: right; border: none;\">\n                0.0020\n                \n                    &plusmn; 0.0028\n                \n            </td>\n            <td style=\"padding: 0 0.5em 0 0.5em; text-align: left; border: none;\">\n                FireplaceQu\n            </td>\n        </tr>\n    \n        <tr style=\"background-color: hsl(120, 100.00%, 98.98%); border: none;\">\n            <td style=\"padding: 0 1em 0 0.5em; text-align: right; border: none;\">\n                0.0017\n                \n                    &plusmn; 0.0036\n                \n            </td>\n            <td style=\"padding: 0 0.5em 0 0.5em; text-align: left; border: none;\">\n                SaleCondition_Partial\n            </td>\n        </tr>\n    \n        <tr style=\"background-color: hsl(120, 100.00%, 98.99%); border: none;\">\n            <td style=\"padding: 0 1em 0 0.5em; text-align: right; border: none;\">\n                0.0017\n                \n                    &plusmn; 0.0030\n                \n            </td>\n            <td style=\"padding: 0 0.5em 0 0.5em; text-align: left; border: none;\">\n                SaleType_WD\n            </td>\n        </tr>\n    \n        <tr style=\"background-color: hsl(120, 100.00%, 99.01%); border: none;\">\n            <td style=\"padding: 0 1em 0 0.5em; text-align: right; border: none;\">\n                0.0016\n                \n                    &plusmn; 0.0022\n                \n            </td>\n            <td style=\"padding: 0 0.5em 0 0.5em; text-align: left; border: none;\">\n                Neighborhood_StoneBr\n            </td>\n        </tr>\n    \n        <tr style=\"background-color: hsl(120, 100.00%, 99.03%); border: none;\">\n            <td style=\"padding: 0 1em 0 0.5em; text-align: right; border: none;\">\n                0.0016\n                \n                    &plusmn; 0.0035\n                \n            </td>\n            <td style=\"padding: 0 0.5em 0 0.5em; text-align: left; border: none;\">\n                OpenPorchSF\n            </td>\n        </tr>\n    \n        <tr style=\"background-color: hsl(120, 100.00%, 99.16%); border: none;\">\n            <td style=\"padding: 0 1em 0 0.5em; text-align: right; border: none;\">\n                0.0013\n                \n                    &plusmn; 0.0017\n                \n            </td>\n            <td style=\"padding: 0 0.5em 0 0.5em; text-align: left; border: none;\">\n                Exterior1st_BrkFace\n            </td>\n        </tr>\n    \n        <tr style=\"background-color: hsl(120, 100.00%, 99.16%); border: none;\">\n            <td style=\"padding: 0 1em 0 0.5em; text-align: right; border: none;\">\n                0.0013\n                \n                    &plusmn; 0.0020\n                \n            </td>\n            <td style=\"padding: 0 0.5em 0 0.5em; text-align: left; border: none;\">\n                Functional_Typ\n            </td>\n        </tr>\n    \n        <tr style=\"background-color: hsl(120, 100.00%, 99.16%); border: none;\">\n            <td style=\"padding: 0 1em 0 0.5em; text-align: right; border: none;\">\n                0.0013\n                \n                    &plusmn; 0.0022\n                \n            </td>\n            <td style=\"padding: 0 0.5em 0 0.5em; text-align: left; border: none;\">\n                SaleCondition_Abnorml\n            </td>\n        </tr>\n    \n        <tr style=\"background-color: hsl(120, 100.00%, 99.22%); border: none;\">\n            <td style=\"padding: 0 1em 0 0.5em; text-align: right; border: none;\">\n                0.0011\n                \n                    &plusmn; 0.0025\n                \n            </td>\n            <td style=\"padding: 0 0.5em 0 0.5em; text-align: left; border: none;\">\n                WoodDeckSF\n            </td>\n        </tr>\n    \n        <tr style=\"background-color: hsl(120, 100.00%, 99.34%); border: none;\">\n            <td style=\"padding: 0 1em 0 0.5em; text-align: right; border: none;\">\n                0.0009\n                \n                    &plusmn; 0.0013\n                \n            </td>\n            <td style=\"padding: 0 0.5em 0 0.5em; text-align: left; border: none;\">\n                MSZoning_RM\n            </td>\n        </tr>\n    \n        <tr style=\"background-color: hsl(120, 100.00%, 99.34%); border: none;\">\n            <td style=\"padding: 0 1em 0 0.5em; text-align: right; border: none;\">\n                0.0009\n                \n                    &plusmn; 0.0022\n                \n            </td>\n            <td style=\"padding: 0 0.5em 0 0.5em; text-align: left; border: none;\">\n                LotFrontage\n            </td>\n        </tr>\n    \n        <tr style=\"background-color: hsl(120, 100.00%, 99.37%); border: none;\">\n            <td style=\"padding: 0 1em 0 0.5em; text-align: right; border: none;\">\n                0.0009\n                \n                    &plusmn; 0.0013\n                \n            </td>\n            <td style=\"padding: 0 0.5em 0 0.5em; text-align: left; border: none;\">\n                Fireplaces\n            </td>\n        </tr>\n    \n        <tr style=\"background-color: hsl(120, 100.00%, 99.37%); border: none;\">\n            <td style=\"padding: 0 1em 0 0.5em; text-align: right; border: none;\">\n                0.0008\n                \n                    &plusmn; 0.0020\n                \n            </td>\n            <td style=\"padding: 0 0.5em 0 0.5em; text-align: left; border: none;\">\n                GarageFinish\n            </td>\n        </tr>\n    \n        <tr style=\"background-color: hsl(120, 100.00%, 99.47%); border: none;\">\n            <td style=\"padding: 0 1em 0 0.5em; text-align: right; border: none;\">\n                0.0007\n                \n                    &plusmn; 0.0015\n                \n            </td>\n            <td style=\"padding: 0 0.5em 0 0.5em; text-align: left; border: none;\">\n                ScreenPorch\n            </td>\n        </tr>\n    \n        <tr style=\"background-color: hsl(120, 100.00%, 99.47%); border: none;\">\n            <td style=\"padding: 0 1em 0 0.5em; text-align: right; border: none;\">\n                0.0007\n                \n                    &plusmn; 0.0006\n                \n            </td>\n            <td style=\"padding: 0 0.5em 0 0.5em; text-align: left; border: none;\">\n                MSZoning_C (all)\n            </td>\n        </tr>\n    \n        <tr style=\"background-color: hsl(120, 100.00%, 99.54%); border: none;\">\n            <td style=\"padding: 0 1em 0 0.5em; text-align: right; border: none;\">\n                0.0005\n                \n                    &plusmn; 0.0011\n                \n            </td>\n            <td style=\"padding: 0 0.5em 0 0.5em; text-align: left; border: none;\">\n                Condition1_Norm\n            </td>\n        </tr>\n    \n        <tr style=\"background-color: hsl(120, 100.00%, 99.58%); border: none;\">\n            <td style=\"padding: 0 1em 0 0.5em; text-align: right; border: none;\">\n                0.0005\n                \n                    &plusmn; 0.0007\n                \n            </td>\n            <td style=\"padding: 0 0.5em 0 0.5em; text-align: left; border: none;\">\n                LotConfig_CulDSac\n            </td>\n        </tr>\n    \n        <tr style=\"background-color: hsl(120, 100.00%, 99.59%); border: none;\">\n            <td style=\"padding: 0 1em 0 0.5em; text-align: right; border: none;\">\n                0.0005\n                \n                    &plusmn; 0.0010\n                \n            </td>\n            <td style=\"padding: 0 0.5em 0 0.5em; text-align: left; border: none;\">\n                Neighborhood_BrkSide\n            </td>\n        </tr>\n    \n        <tr style=\"background-color: hsl(120, 100.00%, 99.62%); border: none;\">\n            <td style=\"padding: 0 1em 0 0.5em; text-align: right; border: none;\">\n                0.0004\n                \n                    &plusmn; 0.0015\n                \n            </td>\n            <td style=\"padding: 0 0.5em 0 0.5em; text-align: left; border: none;\">\n                Neighborhood_CollgCr\n            </td>\n        </tr>\n    \n        <tr style=\"background-color: hsl(120, 100.00%, 99.66%); border: none;\">\n            <td style=\"padding: 0 1em 0 0.5em; text-align: right; border: none;\">\n                0.0004\n                \n                    &plusmn; 0.0005\n                \n            </td>\n            <td style=\"padding: 0 0.5em 0 0.5em; text-align: left; border: none;\">\n                CentralAir_N\n            </td>\n        </tr>\n    \n        <tr style=\"background-color: hsl(120, 100.00%, 99.66%); border: none;\">\n            <td style=\"padding: 0 1em 0 0.5em; text-align: right; border: none;\">\n                0.0003\n                \n                    &plusmn; 0.0007\n                \n            </td>\n            <td style=\"padding: 0 0.5em 0 0.5em; text-align: left; border: none;\">\n                BsmtFinSF2\n            </td>\n        </tr>\n    \n        <tr style=\"background-color: hsl(120, 100.00%, 99.67%); border: none;\">\n            <td style=\"padding: 0 1em 0 0.5em; text-align: right; border: none;\">\n                0.0003\n                \n                    &plusmn; 0.0009\n                \n            </td>\n            <td style=\"padding: 0 0.5em 0 0.5em; text-align: left; border: none;\">\n                Neighborhood_Edwards\n            </td>\n        </tr>\n    \n        <tr style=\"background-color: hsl(120, 100.00%, 99.68%); border: none;\">\n            <td style=\"padding: 0 1em 0 0.5em; text-align: right; border: none;\">\n                0.0003\n                \n                    &plusmn; 0.0010\n                \n            </td>\n            <td style=\"padding: 0 0.5em 0 0.5em; text-align: left; border: none;\">\n                KitchenAbvGr\n            </td>\n        </tr>\n    \n        <tr style=\"background-color: hsl(120, 100.00%, 99.69%); border: none;\">\n            <td style=\"padding: 0 1em 0 0.5em; text-align: right; border: none;\">\n                0.0003\n                \n                    &plusmn; 0.0008\n                \n            </td>\n            <td style=\"padding: 0 0.5em 0 0.5em; text-align: left; border: none;\">\n                LotConfig_FR2\n            </td>\n        </tr>\n    \n        <tr style=\"background-color: hsl(120, 100.00%, 99.69%); border: none;\">\n            <td style=\"padding: 0 1em 0 0.5em; text-align: right; border: none;\">\n                0.0003\n                \n                    &plusmn; 0.0005\n                \n            </td>\n            <td style=\"padding: 0 0.5em 0 0.5em; text-align: left; border: none;\">\n                Condition1_Artery\n            </td>\n        </tr>\n    \n        <tr style=\"background-color: hsl(120, 100.00%, 99.70%); border: none;\">\n            <td style=\"padding: 0 1em 0 0.5em; text-align: right; border: none;\">\n                0.0003\n                \n                    &plusmn; 0.0006\n                \n            </td>\n            <td style=\"padding: 0 0.5em 0 0.5em; text-align: left; border: none;\">\n                Exterior1st_HdBoard\n            </td>\n        </tr>\n    \n        <tr style=\"background-color: hsl(120, 100.00%, 99.72%); border: none;\">\n            <td style=\"padding: 0 1em 0 0.5em; text-align: right; border: none;\">\n                0.0003\n                \n                    &plusmn; 0.0006\n                \n            </td>\n            <td style=\"padding: 0 0.5em 0 0.5em; text-align: left; border: none;\">\n                Neighborhood_OldTown\n            </td>\n        </tr>\n    \n        <tr style=\"background-color: hsl(120, 100.00%, 99.74%); border: none;\">\n            <td style=\"padding: 0 1em 0 0.5em; text-align: right; border: none;\">\n                0.0002\n                \n                    &plusmn; 0.0005\n                \n            </td>\n            <td style=\"padding: 0 0.5em 0 0.5em; text-align: left; border: none;\">\n                CentralAir_Y\n            </td>\n        </tr>\n    \n        <tr style=\"background-color: hsl(120, 100.00%, 99.74%); border: none;\">\n            <td style=\"padding: 0 1em 0 0.5em; text-align: right; border: none;\">\n                0.0002\n                \n                    &plusmn; 0.0006\n                \n            </td>\n            <td style=\"padding: 0 0.5em 0 0.5em; text-align: left; border: none;\">\n                BsmtCond\n            </td>\n        </tr>\n    \n        <tr style=\"background-color: hsl(120, 100.00%, 99.75%); border: none;\">\n            <td style=\"padding: 0 1em 0 0.5em; text-align: right; border: none;\">\n                0.0002\n                \n                    &plusmn; 0.0010\n                \n            </td>\n            <td style=\"padding: 0 0.5em 0 0.5em; text-align: left; border: none;\">\n                HeatingQC\n            </td>\n        </tr>\n    \n        <tr style=\"background-color: hsl(120, 100.00%, 99.75%); border: none;\">\n            <td style=\"padding: 0 1em 0 0.5em; text-align: right; border: none;\">\n                0.0002\n                \n                    &plusmn; 0.0007\n                \n            </td>\n            <td style=\"padding: 0 0.5em 0 0.5em; text-align: left; border: none;\">\n                Neighborhood_NAmes\n            </td>\n        </tr>\n    \n        <tr style=\"background-color: hsl(120, 100.00%, 99.78%); border: none;\">\n            <td style=\"padding: 0 1em 0 0.5em; text-align: right; border: none;\">\n                0.0002\n                \n                    &plusmn; 0.0005\n                \n            </td>\n            <td style=\"padding: 0 0.5em 0 0.5em; text-align: left; border: none;\">\n                MSZoning_RL\n            </td>\n        </tr>\n    \n        <tr style=\"background-color: hsl(120, 100.00%, 99.80%); border: none;\">\n            <td style=\"padding: 0 1em 0 0.5em; text-align: right; border: none;\">\n                0.0002\n                \n                    &plusmn; 0.0006\n                \n            </td>\n            <td style=\"padding: 0 0.5em 0 0.5em; text-align: left; border: none;\">\n                Neighborhood_Timber\n            </td>\n        </tr>\n    \n        <tr style=\"background-color: hsl(120, 100.00%, 99.81%); border: none;\">\n            <td style=\"padding: 0 1em 0 0.5em; text-align: right; border: none;\">\n                0.0002\n                \n                    &plusmn; 0.0002\n                \n            </td>\n            <td style=\"padding: 0 0.5em 0 0.5em; text-align: left; border: none;\">\n                GarageType_CarPort\n            </td>\n        </tr>\n    \n        <tr style=\"background-color: hsl(120, 100.00%, 99.82%); border: none;\">\n            <td style=\"padding: 0 1em 0 0.5em; text-align: right; border: none;\">\n                0.0001\n                \n                    &plusmn; 0.0009\n                \n            </td>\n            <td style=\"padding: 0 0.5em 0 0.5em; text-align: left; border: none;\">\n                BldgType_1Fam\n            </td>\n        </tr>\n    \n        <tr style=\"background-color: hsl(120, 100.00%, 99.82%); border: none;\">\n            <td style=\"padding: 0 1em 0 0.5em; text-align: right; border: none;\">\n                0.0001\n                \n                    &plusmn; 0.0005\n                \n            </td>\n            <td style=\"padding: 0 0.5em 0 0.5em; text-align: left; border: none;\">\n                GarageType_Detchd\n            </td>\n        </tr>\n    \n        <tr style=\"background-color: hsl(120, 100.00%, 99.83%); border: none;\">\n            <td style=\"padding: 0 1em 0 0.5em; text-align: right; border: none;\">\n                0.0001\n                \n                    &plusmn; 0.0005\n                \n            </td>\n            <td style=\"padding: 0 0.5em 0 0.5em; text-align: left; border: none;\">\n                Alley\n            </td>\n        </tr>\n    \n        <tr style=\"background-color: hsl(120, 100.00%, 99.83%); border: none;\">\n            <td style=\"padding: 0 1em 0 0.5em; text-align: right; border: none;\">\n                0.0001\n                \n                    &plusmn; 0.0004\n                \n            </td>\n            <td style=\"padding: 0 0.5em 0 0.5em; text-align: left; border: none;\">\n                Foundation_BrkTil\n            </td>\n        </tr>\n    \n        <tr style=\"background-color: hsl(120, 100.00%, 99.84%); border: none;\">\n            <td style=\"padding: 0 1em 0 0.5em; text-align: right; border: none;\">\n                0.0001\n                \n                    &plusmn; 0.0003\n                \n            </td>\n            <td style=\"padding: 0 0.5em 0 0.5em; text-align: left; border: none;\">\n                LowQualFinSF\n            </td>\n        </tr>\n    \n        <tr style=\"background-color: hsl(120, 100.00%, 99.84%); border: none;\">\n            <td style=\"padding: 0 1em 0 0.5em; text-align: right; border: none;\">\n                0.0001\n                \n                    &plusmn; 0.0007\n                \n            </td>\n            <td style=\"padding: 0 0.5em 0 0.5em; text-align: left; border: none;\">\n                BedroomAbvGr\n            </td>\n        </tr>\n    \n        <tr style=\"background-color: hsl(120, 100.00%, 99.85%); border: none;\">\n            <td style=\"padding: 0 1em 0 0.5em; text-align: right; border: none;\">\n                0.0001\n                \n                    &plusmn; 0.0006\n                \n            </td>\n            <td style=\"padding: 0 0.5em 0 0.5em; text-align: left; border: none;\">\n                MSZoning_FV\n            </td>\n        </tr>\n    \n        <tr style=\"background-color: hsl(120, 100.00%, 99.85%); border: none;\">\n            <td style=\"padding: 0 1em 0 0.5em; text-align: right; border: none;\">\n                0.0001\n                \n                    &plusmn; 0.0003\n                \n            </td>\n            <td style=\"padding: 0 0.5em 0 0.5em; text-align: left; border: none;\">\n                HouseStyle_1.5Fin\n            </td>\n        </tr>\n    \n        <tr style=\"background-color: hsl(120, 100.00%, 99.89%); border: none;\">\n            <td style=\"padding: 0 1em 0 0.5em; text-align: right; border: none;\">\n                0.0001\n                \n                    &plusmn; 0.0006\n                \n            </td>\n            <td style=\"padding: 0 0.5em 0 0.5em; text-align: left; border: none;\">\n                Neighborhood_NridgHt\n            </td>\n        </tr>\n    \n        <tr style=\"background-color: hsl(120, 100.00%, 99.90%); border: none;\">\n            <td style=\"padding: 0 1em 0 0.5em; text-align: right; border: none;\">\n                0.0001\n                \n                    &plusmn; 0.0005\n                \n            </td>\n            <td style=\"padding: 0 0.5em 0 0.5em; text-align: left; border: none;\">\n                Neighborhood_Sawyer\n            </td>\n        </tr>\n    \n        <tr style=\"background-color: hsl(120, 100.00%, 99.90%); border: none;\">\n            <td style=\"padding: 0 1em 0 0.5em; text-align: right; border: none;\">\n                0.0001\n                \n                    &plusmn; 0.0005\n                \n            </td>\n            <td style=\"padding: 0 0.5em 0 0.5em; text-align: left; border: none;\">\n                GarageType_Attchd\n            </td>\n        </tr>\n    \n        <tr style=\"background-color: hsl(120, 100.00%, 99.90%); border: none;\">\n            <td style=\"padding: 0 1em 0 0.5em; text-align: right; border: none;\">\n                0.0001\n                \n                    &plusmn; 0.0002\n                \n            </td>\n            <td style=\"padding: 0 0.5em 0 0.5em; text-align: left; border: none;\">\n                PavedDrive_Y\n            </td>\n        </tr>\n    \n        <tr style=\"background-color: hsl(120, 100.00%, 99.90%); border: none;\">\n            <td style=\"padding: 0 1em 0 0.5em; text-align: right; border: none;\">\n                0.0001\n                \n                    &plusmn; 0.0002\n                \n            </td>\n            <td style=\"padding: 0 0.5em 0 0.5em; text-align: left; border: none;\">\n                Exterior2nd_Wd Sdng\n            </td>\n        </tr>\n    \n        <tr style=\"background-color: hsl(120, 100.00%, 99.90%); border: none;\">\n            <td style=\"padding: 0 1em 0 0.5em; text-align: right; border: none;\">\n                0.0001\n                \n                    &plusmn; 0.0003\n                \n            </td>\n            <td style=\"padding: 0 0.5em 0 0.5em; text-align: left; border: none;\">\n                LandSlope_Mod\n            </td>\n        </tr>\n    \n        <tr style=\"background-color: hsl(120, 100.00%, 99.92%); border: none;\">\n            <td style=\"padding: 0 1em 0 0.5em; text-align: right; border: none;\">\n                0.0000\n                \n                    &plusmn; 0.0003\n                \n            </td>\n            <td style=\"padding: 0 0.5em 0 0.5em; text-align: left; border: none;\">\n                Condition1_RRAe\n            </td>\n        </tr>\n    \n        <tr style=\"background-color: hsl(120, 100.00%, 99.92%); border: none;\">\n            <td style=\"padding: 0 1em 0 0.5em; text-align: right; border: none;\">\n                0.0000\n                \n                    &plusmn; 0.0003\n                \n            </td>\n            <td style=\"padding: 0 0.5em 0 0.5em; text-align: left; border: none;\">\n                HouseStyle_SLvl\n            </td>\n        </tr>\n    \n        <tr style=\"background-color: hsl(120, 100.00%, 99.92%); border: none;\">\n            <td style=\"padding: 0 1em 0 0.5em; text-align: right; border: none;\">\n                0.0000\n                \n                    &plusmn; 0.0004\n                \n            </td>\n            <td style=\"padding: 0 0.5em 0 0.5em; text-align: left; border: none;\">\n                Exterior1st_VinylSd\n            </td>\n        </tr>\n    \n        <tr style=\"background-color: hsl(120, 100.00%, 99.92%); border: none;\">\n            <td style=\"padding: 0 1em 0 0.5em; text-align: right; border: none;\">\n                0.0000\n                \n                    &plusmn; 0.0002\n                \n            </td>\n            <td style=\"padding: 0 0.5em 0 0.5em; text-align: left; border: none;\">\n                BldgType_Duplex\n            </td>\n        </tr>\n    \n        <tr style=\"background-color: hsl(120, 100.00%, 99.93%); border: none;\">\n            <td style=\"padding: 0 1em 0 0.5em; text-align: right; border: none;\">\n                0.0000\n                \n                    &plusmn; 0.0003\n                \n            </td>\n            <td style=\"padding: 0 0.5em 0 0.5em; text-align: left; border: none;\">\n                Exterior2nd_HdBoard\n            </td>\n        </tr>\n    \n        <tr style=\"background-color: hsl(120, 100.00%, 99.94%); border: none;\">\n            <td style=\"padding: 0 1em 0 0.5em; text-align: right; border: none;\">\n                0.0000\n                \n                    &plusmn; 0.0001\n                \n            </td>\n            <td style=\"padding: 0 0.5em 0 0.5em; text-align: left; border: none;\">\n                Functional_Maj2\n            </td>\n        </tr>\n    \n        <tr style=\"background-color: hsl(120, 100.00%, 99.94%); border: none;\">\n            <td style=\"padding: 0 1em 0 0.5em; text-align: right; border: none;\">\n                0.0000\n                \n                    &plusmn; 0.0001\n                \n            </td>\n            <td style=\"padding: 0 0.5em 0 0.5em; text-align: left; border: none;\">\n                Neighborhood_Veenker\n            </td>\n        </tr>\n    \n        <tr style=\"background-color: hsl(120, 100.00%, 99.94%); border: none;\">\n            <td style=\"padding: 0 1em 0 0.5em; text-align: right; border: none;\">\n                0.0000\n                \n                    &plusmn; 0.0002\n                \n            </td>\n            <td style=\"padding: 0 0.5em 0 0.5em; text-align: left; border: none;\">\n                Neighborhood_Blmngtn\n            </td>\n        </tr>\n    \n        <tr style=\"background-color: hsl(120, 100.00%, 99.94%); border: none;\">\n            <td style=\"padding: 0 1em 0 0.5em; text-align: right; border: none;\">\n                0.0000\n                \n                    &plusmn; 0.0005\n                \n            </td>\n            <td style=\"padding: 0 0.5em 0 0.5em; text-align: left; border: none;\">\n                Neighborhood_NoRidge\n            </td>\n        </tr>\n    \n        <tr style=\"background-color: hsl(120, 100.00%, 99.94%); border: none;\">\n            <td style=\"padding: 0 1em 0 0.5em; text-align: right; border: none;\">\n                0.0000\n                \n                    &plusmn; 0.0001\n                \n            </td>\n            <td style=\"padding: 0 0.5em 0 0.5em; text-align: left; border: none;\">\n                Neighborhood_MeadowV\n            </td>\n        </tr>\n    \n        <tr style=\"background-color: hsl(120, 100.00%, 99.94%); border: none;\">\n            <td style=\"padding: 0 1em 0 0.5em; text-align: right; border: none;\">\n                0.0000\n                \n                    &plusmn; 0.0001\n                \n            </td>\n            <td style=\"padding: 0 0.5em 0 0.5em; text-align: left; border: none;\">\n                Neighborhood_IDOTRR\n            </td>\n        </tr>\n    \n        <tr style=\"background-color: hsl(120, 100.00%, 99.94%); border: none;\">\n            <td style=\"padding: 0 1em 0 0.5em; text-align: right; border: none;\">\n                0.0000\n                \n                    &plusmn; 0.0001\n                \n            </td>\n            <td style=\"padding: 0 0.5em 0 0.5em; text-align: left; border: none;\">\n                Condition1_Feedr\n            </td>\n        </tr>\n    \n        <tr style=\"background-color: hsl(120, 100.00%, 99.95%); border: none;\">\n            <td style=\"padding: 0 1em 0 0.5em; text-align: right; border: none;\">\n                0.0000\n                \n                    &plusmn; 0.0002\n                \n            </td>\n            <td style=\"padding: 0 0.5em 0 0.5em; text-align: left; border: none;\">\n                Condition1_PosN\n            </td>\n        </tr>\n    \n        <tr style=\"background-color: hsl(120, 100.00%, 99.95%); border: none;\">\n            <td style=\"padding: 0 1em 0 0.5em; text-align: right; border: none;\">\n                0.0000\n                \n                    &plusmn; 0.0002\n                \n            </td>\n            <td style=\"padding: 0 0.5em 0 0.5em; text-align: left; border: none;\">\n                Neighborhood_Mitchel\n            </td>\n        </tr>\n    \n        <tr style=\"background-color: hsl(120, 100.00%, 99.95%); border: none;\">\n            <td style=\"padding: 0 1em 0 0.5em; text-align: right; border: none;\">\n                0.0000\n                \n                    &plusmn; 0.0005\n                \n            </td>\n            <td style=\"padding: 0 0.5em 0 0.5em; text-align: left; border: none;\">\n                Neighborhood_ClearCr\n            </td>\n        </tr>\n    \n        <tr style=\"background-color: hsl(120, 100.00%, 99.95%); border: none;\">\n            <td style=\"padding: 0 1em 0 0.5em; text-align: right; border: none;\">\n                0.0000\n                \n                    &plusmn; 0.0001\n                \n            </td>\n            <td style=\"padding: 0 0.5em 0 0.5em; text-align: left; border: none;\">\n                MasVnrType_BrkCmn\n            </td>\n        </tr>\n    \n        <tr style=\"background-color: hsl(120, 100.00%, 99.95%); border: none;\">\n            <td style=\"padding: 0 1em 0 0.5em; text-align: right; border: none;\">\n                0.0000\n                \n                    &plusmn; 0.0001\n                \n            </td>\n            <td style=\"padding: 0 0.5em 0 0.5em; text-align: left; border: none;\">\n                PavedDrive_N\n            </td>\n        </tr>\n    \n        <tr style=\"background-color: hsl(120, 100.00%, 99.96%); border: none;\">\n            <td style=\"padding: 0 1em 0 0.5em; text-align: right; border: none;\">\n                0.0000\n                \n                    &plusmn; 0.0001\n                \n            </td>\n            <td style=\"padding: 0 0.5em 0 0.5em; text-align: left; border: none;\">\n                Exterior1st_WdShing\n            </td>\n        </tr>\n    \n        <tr style=\"background-color: hsl(120, 100.00%, 99.96%); border: none;\">\n            <td style=\"padding: 0 1em 0 0.5em; text-align: right; border: none;\">\n                0.0000\n                \n                    &plusmn; 0.0002\n                \n            </td>\n            <td style=\"padding: 0 0.5em 0 0.5em; text-align: left; border: none;\">\n                RoofStyle_Hip\n            </td>\n        </tr>\n    \n        <tr style=\"background-color: hsl(120, 100.00%, 99.96%); border: none;\">\n            <td style=\"padding: 0 1em 0 0.5em; text-align: right; border: none;\">\n                0.0000\n                \n                    &plusmn; 0.0001\n                \n            </td>\n            <td style=\"padding: 0 0.5em 0 0.5em; text-align: left; border: none;\">\n                Heating_GasA\n            </td>\n        </tr>\n    \n        <tr style=\"background-color: hsl(120, 100.00%, 99.97%); border: none;\">\n            <td style=\"padding: 0 1em 0 0.5em; text-align: right; border: none;\">\n                0.0000\n                \n                    &plusmn; 0.0002\n                \n            </td>\n            <td style=\"padding: 0 0.5em 0 0.5em; text-align: left; border: none;\">\n                LandSlope_Gtl\n            </td>\n        </tr>\n    \n        <tr style=\"background-color: hsl(120, 100.00%, 99.97%); border: none;\">\n            <td style=\"padding: 0 1em 0 0.5em; text-align: right; border: none;\">\n                0.0000\n                \n                    &plusmn; 0.0003\n                \n            </td>\n            <td style=\"padding: 0 0.5em 0 0.5em; text-align: left; border: none;\">\n                BsmtFinType2\n            </td>\n        </tr>\n    \n        <tr style=\"background-color: hsl(120, 100.00%, 99.98%); border: none;\">\n            <td style=\"padding: 0 1em 0 0.5em; text-align: right; border: none;\">\n                0.0000\n                \n                    &plusmn; 0.0000\n                \n            </td>\n            <td style=\"padding: 0 0.5em 0 0.5em; text-align: left; border: none;\">\n                Condition2_Norm\n            </td>\n        </tr>\n    \n        <tr style=\"background-color: hsl(120, 100.00%, 99.98%); border: none;\">\n            <td style=\"padding: 0 1em 0 0.5em; text-align: right; border: none;\">\n                0.0000\n                \n                    &plusmn; 0.0001\n                \n            </td>\n            <td style=\"padding: 0 0.5em 0 0.5em; text-align: left; border: none;\">\n                MiscFeature_NA\n            </td>\n        </tr>\n    \n        <tr style=\"background-color: hsl(120, 100.00%, 99.98%); border: none;\">\n            <td style=\"padding: 0 1em 0 0.5em; text-align: right; border: none;\">\n                0.0000\n                \n                    &plusmn; 0.0009\n                \n            </td>\n            <td style=\"padding: 0 0.5em 0 0.5em; text-align: left; border: none;\">\n                Exterior1st_MetalSd\n            </td>\n        </tr>\n    \n        <tr style=\"background-color: hsl(120, 100.00%, 99.98%); border: none;\">\n            <td style=\"padding: 0 1em 0 0.5em; text-align: right; border: none;\">\n                0.0000\n                \n                    &plusmn; 0.0000\n                \n            </td>\n            <td style=\"padding: 0 0.5em 0 0.5em; text-align: left; border: none;\">\n                HouseStyle_SFoyer\n            </td>\n        </tr>\n    \n        <tr style=\"background-color: hsl(120, 100.00%, 99.98%); border: none;\">\n            <td style=\"padding: 0 1em 0 0.5em; text-align: right; border: none;\">\n                0.0000\n                \n                    &plusmn; 0.0001\n                \n            </td>\n            <td style=\"padding: 0 0.5em 0 0.5em; text-align: left; border: none;\">\n                Functional_Maj1\n            </td>\n        </tr>\n    \n        <tr style=\"background-color: hsl(120, 100.00%, 99.98%); border: none;\">\n            <td style=\"padding: 0 1em 0 0.5em; text-align: right; border: none;\">\n                0.0000\n                \n                    &plusmn; 0.0001\n                \n            </td>\n            <td style=\"padding: 0 0.5em 0 0.5em; text-align: left; border: none;\">\n                BldgType_2fmCon\n            </td>\n        </tr>\n    \n        <tr style=\"background-color: hsl(120, 100.00%, 99.98%); border: none;\">\n            <td style=\"padding: 0 1em 0 0.5em; text-align: right; border: none;\">\n                0.0000\n                \n                    &plusmn; 0.0000\n                \n            </td>\n            <td style=\"padding: 0 0.5em 0 0.5em; text-align: left; border: none;\">\n                Functional_Min2\n            </td>\n        </tr>\n    \n        <tr style=\"background-color: hsl(120, 100.00%, 99.99%); border: none;\">\n            <td style=\"padding: 0 1em 0 0.5em; text-align: right; border: none;\">\n                0.0000\n                \n                    &plusmn; 0.0000\n                \n            </td>\n            <td style=\"padding: 0 0.5em 0 0.5em; text-align: left; border: none;\">\n                MiscFeature_Shed\n            </td>\n        </tr>\n    \n        <tr style=\"background-color: hsl(120, 100.00%, 99.99%); border: none;\">\n            <td style=\"padding: 0 1em 0 0.5em; text-align: right; border: none;\">\n                0.0000\n                \n                    &plusmn; 0.0000\n                \n            </td>\n            <td style=\"padding: 0 0.5em 0 0.5em; text-align: left; border: none;\">\n                GarageType_2Types\n            </td>\n        </tr>\n    \n        <tr style=\"background-color: hsl(120, 100.00%, 99.99%); border: none;\">\n            <td style=\"padding: 0 1em 0 0.5em; text-align: right; border: none;\">\n                0.0000\n                \n                    &plusmn; 0.0003\n                \n            </td>\n            <td style=\"padding: 0 0.5em 0 0.5em; text-align: left; border: none;\">\n                Exterior2nd_Stucco\n            </td>\n        </tr>\n    \n        <tr style=\"background-color: hsl(120, 100.00%, 100.00%); border: none;\">\n            <td style=\"padding: 0 1em 0 0.5em; text-align: right; border: none;\">\n                0.0000\n                \n                    &plusmn; 0.0009\n                \n            </td>\n            <td style=\"padding: 0 0.5em 0 0.5em; text-align: left; border: none;\">\n                Neighborhood_Somerst\n            </td>\n        </tr>\n    \n        <tr style=\"background-color: hsl(120, 100.00%, 100.00%); border: none;\">\n            <td style=\"padding: 0 1em 0 0.5em; text-align: right; border: none;\">\n                0.0000\n                \n                    &plusmn; 0.0000\n                \n            </td>\n            <td style=\"padding: 0 0.5em 0 0.5em; text-align: left; border: none;\">\n                Street\n            </td>\n        </tr>\n    \n        <tr style=\"background-color: hsl(0, 100.00%, 100.00%); border: none;\">\n            <td style=\"padding: 0 1em 0 0.5em; text-align: right; border: none;\">\n                0\n                \n                    &plusmn; 0.0000\n                \n            </td>\n            <td style=\"padding: 0 0.5em 0 0.5em; text-align: left; border: none;\">\n                RoofMatl_WdShngl\n            </td>\n        </tr>\n    \n        <tr style=\"background-color: hsl(0, 100.00%, 100.00%); border: none;\">\n            <td style=\"padding: 0 1em 0 0.5em; text-align: right; border: none;\">\n                -0.0000\n                \n                    &plusmn; 0.0001\n                \n            </td>\n            <td style=\"padding: 0 0.5em 0 0.5em; text-align: left; border: none;\">\n                Neighborhood_SWISU\n            </td>\n        </tr>\n    \n        <tr style=\"background-color: hsl(0, 100.00%, 100.00%); border: none;\">\n            <td style=\"padding: 0 1em 0 0.5em; text-align: right; border: none;\">\n                -0.0000\n                \n                    &plusmn; 0.0000\n                \n            </td>\n            <td style=\"padding: 0 0.5em 0 0.5em; text-align: left; border: none;\">\n                Foundation_Slab\n            </td>\n        </tr>\n    \n        <tr style=\"background-color: hsl(0, 100.00%, 100.00%); border: none;\">\n            <td style=\"padding: 0 1em 0 0.5em; text-align: right; border: none;\">\n                -0.0000\n                \n                    &plusmn; 0.0001\n                \n            </td>\n            <td style=\"padding: 0 0.5em 0 0.5em; text-align: left; border: none;\">\n                MiscVal\n            </td>\n        </tr>\n    \n        <tr style=\"background-color: hsl(0, 100.00%, 99.98%); border: none;\">\n            <td style=\"padding: 0 1em 0 0.5em; text-align: right; border: none;\">\n                -0.0000\n                \n                    &plusmn; 0.0001\n                \n            </td>\n            <td style=\"padding: 0 0.5em 0 0.5em; text-align: left; border: none;\">\n                Exterior2nd_Brk Cmn\n            </td>\n        </tr>\n    \n        <tr style=\"background-color: hsl(0, 100.00%, 99.98%); border: none;\">\n            <td style=\"padding: 0 1em 0 0.5em; text-align: right; border: none;\">\n                -0.0000\n                \n                    &plusmn; 0.0000\n                \n            </td>\n            <td style=\"padding: 0 0.5em 0 0.5em; text-align: left; border: none;\">\n                Condition2_Feedr\n            </td>\n        </tr>\n    \n        <tr style=\"background-color: hsl(0, 100.00%, 99.97%); border: none;\">\n            <td style=\"padding: 0 1em 0 0.5em; text-align: right; border: none;\">\n                -0.0000\n                \n                    &plusmn; 0.0004\n                \n            </td>\n            <td style=\"padding: 0 0.5em 0 0.5em; text-align: left; border: none;\">\n                MasVnrType_Stone\n            </td>\n        </tr>\n    \n        <tr style=\"background-color: hsl(0, 100.00%, 99.97%); border: none;\">\n            <td style=\"padding: 0 1em 0 0.5em; text-align: right; border: none;\">\n                -0.0000\n                \n                    &plusmn; 0.0001\n                \n            </td>\n            <td style=\"padding: 0 0.5em 0 0.5em; text-align: left; border: none;\">\n                Electrical_FuseF\n            </td>\n        </tr>\n    \n        <tr style=\"background-color: hsl(0, 100.00%, 99.97%); border: none;\">\n            <td style=\"padding: 0 1em 0 0.5em; text-align: right; border: none;\">\n                -0.0000\n                \n                    &plusmn; 0.0001\n                \n            </td>\n            <td style=\"padding: 0 0.5em 0 0.5em; text-align: left; border: none;\">\n                Exterior1st_Stucco\n            </td>\n        </tr>\n    \n        <tr style=\"background-color: hsl(0, 100.00%, 99.96%); border: none;\">\n            <td style=\"padding: 0 1em 0 0.5em; text-align: right; border: none;\">\n                -0.0000\n                \n                    &plusmn; 0.0002\n                \n            </td>\n            <td style=\"padding: 0 0.5em 0 0.5em; text-align: left; border: none;\">\n                Neighborhood_Gilbert\n            </td>\n        </tr>\n    \n        <tr style=\"background-color: hsl(0, 100.00%, 99.95%); border: none;\">\n            <td style=\"padding: 0 1em 0 0.5em; text-align: right; border: none;\">\n                -0.0000\n                \n                    &plusmn; 0.0002\n                \n            </td>\n            <td style=\"padding: 0 0.5em 0 0.5em; text-align: left; border: none;\">\n                RoofStyle_Gable\n            </td>\n        </tr>\n    \n        <tr style=\"background-color: hsl(0, 100.00%, 99.90%); border: none;\">\n            <td style=\"padding: 0 1em 0 0.5em; text-align: right; border: none;\">\n                -0.0001\n                \n                    &plusmn; 0.0038\n                \n            </td>\n            <td style=\"padding: 0 0.5em 0 0.5em; text-align: left; border: none;\">\n                MasVnrArea\n            </td>\n        </tr>\n    \n        <tr style=\"background-color: hsl(0, 100.00%, 99.88%); border: none;\">\n            <td style=\"padding: 0 1em 0 0.5em; text-align: right; border: none;\">\n                -0.0001\n                \n                    &plusmn; 0.0002\n                \n            </td>\n            <td style=\"padding: 0 0.5em 0 0.5em; text-align: left; border: none;\">\n                LandContour_Bnk\n            </td>\n        </tr>\n    \n        <tr style=\"background-color: hsl(0, 100.00%, 99.85%); border: none;\">\n            <td style=\"padding: 0 1em 0 0.5em; text-align: right; border: none;\">\n                -0.0001\n                \n                    &plusmn; 0.0009\n                \n            </td>\n            <td style=\"padding: 0 0.5em 0 0.5em; text-align: left; border: none;\">\n                SaleCondition_Family\n            </td>\n        </tr>\n    \n        <tr style=\"background-color: hsl(0, 100.00%, 99.82%); border: none;\">\n            <td style=\"padding: 0 1em 0 0.5em; text-align: right; border: none;\">\n                -0.0001\n                \n                    &plusmn; 0.0005\n                \n            </td>\n            <td style=\"padding: 0 0.5em 0 0.5em; text-align: left; border: none;\">\n                MasVnrType_BrkFace\n            </td>\n        </tr>\n    \n        <tr style=\"background-color: hsl(0, 100.00%, 99.78%); border: none;\">\n            <td style=\"padding: 0 1em 0 0.5em; text-align: right; border: none;\">\n                -0.0002\n                \n                    &plusmn; 0.0007\n                \n            </td>\n            <td style=\"padding: 0 0.5em 0 0.5em; text-align: left; border: none;\">\n                LandContour_Lvl\n            </td>\n        </tr>\n    \n        <tr style=\"background-color: hsl(0, 100.00%, 99.71%); border: none;\">\n            <td style=\"padding: 0 1em 0 0.5em; text-align: right; border: none;\">\n                -0.0003\n                \n                    &plusmn; 0.0010\n                \n            </td>\n            <td style=\"padding: 0 0.5em 0 0.5em; text-align: left; border: none;\">\n                TotRmsAbvGrd\n            </td>\n        </tr>\n    \n    \n    </tbody>\n</table>\n    \n\n    \n\n\n    \n\n    \n\n    \n\n    \n\n    \n\n    \n\n\n\n"
     },
     "metadata": {}
    }
   ]
  },
  {
   "cell_type": "code",
   "source": [
    "pred = grid_search_xgb.predict(X_test_)"
   ],
   "metadata": {
    "execution": {
     "iopub.status.busy": "2023-02-11T22:18:52.005000Z",
     "iopub.execute_input": "2023-02-11T22:18:52.005426Z",
     "iopub.status.idle": "2023-02-11T22:18:52.089684Z",
     "shell.execute_reply.started": "2023-02-11T22:18:52.005393Z",
     "shell.execute_reply": "2023-02-11T22:18:52.088781Z"
    },
    "trusted": true
   },
   "execution_count": 48,
   "outputs": []
  },
  {
   "cell_type": "code",
   "source": [
    "#output = pd.DataFrame({\"Id\": X_test_.index,\"SalePrice\":pred})\n",
    "#output.to_csv(\"submissions.csv\", index=False)"
   ],
   "metadata": {
    "execution": {
     "iopub.status.busy": "2023-02-11T22:18:54.414406Z",
     "iopub.execute_input": "2023-02-11T22:18:54.414800Z",
     "iopub.status.idle": "2023-02-11T22:18:54.420089Z",
     "shell.execute_reply.started": "2023-02-11T22:18:54.414768Z",
     "shell.execute_reply": "2023-02-11T22:18:54.419333Z"
    },
    "trusted": true
   },
   "execution_count": 49,
   "outputs": []
  },
  {
   "cell_type": "code",
   "source": [
    "sample = pd.read_csv(\"/kaggle/input/home-data-for-ml-course/sample_submission.csv\")\n",
    "sample[\"SalePrice\"] = pred\n",
    "sample.to_csv('submission.csv', index=False, sep=\",\")"
   ],
   "metadata": {},
   "execution_count": null,
   "outputs": []
  }
 ]
}
