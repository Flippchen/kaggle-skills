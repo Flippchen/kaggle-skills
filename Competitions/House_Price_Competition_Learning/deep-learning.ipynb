{
 "metadata": {
  "kernelspec": {
   "language": "python",
   "display_name": "Python 3",
   "name": "python3"
  },
  "language_info": {
   "name": "python",
   "version": "3.7.12",
   "mimetype": "text/x-python",
   "codemirror_mode": {
    "name": "ipython",
    "version": 3
   },
   "pygments_lexer": "ipython3",
   "nbconvert_exporter": "python",
   "file_extension": ".py"
  }
 },
 "nbformat_minor": 4,
 "nbformat": 4,
 "cells": [
  {
   "cell_type": "markdown",
   "source": [
    "## **1.Libraries**"
   ],
   "metadata": {}
  },
  {
   "cell_type": "code",
   "source": [
    "import warnings\n",
    "warnings.simplefilter(action='ignore')\n",
    "import pandas as pd\n",
    "import numpy as np\n",
    "import matplotlib.pyplot as plt\n",
    "import seaborn as sns\n",
    "from sklearn.impute import SimpleImputer\n",
    "from sklearn.preprocessing import LabelEncoder\n",
    "from sklearn.utils import shuffle\n",
    "from eli5.sklearn import PermutationImportance\n",
    "from xgboost import XGBRegressor\n",
    "from sklearn.linear_model import Lasso\n",
    "import eli5\n",
    "from sklearn.model_selection import GridSearchCV , cross_val_score, train_test_split\n",
    "from sklearn.preprocessing import MinMaxScaler, StandardScaler, RobustScaler\n",
    "from sklearn.metrics import mean_squared_error\n",
    "from sklearn.preprocessing import OneHotEncoder\n",
    "from scipy import stats\n",
    "from sklearn.feature_selection import SelectFromModel\n"
   ],
   "metadata": {
    "execution": {
     "iopub.status.busy": "2023-02-14T23:29:37.171432Z",
     "iopub.execute_input": "2023-02-14T23:29:37.172598Z",
     "iopub.status.idle": "2023-02-14T23:29:37.179640Z",
     "shell.execute_reply.started": "2023-02-14T23:29:37.172558Z",
     "shell.execute_reply": "2023-02-14T23:29:37.178789Z"
    },
    "trusted": true
   },
   "execution_count": 266,
   "outputs": []
  },
  {
   "cell_type": "markdown",
   "source": [
    "## **2. Import Dataset**"
   ],
   "metadata": {}
  },
  {
   "cell_type": "code",
   "source": [
    "df_train = pd.read_csv(\"/kaggle/input/home-data-for-ml-course/train.csv\")\n",
    "X_test = pd.read_csv(\"/kaggle/input/home-data-for-ml-course/test.csv\")\n",
    "pd.set_option('display.max_columns', None)"
   ],
   "metadata": {
    "execution": {
     "iopub.status.busy": "2023-02-14T23:29:37.183893Z",
     "iopub.execute_input": "2023-02-14T23:29:37.184230Z",
     "iopub.status.idle": "2023-02-14T23:29:37.234120Z",
     "shell.execute_reply.started": "2023-02-14T23:29:37.184201Z",
     "shell.execute_reply": "2023-02-14T23:29:37.233159Z"
    },
    "trusted": true
   },
   "execution_count": 267,
   "outputs": []
  },
  {
   "cell_type": "code",
   "source": [
    "df_train_row = df_train.shape[0]\n"
   ],
   "metadata": {
    "execution": {
     "iopub.status.busy": "2023-02-14T23:29:37.235758Z",
     "iopub.execute_input": "2023-02-14T23:29:37.236149Z",
     "iopub.status.idle": "2023-02-14T23:29:37.240848Z",
     "shell.execute_reply.started": "2023-02-14T23:29:37.236120Z",
     "shell.execute_reply": "2023-02-14T23:29:37.239730Z"
    },
    "trusted": true
   },
   "execution_count": 268,
   "outputs": []
  },
  {
   "cell_type": "code",
   "source": [
    "\n",
    "X_test_row = X_test.shape[0]\n"
   ],
   "metadata": {
    "execution": {
     "iopub.status.busy": "2023-02-14T23:29:37.242504Z",
     "iopub.execute_input": "2023-02-14T23:29:37.243174Z",
     "iopub.status.idle": "2023-02-14T23:29:37.254355Z",
     "shell.execute_reply.started": "2023-02-14T23:29:37.243132Z",
     "shell.execute_reply": "2023-02-14T23:29:37.253123Z"
    },
    "trusted": true
   },
   "execution_count": 269,
   "outputs": []
  },
  {
   "cell_type": "markdown",
   "source": [
    "## **3.Analysis**"
   ],
   "metadata": {}
  },
  {
   "cell_type": "code",
   "source": [
    "df_train.isnull().sum().sort_values(ascending=False).head(40)"
   ],
   "metadata": {
    "execution": {
     "iopub.status.busy": "2023-02-14T23:29:37.256763Z",
     "iopub.execute_input": "2023-02-14T23:29:37.257101Z",
     "iopub.status.idle": "2023-02-14T23:29:37.275838Z",
     "shell.execute_reply.started": "2023-02-14T23:29:37.257051Z",
     "shell.execute_reply": "2023-02-14T23:29:37.275063Z"
    },
    "trusted": true
   },
   "execution_count": 270,
   "outputs": [
    {
     "execution_count": 270,
     "output_type": "execute_result",
     "data": {
      "text/plain": "PoolQC           1453\nMiscFeature      1406\nAlley            1369\nFence            1179\nFireplaceQu       690\nLotFrontage       259\nGarageYrBlt        81\nGarageCond         81\nGarageType         81\nGarageFinish       81\nGarageQual         81\nBsmtFinType2       38\nBsmtExposure       38\nBsmtQual           37\nBsmtCond           37\nBsmtFinType1       37\nMasVnrArea          8\nMasVnrType          8\nElectrical          1\nId                  0\nFunctional          0\nFireplaces          0\nKitchenQual         0\nKitchenAbvGr        0\nBedroomAbvGr        0\nHalfBath            0\nFullBath            0\nBsmtHalfBath        0\nTotRmsAbvGrd        0\nGarageCars          0\nGrLivArea           0\nGarageArea          0\nPavedDrive          0\nWoodDeckSF          0\nOpenPorchSF         0\nEnclosedPorch       0\n3SsnPorch           0\nScreenPorch         0\nPoolArea            0\nMiscVal             0\ndtype: int64"
     },
     "metadata": {}
    }
   ]
  },
  {
   "cell_type": "code",
   "source": [
    "df_train.describe()"
   ],
   "metadata": {
    "execution": {
     "iopub.status.busy": "2023-02-14T23:29:37.277279Z",
     "iopub.execute_input": "2023-02-14T23:29:37.277858Z",
     "iopub.status.idle": "2023-02-14T23:29:37.393645Z",
     "shell.execute_reply.started": "2023-02-14T23:29:37.277826Z",
     "shell.execute_reply": "2023-02-14T23:29:37.392850Z"
    },
    "trusted": true
   },
   "execution_count": 271,
   "outputs": [
    {
     "execution_count": 271,
     "output_type": "execute_result",
     "data": {
      "text/plain": "                Id   MSSubClass  LotFrontage        LotArea  OverallQual  \\\ncount  1460.000000  1460.000000  1201.000000    1460.000000  1460.000000   \nmean    730.500000    56.897260    70.049958   10516.828082     6.099315   \nstd     421.610009    42.300571    24.284752    9981.264932     1.382997   \nmin       1.000000    20.000000    21.000000    1300.000000     1.000000   \n25%     365.750000    20.000000    59.000000    7553.500000     5.000000   \n50%     730.500000    50.000000    69.000000    9478.500000     6.000000   \n75%    1095.250000    70.000000    80.000000   11601.500000     7.000000   \nmax    1460.000000   190.000000   313.000000  215245.000000    10.000000   \n\n       OverallCond    YearBuilt  YearRemodAdd   MasVnrArea   BsmtFinSF1  \\\ncount  1460.000000  1460.000000   1460.000000  1452.000000  1460.000000   \nmean      5.575342  1971.267808   1984.865753   103.685262   443.639726   \nstd       1.112799    30.202904     20.645407   181.066207   456.098091   \nmin       1.000000  1872.000000   1950.000000     0.000000     0.000000   \n25%       5.000000  1954.000000   1967.000000     0.000000     0.000000   \n50%       5.000000  1973.000000   1994.000000     0.000000   383.500000   \n75%       6.000000  2000.000000   2004.000000   166.000000   712.250000   \nmax       9.000000  2010.000000   2010.000000  1600.000000  5644.000000   \n\n        BsmtFinSF2    BsmtUnfSF  TotalBsmtSF     1stFlrSF     2ndFlrSF  \\\ncount  1460.000000  1460.000000  1460.000000  1460.000000  1460.000000   \nmean     46.549315   567.240411  1057.429452  1162.626712   346.992466   \nstd     161.319273   441.866955   438.705324   386.587738   436.528436   \nmin       0.000000     0.000000     0.000000   334.000000     0.000000   \n25%       0.000000   223.000000   795.750000   882.000000     0.000000   \n50%       0.000000   477.500000   991.500000  1087.000000     0.000000   \n75%       0.000000   808.000000  1298.250000  1391.250000   728.000000   \nmax    1474.000000  2336.000000  6110.000000  4692.000000  2065.000000   \n\n       LowQualFinSF    GrLivArea  BsmtFullBath  BsmtHalfBath     FullBath  \\\ncount   1460.000000  1460.000000   1460.000000   1460.000000  1460.000000   \nmean       5.844521  1515.463699      0.425342      0.057534     1.565068   \nstd       48.623081   525.480383      0.518911      0.238753     0.550916   \nmin        0.000000   334.000000      0.000000      0.000000     0.000000   \n25%        0.000000  1129.500000      0.000000      0.000000     1.000000   \n50%        0.000000  1464.000000      0.000000      0.000000     2.000000   \n75%        0.000000  1776.750000      1.000000      0.000000     2.000000   \nmax      572.000000  5642.000000      3.000000      2.000000     3.000000   \n\n          HalfBath  BedroomAbvGr  KitchenAbvGr  TotRmsAbvGrd   Fireplaces  \\\ncount  1460.000000   1460.000000   1460.000000   1460.000000  1460.000000   \nmean      0.382877      2.866438      1.046575      6.517808     0.613014   \nstd       0.502885      0.815778      0.220338      1.625393     0.644666   \nmin       0.000000      0.000000      0.000000      2.000000     0.000000   \n25%       0.000000      2.000000      1.000000      5.000000     0.000000   \n50%       0.000000      3.000000      1.000000      6.000000     1.000000   \n75%       1.000000      3.000000      1.000000      7.000000     1.000000   \nmax       2.000000      8.000000      3.000000     14.000000     3.000000   \n\n       GarageYrBlt   GarageCars   GarageArea   WoodDeckSF  OpenPorchSF  \\\ncount  1379.000000  1460.000000  1460.000000  1460.000000  1460.000000   \nmean   1978.506164     1.767123   472.980137    94.244521    46.660274   \nstd      24.689725     0.747315   213.804841   125.338794    66.256028   \nmin    1900.000000     0.000000     0.000000     0.000000     0.000000   \n25%    1961.000000     1.000000   334.500000     0.000000     0.000000   \n50%    1980.000000     2.000000   480.000000     0.000000    25.000000   \n75%    2002.000000     2.000000   576.000000   168.000000    68.000000   \nmax    2010.000000     4.000000  1418.000000   857.000000   547.000000   \n\n       EnclosedPorch    3SsnPorch  ScreenPorch     PoolArea       MiscVal  \\\ncount    1460.000000  1460.000000  1460.000000  1460.000000   1460.000000   \nmean       21.954110     3.409589    15.060959     2.758904     43.489041   \nstd        61.119149    29.317331    55.757415    40.177307    496.123024   \nmin         0.000000     0.000000     0.000000     0.000000      0.000000   \n25%         0.000000     0.000000     0.000000     0.000000      0.000000   \n50%         0.000000     0.000000     0.000000     0.000000      0.000000   \n75%         0.000000     0.000000     0.000000     0.000000      0.000000   \nmax       552.000000   508.000000   480.000000   738.000000  15500.000000   \n\n            MoSold       YrSold      SalePrice  \ncount  1460.000000  1460.000000    1460.000000  \nmean      6.321918  2007.815753  180921.195890  \nstd       2.703626     1.328095   79442.502883  \nmin       1.000000  2006.000000   34900.000000  \n25%       5.000000  2007.000000  129975.000000  \n50%       6.000000  2008.000000  163000.000000  \n75%       8.000000  2009.000000  214000.000000  \nmax      12.000000  2010.000000  755000.000000  ",
      "text/html": "<div>\n<style scoped>\n    .dataframe tbody tr th:only-of-type {\n        vertical-align: middle;\n    }\n\n    .dataframe tbody tr th {\n        vertical-align: top;\n    }\n\n    .dataframe thead th {\n        text-align: right;\n    }\n</style>\n<table border=\"1\" class=\"dataframe\">\n  <thead>\n    <tr style=\"text-align: right;\">\n      <th></th>\n      <th>Id</th>\n      <th>MSSubClass</th>\n      <th>LotFrontage</th>\n      <th>LotArea</th>\n      <th>OverallQual</th>\n      <th>OverallCond</th>\n      <th>YearBuilt</th>\n      <th>YearRemodAdd</th>\n      <th>MasVnrArea</th>\n      <th>BsmtFinSF1</th>\n      <th>BsmtFinSF2</th>\n      <th>BsmtUnfSF</th>\n      <th>TotalBsmtSF</th>\n      <th>1stFlrSF</th>\n      <th>2ndFlrSF</th>\n      <th>LowQualFinSF</th>\n      <th>GrLivArea</th>\n      <th>BsmtFullBath</th>\n      <th>BsmtHalfBath</th>\n      <th>FullBath</th>\n      <th>HalfBath</th>\n      <th>BedroomAbvGr</th>\n      <th>KitchenAbvGr</th>\n      <th>TotRmsAbvGrd</th>\n      <th>Fireplaces</th>\n      <th>GarageYrBlt</th>\n      <th>GarageCars</th>\n      <th>GarageArea</th>\n      <th>WoodDeckSF</th>\n      <th>OpenPorchSF</th>\n      <th>EnclosedPorch</th>\n      <th>3SsnPorch</th>\n      <th>ScreenPorch</th>\n      <th>PoolArea</th>\n      <th>MiscVal</th>\n      <th>MoSold</th>\n      <th>YrSold</th>\n      <th>SalePrice</th>\n    </tr>\n  </thead>\n  <tbody>\n    <tr>\n      <th>count</th>\n      <td>1460.000000</td>\n      <td>1460.000000</td>\n      <td>1201.000000</td>\n      <td>1460.000000</td>\n      <td>1460.000000</td>\n      <td>1460.000000</td>\n      <td>1460.000000</td>\n      <td>1460.000000</td>\n      <td>1452.000000</td>\n      <td>1460.000000</td>\n      <td>1460.000000</td>\n      <td>1460.000000</td>\n      <td>1460.000000</td>\n      <td>1460.000000</td>\n      <td>1460.000000</td>\n      <td>1460.000000</td>\n      <td>1460.000000</td>\n      <td>1460.000000</td>\n      <td>1460.000000</td>\n      <td>1460.000000</td>\n      <td>1460.000000</td>\n      <td>1460.000000</td>\n      <td>1460.000000</td>\n      <td>1460.000000</td>\n      <td>1460.000000</td>\n      <td>1379.000000</td>\n      <td>1460.000000</td>\n      <td>1460.000000</td>\n      <td>1460.000000</td>\n      <td>1460.000000</td>\n      <td>1460.000000</td>\n      <td>1460.000000</td>\n      <td>1460.000000</td>\n      <td>1460.000000</td>\n      <td>1460.000000</td>\n      <td>1460.000000</td>\n      <td>1460.000000</td>\n      <td>1460.000000</td>\n    </tr>\n    <tr>\n      <th>mean</th>\n      <td>730.500000</td>\n      <td>56.897260</td>\n      <td>70.049958</td>\n      <td>10516.828082</td>\n      <td>6.099315</td>\n      <td>5.575342</td>\n      <td>1971.267808</td>\n      <td>1984.865753</td>\n      <td>103.685262</td>\n      <td>443.639726</td>\n      <td>46.549315</td>\n      <td>567.240411</td>\n      <td>1057.429452</td>\n      <td>1162.626712</td>\n      <td>346.992466</td>\n      <td>5.844521</td>\n      <td>1515.463699</td>\n      <td>0.425342</td>\n      <td>0.057534</td>\n      <td>1.565068</td>\n      <td>0.382877</td>\n      <td>2.866438</td>\n      <td>1.046575</td>\n      <td>6.517808</td>\n      <td>0.613014</td>\n      <td>1978.506164</td>\n      <td>1.767123</td>\n      <td>472.980137</td>\n      <td>94.244521</td>\n      <td>46.660274</td>\n      <td>21.954110</td>\n      <td>3.409589</td>\n      <td>15.060959</td>\n      <td>2.758904</td>\n      <td>43.489041</td>\n      <td>6.321918</td>\n      <td>2007.815753</td>\n      <td>180921.195890</td>\n    </tr>\n    <tr>\n      <th>std</th>\n      <td>421.610009</td>\n      <td>42.300571</td>\n      <td>24.284752</td>\n      <td>9981.264932</td>\n      <td>1.382997</td>\n      <td>1.112799</td>\n      <td>30.202904</td>\n      <td>20.645407</td>\n      <td>181.066207</td>\n      <td>456.098091</td>\n      <td>161.319273</td>\n      <td>441.866955</td>\n      <td>438.705324</td>\n      <td>386.587738</td>\n      <td>436.528436</td>\n      <td>48.623081</td>\n      <td>525.480383</td>\n      <td>0.518911</td>\n      <td>0.238753</td>\n      <td>0.550916</td>\n      <td>0.502885</td>\n      <td>0.815778</td>\n      <td>0.220338</td>\n      <td>1.625393</td>\n      <td>0.644666</td>\n      <td>24.689725</td>\n      <td>0.747315</td>\n      <td>213.804841</td>\n      <td>125.338794</td>\n      <td>66.256028</td>\n      <td>61.119149</td>\n      <td>29.317331</td>\n      <td>55.757415</td>\n      <td>40.177307</td>\n      <td>496.123024</td>\n      <td>2.703626</td>\n      <td>1.328095</td>\n      <td>79442.502883</td>\n    </tr>\n    <tr>\n      <th>min</th>\n      <td>1.000000</td>\n      <td>20.000000</td>\n      <td>21.000000</td>\n      <td>1300.000000</td>\n      <td>1.000000</td>\n      <td>1.000000</td>\n      <td>1872.000000</td>\n      <td>1950.000000</td>\n      <td>0.000000</td>\n      <td>0.000000</td>\n      <td>0.000000</td>\n      <td>0.000000</td>\n      <td>0.000000</td>\n      <td>334.000000</td>\n      <td>0.000000</td>\n      <td>0.000000</td>\n      <td>334.000000</td>\n      <td>0.000000</td>\n      <td>0.000000</td>\n      <td>0.000000</td>\n      <td>0.000000</td>\n      <td>0.000000</td>\n      <td>0.000000</td>\n      <td>2.000000</td>\n      <td>0.000000</td>\n      <td>1900.000000</td>\n      <td>0.000000</td>\n      <td>0.000000</td>\n      <td>0.000000</td>\n      <td>0.000000</td>\n      <td>0.000000</td>\n      <td>0.000000</td>\n      <td>0.000000</td>\n      <td>0.000000</td>\n      <td>0.000000</td>\n      <td>1.000000</td>\n      <td>2006.000000</td>\n      <td>34900.000000</td>\n    </tr>\n    <tr>\n      <th>25%</th>\n      <td>365.750000</td>\n      <td>20.000000</td>\n      <td>59.000000</td>\n      <td>7553.500000</td>\n      <td>5.000000</td>\n      <td>5.000000</td>\n      <td>1954.000000</td>\n      <td>1967.000000</td>\n      <td>0.000000</td>\n      <td>0.000000</td>\n      <td>0.000000</td>\n      <td>223.000000</td>\n      <td>795.750000</td>\n      <td>882.000000</td>\n      <td>0.000000</td>\n      <td>0.000000</td>\n      <td>1129.500000</td>\n      <td>0.000000</td>\n      <td>0.000000</td>\n      <td>1.000000</td>\n      <td>0.000000</td>\n      <td>2.000000</td>\n      <td>1.000000</td>\n      <td>5.000000</td>\n      <td>0.000000</td>\n      <td>1961.000000</td>\n      <td>1.000000</td>\n      <td>334.500000</td>\n      <td>0.000000</td>\n      <td>0.000000</td>\n      <td>0.000000</td>\n      <td>0.000000</td>\n      <td>0.000000</td>\n      <td>0.000000</td>\n      <td>0.000000</td>\n      <td>5.000000</td>\n      <td>2007.000000</td>\n      <td>129975.000000</td>\n    </tr>\n    <tr>\n      <th>50%</th>\n      <td>730.500000</td>\n      <td>50.000000</td>\n      <td>69.000000</td>\n      <td>9478.500000</td>\n      <td>6.000000</td>\n      <td>5.000000</td>\n      <td>1973.000000</td>\n      <td>1994.000000</td>\n      <td>0.000000</td>\n      <td>383.500000</td>\n      <td>0.000000</td>\n      <td>477.500000</td>\n      <td>991.500000</td>\n      <td>1087.000000</td>\n      <td>0.000000</td>\n      <td>0.000000</td>\n      <td>1464.000000</td>\n      <td>0.000000</td>\n      <td>0.000000</td>\n      <td>2.000000</td>\n      <td>0.000000</td>\n      <td>3.000000</td>\n      <td>1.000000</td>\n      <td>6.000000</td>\n      <td>1.000000</td>\n      <td>1980.000000</td>\n      <td>2.000000</td>\n      <td>480.000000</td>\n      <td>0.000000</td>\n      <td>25.000000</td>\n      <td>0.000000</td>\n      <td>0.000000</td>\n      <td>0.000000</td>\n      <td>0.000000</td>\n      <td>0.000000</td>\n      <td>6.000000</td>\n      <td>2008.000000</td>\n      <td>163000.000000</td>\n    </tr>\n    <tr>\n      <th>75%</th>\n      <td>1095.250000</td>\n      <td>70.000000</td>\n      <td>80.000000</td>\n      <td>11601.500000</td>\n      <td>7.000000</td>\n      <td>6.000000</td>\n      <td>2000.000000</td>\n      <td>2004.000000</td>\n      <td>166.000000</td>\n      <td>712.250000</td>\n      <td>0.000000</td>\n      <td>808.000000</td>\n      <td>1298.250000</td>\n      <td>1391.250000</td>\n      <td>728.000000</td>\n      <td>0.000000</td>\n      <td>1776.750000</td>\n      <td>1.000000</td>\n      <td>0.000000</td>\n      <td>2.000000</td>\n      <td>1.000000</td>\n      <td>3.000000</td>\n      <td>1.000000</td>\n      <td>7.000000</td>\n      <td>1.000000</td>\n      <td>2002.000000</td>\n      <td>2.000000</td>\n      <td>576.000000</td>\n      <td>168.000000</td>\n      <td>68.000000</td>\n      <td>0.000000</td>\n      <td>0.000000</td>\n      <td>0.000000</td>\n      <td>0.000000</td>\n      <td>0.000000</td>\n      <td>8.000000</td>\n      <td>2009.000000</td>\n      <td>214000.000000</td>\n    </tr>\n    <tr>\n      <th>max</th>\n      <td>1460.000000</td>\n      <td>190.000000</td>\n      <td>313.000000</td>\n      <td>215245.000000</td>\n      <td>10.000000</td>\n      <td>9.000000</td>\n      <td>2010.000000</td>\n      <td>2010.000000</td>\n      <td>1600.000000</td>\n      <td>5644.000000</td>\n      <td>1474.000000</td>\n      <td>2336.000000</td>\n      <td>6110.000000</td>\n      <td>4692.000000</td>\n      <td>2065.000000</td>\n      <td>572.000000</td>\n      <td>5642.000000</td>\n      <td>3.000000</td>\n      <td>2.000000</td>\n      <td>3.000000</td>\n      <td>2.000000</td>\n      <td>8.000000</td>\n      <td>3.000000</td>\n      <td>14.000000</td>\n      <td>3.000000</td>\n      <td>2010.000000</td>\n      <td>4.000000</td>\n      <td>1418.000000</td>\n      <td>857.000000</td>\n      <td>547.000000</td>\n      <td>552.000000</td>\n      <td>508.000000</td>\n      <td>480.000000</td>\n      <td>738.000000</td>\n      <td>15500.000000</td>\n      <td>12.000000</td>\n      <td>2010.000000</td>\n      <td>755000.000000</td>\n    </tr>\n  </tbody>\n</table>\n</div>"
     },
     "metadata": {}
    }
   ]
  },
  {
   "cell_type": "code",
   "source": [
    "X_test.describe()"
   ],
   "metadata": {
    "execution": {
     "iopub.status.busy": "2023-02-14T23:29:37.395416Z",
     "iopub.execute_input": "2023-02-14T23:29:37.395901Z",
     "iopub.status.idle": "2023-02-14T23:29:37.509845Z",
     "shell.execute_reply.started": "2023-02-14T23:29:37.395872Z",
     "shell.execute_reply": "2023-02-14T23:29:37.509021Z"
    },
    "trusted": true
   },
   "execution_count": 272,
   "outputs": [
    {
     "execution_count": 272,
     "output_type": "execute_result",
     "data": {
      "text/plain": "                Id   MSSubClass  LotFrontage       LotArea  OverallQual  \\\ncount  1459.000000  1459.000000  1232.000000   1459.000000  1459.000000   \nmean   2190.000000    57.378341    68.580357   9819.161069     6.078821   \nstd     421.321334    42.746880    22.376841   4955.517327     1.436812   \nmin    1461.000000    20.000000    21.000000   1470.000000     1.000000   \n25%    1825.500000    20.000000    58.000000   7391.000000     5.000000   \n50%    2190.000000    50.000000    67.000000   9399.000000     6.000000   \n75%    2554.500000    70.000000    80.000000  11517.500000     7.000000   \nmax    2919.000000   190.000000   200.000000  56600.000000    10.000000   \n\n       OverallCond    YearBuilt  YearRemodAdd   MasVnrArea   BsmtFinSF1  \\\ncount  1459.000000  1459.000000   1459.000000  1444.000000  1458.000000   \nmean      5.553804  1971.357779   1983.662783   100.709141   439.203704   \nstd       1.113740    30.390071     21.130467   177.625900   455.268042   \nmin       1.000000  1879.000000   1950.000000     0.000000     0.000000   \n25%       5.000000  1953.000000   1963.000000     0.000000     0.000000   \n50%       5.000000  1973.000000   1992.000000     0.000000   350.500000   \n75%       6.000000  2001.000000   2004.000000   164.000000   753.500000   \nmax       9.000000  2010.000000   2010.000000  1290.000000  4010.000000   \n\n        BsmtFinSF2    BsmtUnfSF  TotalBsmtSF     1stFlrSF     2ndFlrSF  \\\ncount  1458.000000  1458.000000  1458.000000  1459.000000  1459.000000   \nmean     52.619342   554.294925  1046.117970  1156.534613   325.967786   \nstd     176.753926   437.260486   442.898624   398.165820   420.610226   \nmin       0.000000     0.000000     0.000000   407.000000     0.000000   \n25%       0.000000   219.250000   784.000000   873.500000     0.000000   \n50%       0.000000   460.000000   988.000000  1079.000000     0.000000   \n75%       0.000000   797.750000  1305.000000  1382.500000   676.000000   \nmax    1526.000000  2140.000000  5095.000000  5095.000000  1862.000000   \n\n       LowQualFinSF    GrLivArea  BsmtFullBath  BsmtHalfBath     FullBath  \\\ncount   1459.000000  1459.000000   1457.000000   1457.000000  1459.000000   \nmean       3.543523  1486.045922      0.434454      0.065202     1.570939   \nstd       44.043251   485.566099      0.530648      0.252468     0.555190   \nmin        0.000000   407.000000      0.000000      0.000000     0.000000   \n25%        0.000000  1117.500000      0.000000      0.000000     1.000000   \n50%        0.000000  1432.000000      0.000000      0.000000     2.000000   \n75%        0.000000  1721.000000      1.000000      0.000000     2.000000   \nmax     1064.000000  5095.000000      3.000000      2.000000     4.000000   \n\n          HalfBath  BedroomAbvGr  KitchenAbvGr  TotRmsAbvGrd  Fireplaces  \\\ncount  1459.000000   1459.000000   1459.000000   1459.000000  1459.00000   \nmean      0.377656      2.854010      1.042495      6.385195     0.58122   \nstd       0.503017      0.829788      0.208472      1.508895     0.64742   \nmin       0.000000      0.000000      0.000000      3.000000     0.00000   \n25%       0.000000      2.000000      1.000000      5.000000     0.00000   \n50%       0.000000      3.000000      1.000000      6.000000     0.00000   \n75%       1.000000      3.000000      1.000000      7.000000     1.00000   \nmax       2.000000      6.000000      2.000000     15.000000     4.00000   \n\n       GarageYrBlt   GarageCars   GarageArea   WoodDeckSF  OpenPorchSF  \\\ncount  1381.000000  1458.000000  1458.000000  1459.000000  1459.000000   \nmean   1977.721217     1.766118   472.768861    93.174777    48.313914   \nstd      26.431175     0.775945   217.048611   127.744882    68.883364   \nmin    1895.000000     0.000000     0.000000     0.000000     0.000000   \n25%    1959.000000     1.000000   318.000000     0.000000     0.000000   \n50%    1979.000000     2.000000   480.000000     0.000000    28.000000   \n75%    2002.000000     2.000000   576.000000   168.000000    72.000000   \nmax    2207.000000     5.000000  1488.000000  1424.000000   742.000000   \n\n       EnclosedPorch    3SsnPorch  ScreenPorch     PoolArea       MiscVal  \\\ncount    1459.000000  1459.000000  1459.000000  1459.000000   1459.000000   \nmean       24.243317     1.794380    17.064428     1.744345     58.167923   \nstd        67.227765    20.207842    56.609763    30.491646    630.806978   \nmin         0.000000     0.000000     0.000000     0.000000      0.000000   \n25%         0.000000     0.000000     0.000000     0.000000      0.000000   \n50%         0.000000     0.000000     0.000000     0.000000      0.000000   \n75%         0.000000     0.000000     0.000000     0.000000      0.000000   \nmax      1012.000000   360.000000   576.000000   800.000000  17000.000000   \n\n            MoSold       YrSold  \ncount  1459.000000  1459.000000  \nmean      6.104181  2007.769705  \nstd       2.722432     1.301740  \nmin       1.000000  2006.000000  \n25%       4.000000  2007.000000  \n50%       6.000000  2008.000000  \n75%       8.000000  2009.000000  \nmax      12.000000  2010.000000  ",
      "text/html": "<div>\n<style scoped>\n    .dataframe tbody tr th:only-of-type {\n        vertical-align: middle;\n    }\n\n    .dataframe tbody tr th {\n        vertical-align: top;\n    }\n\n    .dataframe thead th {\n        text-align: right;\n    }\n</style>\n<table border=\"1\" class=\"dataframe\">\n  <thead>\n    <tr style=\"text-align: right;\">\n      <th></th>\n      <th>Id</th>\n      <th>MSSubClass</th>\n      <th>LotFrontage</th>\n      <th>LotArea</th>\n      <th>OverallQual</th>\n      <th>OverallCond</th>\n      <th>YearBuilt</th>\n      <th>YearRemodAdd</th>\n      <th>MasVnrArea</th>\n      <th>BsmtFinSF1</th>\n      <th>BsmtFinSF2</th>\n      <th>BsmtUnfSF</th>\n      <th>TotalBsmtSF</th>\n      <th>1stFlrSF</th>\n      <th>2ndFlrSF</th>\n      <th>LowQualFinSF</th>\n      <th>GrLivArea</th>\n      <th>BsmtFullBath</th>\n      <th>BsmtHalfBath</th>\n      <th>FullBath</th>\n      <th>HalfBath</th>\n      <th>BedroomAbvGr</th>\n      <th>KitchenAbvGr</th>\n      <th>TotRmsAbvGrd</th>\n      <th>Fireplaces</th>\n      <th>GarageYrBlt</th>\n      <th>GarageCars</th>\n      <th>GarageArea</th>\n      <th>WoodDeckSF</th>\n      <th>OpenPorchSF</th>\n      <th>EnclosedPorch</th>\n      <th>3SsnPorch</th>\n      <th>ScreenPorch</th>\n      <th>PoolArea</th>\n      <th>MiscVal</th>\n      <th>MoSold</th>\n      <th>YrSold</th>\n    </tr>\n  </thead>\n  <tbody>\n    <tr>\n      <th>count</th>\n      <td>1459.000000</td>\n      <td>1459.000000</td>\n      <td>1232.000000</td>\n      <td>1459.000000</td>\n      <td>1459.000000</td>\n      <td>1459.000000</td>\n      <td>1459.000000</td>\n      <td>1459.000000</td>\n      <td>1444.000000</td>\n      <td>1458.000000</td>\n      <td>1458.000000</td>\n      <td>1458.000000</td>\n      <td>1458.000000</td>\n      <td>1459.000000</td>\n      <td>1459.000000</td>\n      <td>1459.000000</td>\n      <td>1459.000000</td>\n      <td>1457.000000</td>\n      <td>1457.000000</td>\n      <td>1459.000000</td>\n      <td>1459.000000</td>\n      <td>1459.000000</td>\n      <td>1459.000000</td>\n      <td>1459.000000</td>\n      <td>1459.00000</td>\n      <td>1381.000000</td>\n      <td>1458.000000</td>\n      <td>1458.000000</td>\n      <td>1459.000000</td>\n      <td>1459.000000</td>\n      <td>1459.000000</td>\n      <td>1459.000000</td>\n      <td>1459.000000</td>\n      <td>1459.000000</td>\n      <td>1459.000000</td>\n      <td>1459.000000</td>\n      <td>1459.000000</td>\n    </tr>\n    <tr>\n      <th>mean</th>\n      <td>2190.000000</td>\n      <td>57.378341</td>\n      <td>68.580357</td>\n      <td>9819.161069</td>\n      <td>6.078821</td>\n      <td>5.553804</td>\n      <td>1971.357779</td>\n      <td>1983.662783</td>\n      <td>100.709141</td>\n      <td>439.203704</td>\n      <td>52.619342</td>\n      <td>554.294925</td>\n      <td>1046.117970</td>\n      <td>1156.534613</td>\n      <td>325.967786</td>\n      <td>3.543523</td>\n      <td>1486.045922</td>\n      <td>0.434454</td>\n      <td>0.065202</td>\n      <td>1.570939</td>\n      <td>0.377656</td>\n      <td>2.854010</td>\n      <td>1.042495</td>\n      <td>6.385195</td>\n      <td>0.58122</td>\n      <td>1977.721217</td>\n      <td>1.766118</td>\n      <td>472.768861</td>\n      <td>93.174777</td>\n      <td>48.313914</td>\n      <td>24.243317</td>\n      <td>1.794380</td>\n      <td>17.064428</td>\n      <td>1.744345</td>\n      <td>58.167923</td>\n      <td>6.104181</td>\n      <td>2007.769705</td>\n    </tr>\n    <tr>\n      <th>std</th>\n      <td>421.321334</td>\n      <td>42.746880</td>\n      <td>22.376841</td>\n      <td>4955.517327</td>\n      <td>1.436812</td>\n      <td>1.113740</td>\n      <td>30.390071</td>\n      <td>21.130467</td>\n      <td>177.625900</td>\n      <td>455.268042</td>\n      <td>176.753926</td>\n      <td>437.260486</td>\n      <td>442.898624</td>\n      <td>398.165820</td>\n      <td>420.610226</td>\n      <td>44.043251</td>\n      <td>485.566099</td>\n      <td>0.530648</td>\n      <td>0.252468</td>\n      <td>0.555190</td>\n      <td>0.503017</td>\n      <td>0.829788</td>\n      <td>0.208472</td>\n      <td>1.508895</td>\n      <td>0.64742</td>\n      <td>26.431175</td>\n      <td>0.775945</td>\n      <td>217.048611</td>\n      <td>127.744882</td>\n      <td>68.883364</td>\n      <td>67.227765</td>\n      <td>20.207842</td>\n      <td>56.609763</td>\n      <td>30.491646</td>\n      <td>630.806978</td>\n      <td>2.722432</td>\n      <td>1.301740</td>\n    </tr>\n    <tr>\n      <th>min</th>\n      <td>1461.000000</td>\n      <td>20.000000</td>\n      <td>21.000000</td>\n      <td>1470.000000</td>\n      <td>1.000000</td>\n      <td>1.000000</td>\n      <td>1879.000000</td>\n      <td>1950.000000</td>\n      <td>0.000000</td>\n      <td>0.000000</td>\n      <td>0.000000</td>\n      <td>0.000000</td>\n      <td>0.000000</td>\n      <td>407.000000</td>\n      <td>0.000000</td>\n      <td>0.000000</td>\n      <td>407.000000</td>\n      <td>0.000000</td>\n      <td>0.000000</td>\n      <td>0.000000</td>\n      <td>0.000000</td>\n      <td>0.000000</td>\n      <td>0.000000</td>\n      <td>3.000000</td>\n      <td>0.00000</td>\n      <td>1895.000000</td>\n      <td>0.000000</td>\n      <td>0.000000</td>\n      <td>0.000000</td>\n      <td>0.000000</td>\n      <td>0.000000</td>\n      <td>0.000000</td>\n      <td>0.000000</td>\n      <td>0.000000</td>\n      <td>0.000000</td>\n      <td>1.000000</td>\n      <td>2006.000000</td>\n    </tr>\n    <tr>\n      <th>25%</th>\n      <td>1825.500000</td>\n      <td>20.000000</td>\n      <td>58.000000</td>\n      <td>7391.000000</td>\n      <td>5.000000</td>\n      <td>5.000000</td>\n      <td>1953.000000</td>\n      <td>1963.000000</td>\n      <td>0.000000</td>\n      <td>0.000000</td>\n      <td>0.000000</td>\n      <td>219.250000</td>\n      <td>784.000000</td>\n      <td>873.500000</td>\n      <td>0.000000</td>\n      <td>0.000000</td>\n      <td>1117.500000</td>\n      <td>0.000000</td>\n      <td>0.000000</td>\n      <td>1.000000</td>\n      <td>0.000000</td>\n      <td>2.000000</td>\n      <td>1.000000</td>\n      <td>5.000000</td>\n      <td>0.00000</td>\n      <td>1959.000000</td>\n      <td>1.000000</td>\n      <td>318.000000</td>\n      <td>0.000000</td>\n      <td>0.000000</td>\n      <td>0.000000</td>\n      <td>0.000000</td>\n      <td>0.000000</td>\n      <td>0.000000</td>\n      <td>0.000000</td>\n      <td>4.000000</td>\n      <td>2007.000000</td>\n    </tr>\n    <tr>\n      <th>50%</th>\n      <td>2190.000000</td>\n      <td>50.000000</td>\n      <td>67.000000</td>\n      <td>9399.000000</td>\n      <td>6.000000</td>\n      <td>5.000000</td>\n      <td>1973.000000</td>\n      <td>1992.000000</td>\n      <td>0.000000</td>\n      <td>350.500000</td>\n      <td>0.000000</td>\n      <td>460.000000</td>\n      <td>988.000000</td>\n      <td>1079.000000</td>\n      <td>0.000000</td>\n      <td>0.000000</td>\n      <td>1432.000000</td>\n      <td>0.000000</td>\n      <td>0.000000</td>\n      <td>2.000000</td>\n      <td>0.000000</td>\n      <td>3.000000</td>\n      <td>1.000000</td>\n      <td>6.000000</td>\n      <td>0.00000</td>\n      <td>1979.000000</td>\n      <td>2.000000</td>\n      <td>480.000000</td>\n      <td>0.000000</td>\n      <td>28.000000</td>\n      <td>0.000000</td>\n      <td>0.000000</td>\n      <td>0.000000</td>\n      <td>0.000000</td>\n      <td>0.000000</td>\n      <td>6.000000</td>\n      <td>2008.000000</td>\n    </tr>\n    <tr>\n      <th>75%</th>\n      <td>2554.500000</td>\n      <td>70.000000</td>\n      <td>80.000000</td>\n      <td>11517.500000</td>\n      <td>7.000000</td>\n      <td>6.000000</td>\n      <td>2001.000000</td>\n      <td>2004.000000</td>\n      <td>164.000000</td>\n      <td>753.500000</td>\n      <td>0.000000</td>\n      <td>797.750000</td>\n      <td>1305.000000</td>\n      <td>1382.500000</td>\n      <td>676.000000</td>\n      <td>0.000000</td>\n      <td>1721.000000</td>\n      <td>1.000000</td>\n      <td>0.000000</td>\n      <td>2.000000</td>\n      <td>1.000000</td>\n      <td>3.000000</td>\n      <td>1.000000</td>\n      <td>7.000000</td>\n      <td>1.00000</td>\n      <td>2002.000000</td>\n      <td>2.000000</td>\n      <td>576.000000</td>\n      <td>168.000000</td>\n      <td>72.000000</td>\n      <td>0.000000</td>\n      <td>0.000000</td>\n      <td>0.000000</td>\n      <td>0.000000</td>\n      <td>0.000000</td>\n      <td>8.000000</td>\n      <td>2009.000000</td>\n    </tr>\n    <tr>\n      <th>max</th>\n      <td>2919.000000</td>\n      <td>190.000000</td>\n      <td>200.000000</td>\n      <td>56600.000000</td>\n      <td>10.000000</td>\n      <td>9.000000</td>\n      <td>2010.000000</td>\n      <td>2010.000000</td>\n      <td>1290.000000</td>\n      <td>4010.000000</td>\n      <td>1526.000000</td>\n      <td>2140.000000</td>\n      <td>5095.000000</td>\n      <td>5095.000000</td>\n      <td>1862.000000</td>\n      <td>1064.000000</td>\n      <td>5095.000000</td>\n      <td>3.000000</td>\n      <td>2.000000</td>\n      <td>4.000000</td>\n      <td>2.000000</td>\n      <td>6.000000</td>\n      <td>2.000000</td>\n      <td>15.000000</td>\n      <td>4.00000</td>\n      <td>2207.000000</td>\n      <td>5.000000</td>\n      <td>1488.000000</td>\n      <td>1424.000000</td>\n      <td>742.000000</td>\n      <td>1012.000000</td>\n      <td>360.000000</td>\n      <td>576.000000</td>\n      <td>800.000000</td>\n      <td>17000.000000</td>\n      <td>12.000000</td>\n      <td>2010.000000</td>\n    </tr>\n  </tbody>\n</table>\n</div>"
     },
     "metadata": {}
    }
   ]
  },
  {
   "cell_type": "markdown",
   "source": [
    "## **4.Preprocessing**"
   ],
   "metadata": {}
  },
  {
   "cell_type": "code",
   "source": [
    "lotFrontagemedian = df_train.LotFrontage.median()\n",
    "df_train.LotFrontage.fillna(lotFrontagemedian, inplace=True)"
   ],
   "metadata": {
    "execution": {
     "iopub.status.busy": "2023-02-14T23:29:37.511032Z",
     "iopub.execute_input": "2023-02-14T23:29:37.511521Z",
     "iopub.status.idle": "2023-02-14T23:29:37.517190Z",
     "shell.execute_reply.started": "2023-02-14T23:29:37.511491Z",
     "shell.execute_reply": "2023-02-14T23:29:37.516104Z"
    },
    "trusted": true
   },
   "execution_count": 273,
   "outputs": []
  },
  {
   "cell_type": "code",
   "source": [
    "lotFrontagemedian = X_test.LotFrontage.median()\n",
    "X_test.LotFrontage.fillna(lotFrontagemedian, inplace=True)\n",
    "print(X_test.LotFrontage.isnull().sum())"
   ],
   "metadata": {
    "execution": {
     "iopub.status.busy": "2023-02-14T23:29:37.518479Z",
     "iopub.execute_input": "2023-02-14T23:29:37.518775Z",
     "iopub.status.idle": "2023-02-14T23:29:37.531707Z",
     "shell.execute_reply.started": "2023-02-14T23:29:37.518748Z",
     "shell.execute_reply": "2023-02-14T23:29:37.530665Z"
    },
    "trusted": true
   },
   "execution_count": 274,
   "outputs": [
    {
     "name": "stdout",
     "text": "0\n",
     "output_type": "stream"
    }
   ]
  },
  {
   "cell_type": "code",
   "source": [
    "garage = ['GarageCond','GarageType','GarageFinish','GarageQual', \"Alley\"]\n",
    "categoric_imput = SimpleImputer(strategy='constant', fill_value=\"NA\")\n",
    "df_train[garage] = pd.DataFrame(categoric_imput.fit_transform(df_train[garage]),columns=garage)\n",
    "df_train[\"GarageYrBlt\"].fillna(0, inplace=True)\n",
    "X_test[garage] = pd.DataFrame(categoric_imput.fit_transform(X_test[garage]),columns=garage)\n",
    "X_test[\"GarageYrBlt\"].fillna(0, inplace=True)"
   ],
   "metadata": {
    "execution": {
     "iopub.status.busy": "2023-02-14T23:29:37.533179Z",
     "iopub.execute_input": "2023-02-14T23:29:37.533613Z",
     "iopub.status.idle": "2023-02-14T23:29:37.552833Z",
     "shell.execute_reply.started": "2023-02-14T23:29:37.533564Z",
     "shell.execute_reply": "2023-02-14T23:29:37.551447Z"
    },
    "trusted": true
   },
   "execution_count": 275,
   "outputs": []
  },
  {
   "cell_type": "code",
   "source": [
    "garage = ['GarageCond','GarageType','GarageFinish','GarageQual', \"Alley\"]\n",
    "categoric_imput = SimpleImputer(strategy='constant', fill_value=\"NA\")\n",
    "df_train[garage] = pd.DataFrame(categoric_imput.fit_transform(df_train[garage]),columns=garage)\n",
    "df_train[\"GarageYrBlt\"].fillna(0, inplace=True)\n",
    "X_test[garage] = pd.DataFrame(categoric_imput.fit_transform(X_test[garage]),columns=garage)\n",
    "X_test[\"GarageYrBlt\"].fillna(0, inplace=True)\n",
    "df_train.GarageCars.fillna(0, inplace=True)\n",
    "df_train.GarageArea.fillna(0, inplace=True)\n",
    "X_test.GarageCars.fillna(0, inplace=True)\n",
    "X_test.GarageArea.fillna(0, inplace=True)"
   ],
   "metadata": {
    "execution": {
     "iopub.status.busy": "2023-02-14T23:29:37.557568Z",
     "iopub.execute_input": "2023-02-14T23:29:37.557929Z",
     "iopub.status.idle": "2023-02-14T23:29:37.579817Z",
     "shell.execute_reply.started": "2023-02-14T23:29:37.557897Z",
     "shell.execute_reply": "2023-02-14T23:29:37.578806Z"
    },
    "trusted": true
   },
   "execution_count": 276,
   "outputs": []
  },
  {
   "cell_type": "code",
   "source": [
    "basement = [\"BsmtCond\", \"BsmtExposure\", \"BsmtQual\", \"BsmtFinType2\", \"BsmtFinType1\"]\n",
    "categoric_imput = SimpleImputer(strategy='constant', fill_value=\"NA\")\n",
    "df_train[basement] = pd.DataFrame(categoric_imput.fit_transform(df_train[basement]),columns=basement)\n",
    "X_test[basement] = pd.DataFrame(categoric_imput.fit_transform(X_test[basement]),columns=basement)"
   ],
   "metadata": {
    "execution": {
     "iopub.status.busy": "2023-02-14T23:29:37.581581Z",
     "iopub.execute_input": "2023-02-14T23:29:37.581993Z",
     "iopub.status.idle": "2023-02-14T23:29:37.599774Z",
     "shell.execute_reply.started": "2023-02-14T23:29:37.581954Z",
     "shell.execute_reply": "2023-02-14T23:29:37.598796Z"
    },
    "trusted": true
   },
   "execution_count": 277,
   "outputs": []
  },
  {
   "cell_type": "code",
   "source": [
    "df_train.PoolQC.fillna(\"NA\", inplace=True)\n",
    "X_test.PoolQC.fillna(\"NA\", inplace=True)"
   ],
   "metadata": {
    "execution": {
     "iopub.status.busy": "2023-02-14T23:29:37.601688Z",
     "iopub.execute_input": "2023-02-14T23:29:37.602280Z",
     "iopub.status.idle": "2023-02-14T23:29:37.609506Z",
     "shell.execute_reply.started": "2023-02-14T23:29:37.602217Z",
     "shell.execute_reply": "2023-02-14T23:29:37.608217Z"
    },
    "trusted": true
   },
   "execution_count": 278,
   "outputs": []
  },
  {
   "cell_type": "code",
   "source": [
    "df_train.MiscFeature.fillna(\"NA\", inplace=True)\n",
    "X_test.MiscFeature.fillna(\"NA\", inplace=True)"
   ],
   "metadata": {
    "execution": {
     "iopub.status.busy": "2023-02-14T23:29:37.610941Z",
     "iopub.execute_input": "2023-02-14T23:29:37.611295Z",
     "iopub.status.idle": "2023-02-14T23:29:37.622908Z",
     "shell.execute_reply.started": "2023-02-14T23:29:37.611233Z",
     "shell.execute_reply": "2023-02-14T23:29:37.621959Z"
    },
    "trusted": true
   },
   "execution_count": 279,
   "outputs": []
  },
  {
   "cell_type": "code",
   "source": [
    "df_train.Fence.fillna(\"NA\", inplace=True)\n",
    "X_test.Fence.fillna(\"NA\", inplace=True)"
   ],
   "metadata": {
    "execution": {
     "iopub.status.busy": "2023-02-14T23:29:37.624737Z",
     "iopub.execute_input": "2023-02-14T23:29:37.625158Z",
     "iopub.status.idle": "2023-02-14T23:29:37.635993Z",
     "shell.execute_reply.started": "2023-02-14T23:29:37.625115Z",
     "shell.execute_reply": "2023-02-14T23:29:37.635200Z"
    },
    "trusted": true
   },
   "execution_count": 280,
   "outputs": []
  },
  {
   "cell_type": "code",
   "source": [
    "df_train.FireplaceQu.fillna(\"NA\", inplace=True)\n",
    "X_test.FireplaceQu.fillna(\"NA\", inplace=True)"
   ],
   "metadata": {
    "execution": {
     "iopub.status.busy": "2023-02-14T23:29:37.637433Z",
     "iopub.execute_input": "2023-02-14T23:29:37.637757Z",
     "iopub.status.idle": "2023-02-14T23:29:37.650441Z",
     "shell.execute_reply.started": "2023-02-14T23:29:37.637730Z",
     "shell.execute_reply": "2023-02-14T23:29:37.649460Z"
    },
    "trusted": true
   },
   "execution_count": 281,
   "outputs": []
  },
  {
   "cell_type": "code",
   "source": [
    "y_train = df_train.SalePrice\n",
    "X_train = df_train.drop([\"SalePrice\"], axis=1)"
   ],
   "metadata": {
    "execution": {
     "iopub.status.busy": "2023-02-14T23:29:37.651612Z",
     "iopub.execute_input": "2023-02-14T23:29:37.651920Z",
     "iopub.status.idle": "2023-02-14T23:29:37.662338Z",
     "shell.execute_reply.started": "2023-02-14T23:29:37.651875Z",
     "shell.execute_reply": "2023-02-14T23:29:37.661323Z"
    },
    "trusted": true
   },
   "execution_count": 282,
   "outputs": []
  },
  {
   "cell_type": "code",
   "source": [
    "X_train.isnull().sum().sort_values(ascending=False).head(30)"
   ],
   "metadata": {
    "execution": {
     "iopub.status.busy": "2023-02-14T23:29:37.663928Z",
     "iopub.execute_input": "2023-02-14T23:29:37.664277Z",
     "iopub.status.idle": "2023-02-14T23:29:37.683086Z",
     "shell.execute_reply.started": "2023-02-14T23:29:37.664225Z",
     "shell.execute_reply": "2023-02-14T23:29:37.681978Z"
    },
    "trusted": true
   },
   "execution_count": 283,
   "outputs": [
    {
     "execution_count": 283,
     "output_type": "execute_result",
     "data": {
      "text/plain": "MasVnrType      8\nMasVnrArea      8\nElectrical      1\nGarageYrBlt     0\nFireplaceQu     0\nFireplaces      0\nFunctional      0\nTotRmsAbvGrd    0\nKitchenQual     0\nKitchenAbvGr    0\nBedroomAbvGr    0\nHalfBath        0\nFullBath        0\nBsmtHalfBath    0\nBsmtFullBath    0\nGrLivArea       0\nLowQualFinSF    0\n2ndFlrSF        0\n1stFlrSF        0\nGarageType      0\nId              0\nCentralAir      0\nGarageCars      0\nSaleType        0\nYrSold          0\nMoSold          0\nMiscVal         0\nMiscFeature     0\nFence           0\nPoolQC          0\ndtype: int64"
     },
     "metadata": {}
    }
   ]
  },
  {
   "cell_type": "code",
   "source": [
    "X_test.isnull().sum().sort_values(ascending=False).head(30)"
   ],
   "metadata": {
    "execution": {
     "iopub.status.busy": "2023-02-14T23:29:37.684486Z",
     "iopub.execute_input": "2023-02-14T23:29:37.684939Z",
     "iopub.status.idle": "2023-02-14T23:29:37.699293Z",
     "shell.execute_reply.started": "2023-02-14T23:29:37.684908Z",
     "shell.execute_reply": "2023-02-14T23:29:37.698007Z"
    },
    "trusted": true
   },
   "execution_count": 284,
   "outputs": [
    {
     "execution_count": 284,
     "output_type": "execute_result",
     "data": {
      "text/plain": "MasVnrType      16\nMasVnrArea      15\nMSZoning         4\nBsmtFullBath     2\nBsmtHalfBath     2\nFunctional       2\nUtilities        2\nBsmtFinSF2       1\nExterior1st      1\nKitchenQual      1\nBsmtFinSF1       1\nExterior2nd      1\nBsmtUnfSF        1\nTotalBsmtSF      1\nSaleType         1\nKitchenAbvGr     0\nBedroomAbvGr     0\nTotRmsAbvGrd     0\nHalfBath         0\nFireplaces       0\nFireplaceQu      0\nGarageType       0\nGarageYrBlt      0\nFullBath         0\nId               0\nGarageFinish     0\nLowQualFinSF     0\nScreenPorch      0\nYrSold           0\nMoSold           0\ndtype: int64"
     },
     "metadata": {}
    }
   ]
  },
  {
   "cell_type": "code",
   "source": [
    "\n",
    "categoric_columns = X_train.select_dtypes(include=['object']).columns\n",
    "numeric_columns = X_train.select_dtypes(include=['float64', 'int64']).columns\n",
    "\n",
    "\n",
    "categoric_imput = SimpleImputer(strategy='most_frequent')\n",
    "X_train[categoric_columns] = pd.DataFrame(categoric_imput.fit_transform(X_train[categoric_columns]),columns=categoric_columns)\n",
    "X_test[categoric_columns] = pd.DataFrame(categoric_imput.fit_transform(X_test[categoric_columns]),columns=categoric_columns)\n",
    "numeric_imput = SimpleImputer(strategy='median')\n",
    "X_train[numeric_columns] = pd.DataFrame(numeric_imput.fit_transform(X_train[numeric_columns]),columns=numeric_columns)\n",
    "X_test[numeric_columns] = pd.DataFrame(numeric_imput.fit_transform(X_test[numeric_columns]),columns=numeric_columns)"
   ],
   "metadata": {
    "execution": {
     "iopub.status.busy": "2023-02-14T23:29:37.701072Z",
     "iopub.execute_input": "2023-02-14T23:29:37.702305Z",
     "iopub.status.idle": "2023-02-14T23:29:37.794727Z",
     "shell.execute_reply.started": "2023-02-14T23:29:37.702240Z",
     "shell.execute_reply": "2023-02-14T23:29:37.793552Z"
    },
    "trusted": true
   },
   "execution_count": 285,
   "outputs": []
  },
  {
   "cell_type": "code",
   "source": [
    "X_test.isnull().sum().sort_values(ascending=False).head(30)"
   ],
   "metadata": {
    "execution": {
     "iopub.status.busy": "2023-02-14T23:29:37.796263Z",
     "iopub.execute_input": "2023-02-14T23:29:37.796623Z",
     "iopub.status.idle": "2023-02-14T23:29:37.814156Z",
     "shell.execute_reply.started": "2023-02-14T23:29:37.796593Z",
     "shell.execute_reply": "2023-02-14T23:29:37.813282Z"
    },
    "trusted": true
   },
   "execution_count": 286,
   "outputs": [
    {
     "execution_count": 286,
     "output_type": "execute_result",
     "data": {
      "text/plain": "Id              0\nMSSubClass      0\nGarageType      0\nFireplaceQu     0\nFireplaces      0\nFunctional      0\nTotRmsAbvGrd    0\nKitchenQual     0\nKitchenAbvGr    0\nBedroomAbvGr    0\nHalfBath        0\nFullBath        0\nBsmtHalfBath    0\nBsmtFullBath    0\nGrLivArea       0\nLowQualFinSF    0\n2ndFlrSF        0\n1stFlrSF        0\nElectrical      0\nGarageYrBlt     0\nGarageFinish    0\nGarageCars      0\nPoolArea        0\nSaleType        0\nYrSold          0\nMoSold          0\nMiscVal         0\nMiscFeature     0\nFence           0\nPoolQC          0\ndtype: int64"
     },
     "metadata": {}
    }
   ]
  },
  {
   "cell_type": "markdown",
   "source": [
    "## **5.Attributes**"
   ],
   "metadata": {}
  },
  {
   "cell_type": "code",
   "source": [
    "df = pd.concat([X_train, X_test], axis=0)"
   ],
   "metadata": {
    "execution": {
     "iopub.status.busy": "2023-02-14T23:29:37.818976Z",
     "iopub.execute_input": "2023-02-14T23:29:37.819296Z",
     "iopub.status.idle": "2023-02-14T23:29:37.836627Z",
     "shell.execute_reply.started": "2023-02-14T23:29:37.819268Z",
     "shell.execute_reply": "2023-02-14T23:29:37.835725Z"
    },
    "trusted": true
   },
   "execution_count": 287,
   "outputs": []
  },
  {
   "cell_type": "code",
   "source": [
    "street = {\"Grvl\":1, \n",
    "          \"Pave\":2}\n",
    "df[\"Street\"] = df[\"Street\"].map(street)\n",
    "\n",
    "alley = {\"NA\": 0,\n",
    "         \"Grvl\": 1,\n",
    "         \"Pave\": 2}\n",
    "df[\"Alley\"] = df[\"Alley\"].map(alley)\n",
    "\n",
    "\n",
    "lotShape = {\"IR3\": 0,\n",
    "            \"IR2\": 1,\n",
    "            \"IR1\": 2,\n",
    "            \"Reg\": 3}\n",
    "df[\"LotShape\"] = df[\"LotShape\"].map(lotShape)\n",
    "\n",
    "qualify = {\"NA\":0,\n",
    "         \"Po\":1,\n",
    "         \"Fa\":2,\n",
    "         \"TA\":3,\n",
    "         \"Gd\":4,\n",
    "         \"Ex\":5}\n",
    "cols = [\"ExterQual\", \"ExterCond\", \"BsmtQual\", \"BsmtCond\", \"HeatingQC\", \"KitchenQual\", \"FireplaceQu\", \"GarageQual\", \"GarageCond\", \"PoolQC\"]\n",
    "for col in cols:\n",
    "    df[col] = df[col].map(qualify)\n",
    "\n",
    "bsmtExposure = {\"NA\": 0,\n",
    "                \"Gd\":1,\n",
    "                \"Av\":2,\n",
    "                \"Mn\":3,\n",
    "                \"No\":4}\n",
    "df[\"BsmtExposure\"] = df[\"BsmtExposure\"].map(bsmtExposure)\n",
    "\n",
    "bsmtFin = {\"NA\":0,\n",
    "           \"Unf\":1,\n",
    "           \"LwQ\":2,\n",
    "           \"Rec\":3,\n",
    "           \"BLQ\":4,\n",
    "           \"ALQ\":5,\n",
    "           \"GLQ\":6}\n",
    "cols = [\"BsmtFinType1\", \"BsmtFinType2\"]\n",
    "for col in cols:\n",
    "    df[col] = df[col].map(bsmtFin)\n",
    "\n",
    "garagefinish = {\"NA\":0,\n",
    "                \"Unf\":1,\n",
    "                \"RFn\":2,\n",
    "                \"Fin\":3}\n",
    "df[\"GarageFinish\"] = df[\"GarageFinish\"].map(garagefinish)\n",
    "\n",
    "pavedDrive = {\"N\":0,\n",
    "              \"P\":1,\n",
    "              \"Y\":2}"
   ],
   "metadata": {
    "execution": {
     "iopub.status.busy": "2023-02-14T23:29:37.837772Z",
     "iopub.execute_input": "2023-02-14T23:29:37.838080Z",
     "iopub.status.idle": "2023-02-14T23:29:37.872116Z",
     "shell.execute_reply.started": "2023-02-14T23:29:37.838053Z",
     "shell.execute_reply": "2023-02-14T23:29:37.870747Z"
    },
    "trusted": true
   },
   "execution_count": 288,
   "outputs": []
  },
  {
   "cell_type": "code",
   "source": [
    "bath = [\"BsmtFullBath\", \"BsmtHalfBath\", \"FullBath\", \"HalfBath\"]\n",
    "df[\"Bath\"] = df.loc[:,bath].sum(axis=1)\n",
    "\n",
    "df.drop(bath, inplace=True, axis=1)"
   ],
   "metadata": {
    "execution": {
     "iopub.status.busy": "2023-02-14T23:29:37.873694Z",
     "iopub.execute_input": "2023-02-14T23:29:37.874034Z",
     "iopub.status.idle": "2023-02-14T23:29:37.887005Z",
     "shell.execute_reply.started": "2023-02-14T23:29:37.874005Z",
     "shell.execute_reply": "2023-02-14T23:29:37.885706Z"
    },
    "trusted": true
   },
   "execution_count": 289,
   "outputs": []
  },
  {
   "cell_type": "code",
   "source": [
    "categoric_columns = df.select_dtypes(include=['object']).columns\n",
    "numeric_columns = df.select_dtypes(include=['float64', 'int64']).columns"
   ],
   "metadata": {
    "execution": {
     "iopub.status.busy": "2023-02-14T23:29:37.888705Z",
     "iopub.execute_input": "2023-02-14T23:29:37.889105Z",
     "iopub.status.idle": "2023-02-14T23:29:37.898873Z",
     "shell.execute_reply.started": "2023-02-14T23:29:37.889071Z",
     "shell.execute_reply": "2023-02-14T23:29:37.897753Z"
    },
    "trusted": true
   },
   "execution_count": 290,
   "outputs": []
  },
  {
   "cell_type": "code",
   "source": [
    "df.reset_index(drop=True,inplace=True)"
   ],
   "metadata": {
    "execution": {
     "iopub.status.busy": "2023-02-14T23:29:37.900073Z",
     "iopub.execute_input": "2023-02-14T23:29:37.900407Z",
     "iopub.status.idle": "2023-02-14T23:29:37.910754Z",
     "shell.execute_reply.started": "2023-02-14T23:29:37.900377Z",
     "shell.execute_reply": "2023-02-14T23:29:37.909794Z"
    },
    "trusted": true
   },
   "execution_count": 291,
   "outputs": []
  },
  {
   "cell_type": "code",
   "source": [
    "enc = OneHotEncoder(handle_unknown='ignore',sparse = False)\n",
    "categoric = pd.DataFrame(enc.fit_transform(df[categoric_columns]),columns= enc.get_feature_names_out())\n",
    "df = pd.concat([df[numeric_columns], categoric], axis=1)"
   ],
   "metadata": {
    "execution": {
     "iopub.status.busy": "2023-02-14T23:29:37.911966Z",
     "iopub.execute_input": "2023-02-14T23:29:37.912303Z",
     "iopub.status.idle": "2023-02-14T23:29:37.959905Z",
     "shell.execute_reply.started": "2023-02-14T23:29:37.912274Z",
     "shell.execute_reply": "2023-02-14T23:29:37.958795Z"
    },
    "trusted": true
   },
   "execution_count": 292,
   "outputs": []
  },
  {
   "cell_type": "code",
   "source": [
    "corrAlta = []\n",
    "for col1 in df.columns:\n",
    "    for col2 in df.columns:\n",
    "        if col1 != col2:\n",
    "            correl = df[col1].corr(df[col2])\n",
    "            if correl > 0.9:\n",
    "                corrAlta.append(col2)\n"
   ],
   "metadata": {
    "execution": {
     "iopub.status.busy": "2023-02-14T23:29:37.961519Z",
     "iopub.execute_input": "2023-02-14T23:29:37.961823Z",
     "iopub.status.idle": "2023-02-14T23:29:52.722920Z",
     "shell.execute_reply.started": "2023-02-14T23:29:37.961794Z",
     "shell.execute_reply": "2023-02-14T23:29:52.721906Z"
    },
    "trusted": true
   },
   "execution_count": 293,
   "outputs": []
  },
  {
   "cell_type": "code",
   "source": [
    "corrAlta = list(set(corrAlta))\n",
    "sns.heatmap(df[corrAlta].corr())"
   ],
   "metadata": {
    "execution": {
     "iopub.status.busy": "2023-02-14T23:29:52.725160Z",
     "iopub.execute_input": "2023-02-14T23:29:52.726223Z",
     "iopub.status.idle": "2023-02-14T23:29:53.116434Z",
     "shell.execute_reply.started": "2023-02-14T23:29:52.726182Z",
     "shell.execute_reply": "2023-02-14T23:29:53.115297Z"
    },
    "trusted": true
   },
   "execution_count": 294,
   "outputs": [
    {
     "execution_count": 294,
     "output_type": "execute_result",
     "data": {
      "text/plain": "<AxesSubplot:>"
     },
     "metadata": {}
    },
    {
     "output_type": "display_data",
     "data": {
      "text/plain": "<Figure size 432x288 with 2 Axes>",
      "image/png": "[encoded data removed]"
     },
     "metadata": {
      "needs_background": "light"
     }
    }
   ]
  },
  {
   "cell_type": "code",
   "source": [
    "df.drop([\"GarageQual\", \"GarageCond\", \"SaleType_New\", \"Exterior2nd_MetalSd\", \"Exterior2nd_VinylSd\", \"Exterior2nd_CmentBd\"],  axis=1, inplace=True)"
   ],
   "metadata": {
    "execution": {
     "iopub.status.busy": "2023-02-14T23:29:53.118297Z",
     "iopub.execute_input": "2023-02-14T23:29:53.118727Z",
     "iopub.status.idle": "2023-02-14T23:29:53.126615Z",
     "shell.execute_reply.started": "2023-02-14T23:29:53.118685Z",
     "shell.execute_reply": "2023-02-14T23:29:53.125484Z"
    },
    "trusted": true
   },
   "execution_count": 295,
   "outputs": []
  },
  {
   "cell_type": "code",
   "source": [
    "X_train = pd.concat([df[:df_train_row], y_train], axis=1)\n",
    "\n",
    "X_test = df[df_train_row:]\n",
    "\n",
    "registros = np.array([True] * len(X_train))\n",
    "\n",
    "\n",
    "cols = [\"LotArea\", \"BsmtUnfSF\", \"TotalBsmtSF\", \"1stFlrSF\", \"2ndFlrSF\", \"GrLivArea\", \"GarageArea\"]\n",
    "\n",
    "\n",
    "for col in cols:\n",
    "    \n",
    "   \n",
    "    zscore = abs(stats.zscore(X_train[col]))\n",
    "    \n",
    "   \n",
    "    registros = (zscore < 3) & registros\n",
    "\n",
    "\n",
    "X_train = X_train[registros]\n",
    "\n",
    "\n"
   ],
   "metadata": {
    "execution": {
     "iopub.status.busy": "2023-02-14T23:29:53.128451Z",
     "iopub.execute_input": "2023-02-14T23:29:53.129093Z",
     "iopub.status.idle": "2023-02-14T23:29:53.160701Z",
     "shell.execute_reply.started": "2023-02-14T23:29:53.129061Z",
     "shell.execute_reply": "2023-02-14T23:29:53.159837Z"
    },
    "trusted": true
   },
   "execution_count": 296,
   "outputs": []
  },
  {
   "cell_type": "code",
   "source": [
    "y_train = X_train[\"SalePrice\"]\n",
    "\n",
    "X_train.drop(\"SalePrice\", inplace=True, axis=1)\n",
    "\n",
    "df_train_row = len(X_train)\n",
    "\n",
    "X_train = X_train.reset_index(drop=True)\n",
    "X_test = X_test.reset_index(drop=True)\n",
    "\n",
    "df = pd.concat([X_train, X_test], axis=0)\n"
   ],
   "metadata": {
    "execution": {
     "iopub.status.busy": "2023-02-14T23:29:53.162137Z",
     "iopub.execute_input": "2023-02-14T23:29:53.163336Z",
     "iopub.status.idle": "2023-02-14T23:29:53.180157Z",
     "shell.execute_reply.started": "2023-02-14T23:29:53.163289Z",
     "shell.execute_reply": "2023-02-14T23:29:53.178943Z"
    },
    "trusted": true
   },
   "execution_count": 297,
   "outputs": []
  },
  {
   "cell_type": "code",
   "source": [
    "X_train = df.iloc[:df_train_row].reset_index(drop=True)\n",
    "X_test = df.iloc[df_train_row:].reset_index(drop=True)"
   ],
   "metadata": {
    "execution": {
     "iopub.status.busy": "2023-02-14T23:29:53.181566Z",
     "iopub.execute_input": "2023-02-14T23:29:53.182509Z",
     "iopub.status.idle": "2023-02-14T23:29:53.192716Z",
     "shell.execute_reply.started": "2023-02-14T23:29:53.182476Z",
     "shell.execute_reply": "2023-02-14T23:29:53.191635Z"
    },
    "trusted": true
   },
   "execution_count": 298,
   "outputs": []
  },
  {
   "cell_type": "code",
   "source": [
    "categoric_columns = df.select_dtypes(include=['object']).columns\n",
    "numeric_columns = df.select_dtypes(include=['float64', 'int64']).columns\n",
    "scaler = RobustScaler()\n",
    "scaler.fit(X_train[numeric_columns])\n",
    "X_train[numeric_columns] = scaler.transform(X_train[numeric_columns])\n",
    "scaler.fit(X_test[numeric_columns])\n",
    "X_test[numeric_columns] = scaler.transform(X_test[numeric_columns])"
   ],
   "metadata": {
    "execution": {
     "iopub.status.busy": "2023-02-14T23:29:53.193956Z",
     "iopub.execute_input": "2023-02-14T23:29:53.194285Z",
     "iopub.status.idle": "2023-02-14T23:29:53.337816Z",
     "shell.execute_reply.started": "2023-02-14T23:29:53.194256Z",
     "shell.execute_reply": "2023-02-14T23:29:53.336542Z"
    },
    "trusted": true
   },
   "execution_count": 299,
   "outputs": []
  },
  {
   "cell_type": "markdown",
   "source": [
    "## **6.Model Training**"
   ],
   "metadata": {}
  },
  {
   "cell_type": "code",
   "source": [
    "\n",
    "\"\"\"X_train_ = X_train[['GrLivArea', 'OverallQual', 'TotalBsmtSF', 'Bath', 'YearBuilt', 'ExterQual', 'LotArea', 'OverallCond', 'BsmtFinSF1', \n",
    "                    '1stFlrSF', 'GarageArea', 'BsmtQual', 'YearRemodAdd', 'KitchenQual', 'GarageCars', 'Neighborhood_Crawfor', '2ndFlrSF', \n",
    "                    'BsmtExposure', 'FireplaceQu', 'GarageYrBlt', 'Neighborhood_StoneBr', 'SaleType_WD', 'BsmtFinType1', 'OpenPorchSF', \n",
    "                    'SaleCondition_Partial', 'Exterior1st_BrkFace', 'Functional_Typ', 'BsmtUnfSF', 'SaleCondition_Abnorml', 'MSZoning_RM', \n",
    "                    'WoodDeckSF', 'LotFrontage', 'Fireplaces', 'ScreenPorch', 'MSZoning_C (all)', 'GarageFinish', 'LotConfig_CulDSac', \n",
    "                    'Condition1_Norm', 'CentralAir_N', 'Condition1_Artery', 'Neighborhood_BrkSide', 'Neighborhood_CollgCr', 'Exterior1st_HdBoard', \n",
    "                    'BsmtCond', 'BsmtFinSF2', 'Neighborhood_OldTown', 'LotConfig_FR2', 'MSSubClass', 'Neighborhood_NAmes', 'Neighborhood_Edwards', \n",
    "                    'KitchenAbvGr', 'BedroomAbvGr', 'HeatingQC', 'GarageType_CarPort', 'Foundation_PConc', 'GarageType_Attchd', 'MSZoning_RL', \n",
    "                    'Neighborhood_Timber', 'CentralAir_Y', 'Neighborhood_NridgHt', 'Exterior1st_Wd Sdng', 'Alley', \n",
    "                    'Foundation_BrkTil', 'HouseStyle_SLvl', 'MSZoning_FV', 'HouseStyle_1.5Fin', 'Neighborhood_Somerst', \n",
    "                    'Condition1_RRAe', 'PavedDrive_Y', 'BldgType_1Fam']]\n",
    "\n",
    "X_test_ = X_test[['GrLivArea', 'OverallQual', 'TotalBsmtSF', 'Bath', 'YearBuilt', 'ExterQual', 'LotArea', 'OverallCond', 'BsmtFinSF1', \n",
    "                    '1stFlrSF', 'GarageArea', 'BsmtQual', 'YearRemodAdd', 'KitchenQual', 'GarageCars', 'Neighborhood_Crawfor', '2ndFlrSF', \n",
    "                    'BsmtExposure', 'FireplaceQu', 'GarageYrBlt', 'Neighborhood_StoneBr', 'SaleType_WD', 'BsmtFinType1', 'OpenPorchSF', \n",
    "                    'SaleCondition_Partial', 'Exterior1st_BrkFace', 'Functional_Typ', 'BsmtUnfSF', 'SaleCondition_Abnorml', 'MSZoning_RM', \n",
    "                    'WoodDeckSF', 'LotFrontage', 'Fireplaces', 'ScreenPorch', 'MSZoning_C (all)', 'GarageFinish', 'LotConfig_CulDSac', \n",
    "                    'Condition1_Norm', 'CentralAir_N', 'Condition1_Artery', 'Neighborhood_BrkSide', 'Neighborhood_CollgCr', 'Exterior1st_HdBoard', \n",
    "                    'BsmtCond', 'BsmtFinSF2', 'Neighborhood_OldTown', 'LotConfig_FR2', 'MSSubClass', 'Neighborhood_NAmes', 'Neighborhood_Edwards', \n",
    "                    'KitchenAbvGr', 'BedroomAbvGr', 'HeatingQC', 'GarageType_CarPort', 'Foundation_PConc', 'GarageType_Attchd', 'MSZoning_RL', \n",
    "                    'Neighborhood_Timber', 'CentralAir_Y', 'Neighborhood_NridgHt', 'Exterior1st_Wd Sdng', 'Alley', \n",
    "                    'Foundation_BrkTil', 'HouseStyle_SLvl', 'MSZoning_FV', 'HouseStyle_1.5Fin', 'Neighborhood_Somerst',\n",
    "                    'Condition1_RRAe', 'PavedDrive_Y', 'BldgType_1Fam']]\"\"\"\n",
    "#############################################################################################################################################################\n",
    "\n",
    "\n",
    "#FEATURES DO KAGGLE\n",
    "#############################################################################################################################################################\n",
    "X_train_ = X_train[[\"OverallQual\", \"GrLivArea\", \"TotalBsmtSF\", \"1stFlrSF\", \"LotArea\", \"Bath\",\n",
    "                    \"BsmtFinSF1\", \"GarageCars\", \"YearBuilt\", \"OverallCond\", \"ExterQual\", \"YearRemodAdd\",\n",
    "                    \"2ndFlrSF\", \"KitchenQual\", \"BsmtQual\", \"GarageArea\", \"Neighborhood_Crawfor\", \"Condition1_Norm\",\n",
    "                    \"BsmtExposure\", \"Neighborhood_Edwards\", \"OpenPorchSF\", \"LotFrontage\", \"TotRmsAbvGrd\",\n",
    "                    \"Neighborhood_StoneBr\", \"Fireplaces\", \"FireplaceQu\", \"BsmtFinType1\", \"GarageYrBlt\",\n",
    "                    \"Exterior1st_BrkFace\", \"LandContour_Bnk\", \"ScreenPorch\", \"Neighborhood_NoRidge\",\n",
    "                    \"BedroomAbvGr\", \"Functional_Typ\", \"MSZoning_RM\", \"SaleCondition_Abnorml\", \"WoodDeckSF\",\n",
    "                    \"SaleCondition_Partial\", \"GarageFinish\", \"MSZoning_C (all)\", \"LotConfig_CulDSac\",\n",
    "                    \"CentralAir_N\", \"KitchenAbvGr\", \"LandContour_Lvl\", \"Neighborhood_BrkSide\",\n",
    "                    \"Neighborhood_OldTown\", \"MasVnrArea\", \"Neighborhood_NAmes\", \"HeatingQC\",\n",
    "                    \"Condition1_Artery\", \"BsmtFinSF2\", \"BsmtCond\", \"SaleType_WD\", \"GarageType_Attchd\",\n",
    "                    \"Condition1_Feedr\", \"Neighborhood_ClearCr\", \"LotConfig_FR2\", \"CentralAir_Y\",\n",
    "                    \"MSZoning_RL\", \"LandSlope_Gtl\", \"Alley\", \"Foundation_BrkTil\", \"Exterior1st_HdBoard\",\n",
    "                    \"GarageType_CarPort\", \"Condition1_PosN\", \"Neighborhood_Somerst\", \"BldgType_1Fam\",\n",
    "                    \"Neighborhood_CollgCr\", \"RoofStyle_Hip\", \"PavedDrive_Y\", \"MasVnrType_Stone\",\n",
    "                    \"Neighborhood_Timber\", \"MasVnrType_BrkFace\", \"BldgType_Duplex\", \"Exterior2nd_HdBoard\",\n",
    "                    \"Functional_Maj2\", \"LandSlope_Mod\", \"Neighborhood_NridgHt\", \"MSZoning_FV\",\n",
    "                    \"Exterior1st_Stucco\", \"RoofStyle_Gable\", \"Neighborhood_Veenker\", \"GarageType_Detchd\",\n",
    "                    \"RoofMatl_WdShngl\", \"Neighborhood_Blmngtn\", \"Condition1_RRAe\", \"Neighborhood_Mitchel\",\n",
    "                    \"HouseStyle_SLvl\", \"LowQualFinSF\", \"Condition2_Norm\", \"Neighborhood_IDOTRR\",\n",
    "                    \"MasVnrType_BrkCmn\", \"SaleCondition_Family\", \"PavedDrive_N\", \"HouseStyle_1.5Fin\",\n",
    "                    \"Exterior2nd_Wd Sdng\", \"Neighborhood_SWISU\", \"Functional_Min2\", \"BsmtFinType2\",\n",
    "                    \"Functional_Maj1\", \"Neighborhood_MeadowV\", \"Exterior1st_VinylSd\", \"Exterior1st_MetalSd\",\n",
    "                    \"Exterior1st_WdShing\", \"Heating_GasA\", \"Neighborhood_Gilbert\", \"MiscVal\", \"Neighborhood_Sawyer\",\n",
    "                    \"GarageType_2Types\", \"Electrical_FuseF\", \"MiscFeature_NA\", \"Exterior2nd_Stucco\",\n",
    "                    \"BldgType_2fmCon\", \"Condition2_Feedr\", \"Foundation_Slab\", \"MiscFeature_Shed\", \"HouseStyle_SFoyer\",\n",
    "                    \"Exterior2nd_Brk Cmn\", \"Street\"]]\n",
    "\n",
    "X_test_ = X_test[[\"OverallQual\", \"GrLivArea\", \"TotalBsmtSF\", \"1stFlrSF\", \"LotArea\", \"Bath\",\n",
    "                    \"BsmtFinSF1\", \"GarageCars\", \"YearBuilt\", \"OverallCond\", \"ExterQual\", \"YearRemodAdd\",\n",
    "                    \"2ndFlrSF\", \"KitchenQual\", \"BsmtQual\", \"GarageArea\", \"Neighborhood_Crawfor\", \"Condition1_Norm\",\n",
    "                    \"BsmtExposure\", \"Neighborhood_Edwards\", \"OpenPorchSF\", \"LotFrontage\", \"TotRmsAbvGrd\",\n",
    "                    \"Neighborhood_StoneBr\", \"Fireplaces\", \"FireplaceQu\", \"BsmtFinType1\", \"GarageYrBlt\",\n",
    "                    \"Exterior1st_BrkFace\", \"LandContour_Bnk\", \"ScreenPorch\", \"Neighborhood_NoRidge\",\n",
    "                    \"BedroomAbvGr\", \"Functional_Typ\", \"MSZoning_RM\", \"SaleCondition_Abnorml\", \"WoodDeckSF\",\n",
    "                    \"SaleCondition_Partial\", \"GarageFinish\", \"MSZoning_C (all)\", \"LotConfig_CulDSac\",\n",
    "                    \"CentralAir_N\", \"KitchenAbvGr\", \"LandContour_Lvl\", \"Neighborhood_BrkSide\",\n",
    "                    \"Neighborhood_OldTown\", \"MasVnrArea\", \"Neighborhood_NAmes\", \"HeatingQC\",\n",
    "                    \"Condition1_Artery\", \"BsmtFinSF2\", \"BsmtCond\", \"SaleType_WD\", \"GarageType_Attchd\",\n",
    "                    \"Condition1_Feedr\", \"Neighborhood_ClearCr\", \"LotConfig_FR2\", \"CentralAir_Y\",\n",
    "                    \"MSZoning_RL\", \"LandSlope_Gtl\", \"Alley\", \"Foundation_BrkTil\", \"Exterior1st_HdBoard\",\n",
    "                    \"GarageType_CarPort\", \"Condition1_PosN\", \"Neighborhood_Somerst\", \"BldgType_1Fam\",\n",
    "                    \"Neighborhood_CollgCr\", \"RoofStyle_Hip\", \"PavedDrive_Y\", \"MasVnrType_Stone\",\n",
    "                    \"Neighborhood_Timber\", \"MasVnrType_BrkFace\", \"BldgType_Duplex\", \"Exterior2nd_HdBoard\",\n",
    "                    \"Functional_Maj2\", \"LandSlope_Mod\", \"Neighborhood_NridgHt\", \"MSZoning_FV\",\n",
    "                    \"Exterior1st_Stucco\", \"RoofStyle_Gable\", \"Neighborhood_Veenker\", \"GarageType_Detchd\",\n",
    "                    \"RoofMatl_WdShngl\", \"Neighborhood_Blmngtn\", \"Condition1_RRAe\", \"Neighborhood_Mitchel\",\n",
    "                    \"HouseStyle_SLvl\", \"LowQualFinSF\", \"Condition2_Norm\", \"Neighborhood_IDOTRR\",\n",
    "                    \"MasVnrType_BrkCmn\", \"SaleCondition_Family\", \"PavedDrive_N\", \"HouseStyle_1.5Fin\",\n",
    "                    \"Exterior2nd_Wd Sdng\", \"Neighborhood_SWISU\", \"Functional_Min2\", \"BsmtFinType2\",\n",
    "                    \"Functional_Maj1\", \"Neighborhood_MeadowV\", \"Exterior1st_VinylSd\", \"Exterior1st_MetalSd\",\n",
    "                    \"Exterior1st_WdShing\", \"Heating_GasA\", \"Neighborhood_Gilbert\", \"MiscVal\", \"Neighborhood_Sawyer\",\n",
    "                    \"GarageType_2Types\", \"Electrical_FuseF\", \"MiscFeature_NA\", \"Exterior2nd_Stucco\",\n",
    "                    \"BldgType_2fmCon\", \"Condition2_Feedr\", \"Foundation_Slab\", \"MiscFeature_Shed\", \"HouseStyle_SFoyer\",\n",
    "                    \"Exterior2nd_Brk Cmn\", \"Street\"]]\n",
    "\n",
    "y_train_ = y_train\n",
    "#############################################################################################################################################################"
   ],
   "metadata": {
    "execution": {
     "iopub.status.busy": "2023-02-14T23:29:53.339651Z",
     "iopub.execute_input": "2023-02-14T23:29:53.340512Z",
     "iopub.status.idle": "2023-02-14T23:29:53.366073Z",
     "shell.execute_reply.started": "2023-02-14T23:29:53.340474Z",
     "shell.execute_reply": "2023-02-14T23:29:53.364616Z"
    },
    "trusted": true
   },
   "execution_count": 300,
   "outputs": []
  },
  {
   "cell_type": "code",
   "source": [
    "# All Features for first test\n",
    "\"\"\"X_train_ = X_train\n",
    "X_test_ = X_test\n",
    "y_train_ = y_train\"\"\""
   ],
   "metadata": {
    "execution": {
     "iopub.status.busy": "2023-02-14T23:29:53.367895Z",
     "iopub.execute_input": "2023-02-14T23:29:53.368306Z",
     "iopub.status.idle": "2023-02-14T23:29:53.378417Z",
     "shell.execute_reply.started": "2023-02-14T23:29:53.368268Z",
     "shell.execute_reply": "2023-02-14T23:29:53.377240Z"
    },
    "trusted": true
   },
   "execution_count": 301,
   "outputs": [
    {
     "execution_count": 301,
     "output_type": "execute_result",
     "data": {
      "text/plain": "'X_train_ = X_train\\nX_test_ = X_test\\ny_train_ = y_train'"
     },
     "metadata": {}
    }
   ]
  },
  {
   "cell_type": "code",
   "source": [
    "X_train_ = X_train.drop([\"MoSold\"], axis=1)"
   ],
   "metadata": {
    "execution": {
     "iopub.status.busy": "2023-02-14T23:29:53.379611Z",
     "iopub.execute_input": "2023-02-14T23:29:53.379995Z",
     "iopub.status.idle": "2023-02-14T23:29:53.389175Z",
     "shell.execute_reply.started": "2023-02-14T23:29:53.379964Z",
     "shell.execute_reply": "2023-02-14T23:29:53.388307Z"
    },
    "trusted": true
   },
   "execution_count": 302,
   "outputs": []
  },
  {
   "cell_type": "markdown",
   "source": [
    "**X_train_ = X_train.drop([\"MoSold\"], axis=1)** - BEST"
   ],
   "metadata": {}
  },
  {
   "cell_type": "code",
   "source": [
    "#model = XGBRegressor()\n",
    "#model.fit(X_train, y_train)\n",
    "#scores = cross_val_score(model, X_train_, y_train_, cv=5, scoring='neg_mean_absolute_error')\n",
    "#print(\"Mean Absolute Error in Cross Validation: %0.2f (+/- %0.2f)\" % ((scores.mean()*-1), scores.std() * 2))"
   ],
   "metadata": {
    "execution": {
     "iopub.status.busy": "2023-02-14T23:29:53.390292Z",
     "iopub.execute_input": "2023-02-14T23:29:53.390918Z",
     "iopub.status.idle": "2023-02-14T23:29:59.618577Z",
     "shell.execute_reply.started": "2023-02-14T23:29:53.390886Z",
     "shell.execute_reply": "2023-02-14T23:29:59.616903Z"
    },
    "trusted": true
   },
   "execution_count": 303,
   "outputs": [
    {
     "name": "stdout",
     "text": "Mean Absolute Error in Cross Validation: 16193.38 (+/- 1258.99)\n",
     "output_type": "stream"
    }
   ]
  },
  {
   "cell_type": "code",
   "source": [
    "# Model Tuning\n",
    "#xgbr = model = XGBRegressor()\n",
    "                     \n",
    "# GRID SEARCH\n",
    "\n",
    "\"\"\"params_XGB_best = dict(n_estimators=[4500, 5000, 5250,5500],\n",
    "                  subsample=[0.55, 0.6, 0.65, 0.7],\n",
    "                  colsample_bytree=[0.55, 0.6, 0.65, 0.7],\n",
    "                  colsample_bylevel=[0.75, 0.8, 0.85, 0.9],\n",
    "                  max_depth=[3, 4, 5, 7],  \n",
    "                  learning_rate=[0.0050, 0.0051, 0.0052, 0.0053])\"\"\"\n",
    "                  \n",
    "\"\"\"params_XGB_best = dict(n_estimators=[5000],\n",
    "                  subsample=[0.6],\n",
    "                  colsample_bytree=[0.6],\n",
    "                  colsample_bylevel=[0.8],\n",
    "                  max_depth=[5], \n",
    "                  learning_rate=[0.0051])\"\"\"\n",
    "\n",
    "#params_XGB_best = dict(n_estimators=[5250],\n",
    "#                  subsample=[0.65],\n",
    "#                  colsample_bytree=[0.62],\n",
    "#                  colsample_bylevel=[0.82],\n",
    " #                 max_depth=[7], \n",
    " #                 learning_rate=[0.0051])\n",
    "\n",
    "              \n",
    "\n",
    "#grid_search_xgb = GridSearchCV(estimator=xgbr, param_grid=params_XGB_best, cv = 5,scoring='neg_mean_absolute_error').fit(X_train_, y_train_)\n",
    "#xgbr_best = grid_search_xgb.best_estimator_\n",
    "#print('xgbr_best Best Score',(grid_search_xgb.best_score_*-1))\n",
    "#print('xgbr_best Best Parmas',grid_search_xgb.best_params_)"
   ],
   "metadata": {
    "execution": {
     "iopub.status.busy": "2023-02-14T23:29:59.619876Z",
     "iopub.execute_input": "2023-02-14T23:29:59.620535Z",
     "iopub.status.idle": "2023-02-14T23:29:59.628935Z",
     "shell.execute_reply.started": "2023-02-14T23:29:59.620482Z",
     "shell.execute_reply": "2023-02-14T23:29:59.628125Z"
    },
    "trusted": true
   },
   "execution_count": 304,
   "outputs": [
    {
     "execution_count": 304,
     "output_type": "execute_result",
     "data": {
      "text/plain": "'params_XGB_best = dict(n_estimators=[5000],\\n                  subsample=[0.6],\\n                  colsample_bytree=[0.6],\\n                  colsample_bylevel=[0.8],\\n                  max_depth=[5], \\n                  learning_rate=[0.0051])'"
     },
     "metadata": {}
    }
   ]
  },
  {
   "cell_type": "code",
   "source": [
    "#best = {'colsample_bylevel': 0.8, 'colsample_bytree': 0.6, 'learning_rate': 0.0051, 'max_depth': 5, 'n_estimators': 5000, 'subsample': 0.6}"
   ],
   "metadata": {
    "execution": {
     "iopub.status.busy": "2023-02-14T23:29:59.630601Z",
     "iopub.execute_input": "2023-02-14T23:29:59.631164Z",
     "iopub.status.idle": "2023-02-14T23:29:59.644439Z",
     "shell.execute_reply.started": "2023-02-14T23:29:59.631130Z",
     "shell.execute_reply": "2023-02-14T23:29:59.643499Z"
    },
    "trusted": true
   },
   "execution_count": 305,
   "outputs": []
  },
  {
   "cell_type": "code",
   "source": [
    "#perm = PermutationImportance(XGBRegressor(**best),n_iter =10,cv=5).fit(X_train_.values, y_train_.values)\n",
    "#eli5.show_weights(perm, feature_names = X_train_.columns.tolist(),top=240)"
   ],
   "metadata": {
    "execution": {
     "iopub.status.busy": "2023-02-14T23:29:59.650712Z",
     "iopub.execute_input": "2023-02-14T23:29:59.651080Z",
     "iopub.status.idle": "2023-02-14T23:29:59.659803Z",
     "shell.execute_reply.started": "2023-02-14T23:29:59.651047Z",
     "shell.execute_reply": "2023-02-14T23:29:59.658710Z"
    },
    "trusted": true
   },
   "execution_count": 306,
   "outputs": []
  },
  {
   "cell_type": "code",
   "source": [
    "X_test_ = X_test.drop([\"MoSold\"], axis=1)"
   ],
   "metadata": {
    "execution": {
     "iopub.status.busy": "2023-02-14T23:29:59.662796Z",
     "iopub.execute_input": "2023-02-14T23:29:59.663898Z",
     "iopub.status.idle": "2023-02-14T23:29:59.673913Z",
     "shell.execute_reply.started": "2023-02-14T23:29:59.663861Z",
     "shell.execute_reply": "2023-02-14T23:29:59.672901Z"
    },
    "trusted": true
   },
   "execution_count": 307,
   "outputs": []
  },
  {
   "cell_type": "code",
   "source": [
    "\"\"\"import numpy as np\n",
    "import pandas as pd\n",
    "import keras\n",
    "from keras.models import Sequential\n",
    "from keras.layers import Dense, Dropout\n",
    "from sklearn.model_selection import train_test_split\n",
    "from keras.callbacks import EarlyStopping\n",
    "\n",
    "# Separate the SalePrice column into a target variable y_train\n",
    "y_train = y_train\n",
    "train_data = X_train_\n",
    "\n",
    "# Split the training data into train and validation sets\n",
    "train_data, val_data, y_train, y_val = train_test_split(train_data, y_train, test_size=0.2, random_state=42)\n",
    "\n",
    "# Build the model\n",
    "model = Sequential()\n",
    "model.add(Dense(64, activation='relu', input_dim=train_data.shape[1]))\n",
    "model.add(Dropout(0.5))\n",
    "model.add(Dense(32, activation='relu'))\n",
    "model.add(Dropout(0.5))\n",
    "model.add(Dense(1))\n",
    "\n",
    "# Compile the model\n",
    "model.compile(loss='mean_squared_error', optimizer='adam')\n",
    "\n",
    "# Add early stopping\n",
    "early_stopping = EarlyStopping(monitor='val_loss', patience=10, verbose=1)\n",
    "\n",
    "# Train the model\n",
    "history = model.fit(train_data, y_train, epochs=10000, batch_size=32, validation_data=(val_data, y_val),callbacks=[early_stopping])\n",
    "\n",
    "# Predict the sale prices for the test data\n",
    "pred = model.predict(X_test_)\"\"\""
   ],
   "metadata": {
    "trusted": true
   },
   "execution_count": null,
   "outputs": []
  },
  {
   "cell_type": "code",
   "source": [
    "from keras.models import Sequential\n",
    "from keras.layers import Dense, Dropout\n",
    "from keras.callbacks import EarlyStopping\n",
    "from sklearn.model_selection import GridSearchCV\n",
    "from keras.wrappers.scikit_learn import KerasRegressor\n",
    "import numpy as np\n",
    "\n",
    "\n",
    "y_train = y_train\n",
    "train_data = X_train_\n",
    "X_train = X_train_\n",
    "\n",
    "\n",
    "def create_model(learn_rate=0.01, hidden_layers=1, neurons=16, activation='relu', dropout_rate=0.2):\n",
    "    model = Sequential()\n",
    "    model.add(Dense(neurons, input_dim=X_train.shape[1], activation=activation))\n",
    "    for i in range(hidden_layers - 1):\n",
    "        model.add(Dense(neurons, activation=activation))\n",
    "        model.add(Dropout(dropout_rate))\n",
    "    model.add(Dense(1, activation='linear'))\n",
    "    model.compile(loss='mean_squared_error', optimizer='adam', metrics=['mae'])\n",
    "    return model\n",
    "\n",
    "model = KerasRegressor(build_fn=create_model,nb_epoch=100, batch_size=16)\n",
    "early_stopping = EarlyStopping(monitor='val_loss', patience=20)\n",
    "\n",
    "# hyperparameters to tune\n",
    "\"\"\"param_grid = {'learn_rate': [0.001, 0.01, 0.1, 0.2],\n",
    "              'hidden_layers': [1, 2, 3],\n",
    "              'neurons': [16, 32, 64, 128],\n",
    "              'activation': ['relu', 'tanh'],\n",
    "              'dropout_rate': [0.0, 0.2, 0.5],\n",
    "              'batch_size': [16, 32, 64, 128],\n",
    "              'epochs': [100, 200, 300]}\"\"\"\n",
    "\"\"\"param_grid = {'learn_rate': [0.001, 0.01, 0.1],\n",
    "              'hidden_layers': [1, 2, 3],\n",
    "              'neurons': [32, 64],\n",
    "              'activation': ['relu', 'tanh'],\n",
    "              'dropout_rate': [0.2, 0.5],\n",
    "              'batch_size': [32, 64],\n",
    "              'epochs': [200, 300]}\"\"\"\n",
    "\n",
    "param_grid = {'learn_rate': [0.1],\n",
    "              'hidden_layers': [3],\n",
    "              'neurons': [64],\n",
    "              'activation': ['relu'],\n",
    "              'dropout_rate': [0.2],\n",
    "              'batch_size': [32],\n",
    "              'epochs': [350]}\n",
    "\n",
    "grid = GridSearchCV(estimator=model, param_grid=param_grid, n_jobs=-1)\n",
    "grid_result = grid.fit(X_train, y_train, callbacks=[early_stopping], verbose=0)\n",
    "\n",
    "# summarize results\n",
    "print(\"Best: %f using %s\" % (grid_result.best_score_, grid_result.best_params_))\n",
    "means = grid_result.cv_results_['mean_test_score']\n",
    "stds = grid_result.cv_results_['std_test_score']\n",
    "params = grid_result.cv_results_['params']\n",
    "for mean, stdev, param in zip(means, stds, params):\n",
    "    print(\"%f (%f) with: %r\" % (mean, stdev, param))\n",
    "    \n",
    "\n"
   ],
   "metadata": {
    "execution": {
     "iopub.status.busy": "2023-02-14T23:31:22.071908Z",
     "iopub.execute_input": "2023-02-14T23:31:22.072368Z",
     "iopub.status.idle": "2023-02-14T23:32:17.094958Z",
     "shell.execute_reply.started": "2023-02-14T23:31:22.072330Z",
     "shell.execute_reply": "2023-02-14T23:32:17.093308Z"
    },
    "trusted": true
   },
   "execution_count": 309,
   "outputs": [
    {
     "name": "stderr",
     "text": "2023-02-14 23:31:26.683991: I tensorflow/core/common_runtime/process_util.cc:146] Creating new thread pool with default inter op setting: 4. Tune using inter_op_parallelism_threads for best performance.\n2023-02-14 23:31:26.724209: I tensorflow/core/common_runtime/process_util.cc:146] Creating new thread pool with default inter op setting: 4. Tune using inter_op_parallelism_threads for best performance.\n2023-02-14 23:31:26.735794: I tensorflow/core/common_runtime/process_util.cc:146] Creating new thread pool with default inter op setting: 4. Tune using inter_op_parallelism_threads for best performance.\n2023-02-14 23:31:26.766626: I tensorflow/core/common_runtime/process_util.cc:146] Creating new thread pool with default inter op setting: 4. Tune using inter_op_parallelism_threads for best performance.\n2023-02-14 23:31:27.001661: I tensorflow/compiler/mlir/mlir_graph_optimization_pass.cc:185] None of the MLIR Optimization Passes are enabled (registered 2)\n2023-02-14 23:31:27.036592: I tensorflow/compiler/mlir/mlir_graph_optimization_pass.cc:185] None of the MLIR Optimization Passes are enabled (registered 2)\n2023-02-14 23:31:27.051145: I tensorflow/compiler/mlir/mlir_graph_optimization_pass.cc:185] None of the MLIR Optimization Passes are enabled (registered 2)\n2023-02-14 23:31:27.081783: I tensorflow/compiler/mlir/mlir_graph_optimization_pass.cc:185] None of the MLIR Optimization Passes are enabled (registered 2)\n",
     "output_type": "stream"
    },
    {
     "name": "stdout",
     "text": "18/18 [==============================] - 0s 944us/step - loss: 31021234176.0000 - mae: 149141.7812\n18/18 [==============================] - 0s 2ms/step - loss: 26737475584.0000 - mae: 145086.8438\n18/18 [==============================] - 0s 2ms/step - loss: 25311805440.0000 - mae: 139861.7969\n18/18 [==============================] - 0s 2ms/step - loss: 25971703808.0000 - mae: 140602.5781\n18/18 [==============================] - 1s 3ms/step - loss: 25666879488.0000 - mae: 140828.4062\n18/18 [==============================] - 0s 2ms/step - loss: 23366428672.0000 - mae: 132594.5938\n18/18 [==============================] - 0s 2ms/step - loss: 25953257472.0000 - mae: 134308.8906\n18/18 [==============================] - 0s 2ms/step - loss: 22025578496.0000 - mae: 127226.8906\n",
     "output_type": "stream"
    },
    {
     "traceback": [
      "\u001B[0;31m---------------------------------------------------------------------------\u001B[0m",
      "\u001B[0;31mKeyboardInterrupt\u001B[0m                         Traceback (most recent call last)",
      "\u001B[0;32m/tmp/ipykernel_27/4054699106.py\u001B[0m in \u001B[0;36m<module>\u001B[0;34m\u001B[0m\n\u001B[1;32m     35\u001B[0m \u001B[0;34m\u001B[0m\u001B[0m\n\u001B[1;32m     36\u001B[0m \u001B[0mgrid\u001B[0m \u001B[0;34m=\u001B[0m \u001B[0mGridSearchCV\u001B[0m\u001B[0;34m(\u001B[0m\u001B[0mestimator\u001B[0m\u001B[0;34m=\u001B[0m\u001B[0mmodel\u001B[0m\u001B[0;34m,\u001B[0m \u001B[0mparam_grid\u001B[0m\u001B[0;34m=\u001B[0m\u001B[0mparam_grid\u001B[0m\u001B[0;34m,\u001B[0m \u001B[0mn_jobs\u001B[0m\u001B[0;34m=\u001B[0m\u001B[0;34m-\u001B[0m\u001B[0;36m1\u001B[0m\u001B[0;34m)\u001B[0m\u001B[0;34m\u001B[0m\u001B[0;34m\u001B[0m\u001B[0m\n\u001B[0;32m---> 37\u001B[0;31m \u001B[0mgrid_result\u001B[0m \u001B[0;34m=\u001B[0m \u001B[0mgrid\u001B[0m\u001B[0;34m.\u001B[0m\u001B[0mfit\u001B[0m\u001B[0;34m(\u001B[0m\u001B[0mX_train\u001B[0m\u001B[0;34m,\u001B[0m \u001B[0my_train\u001B[0m\u001B[0;34m,\u001B[0m \u001B[0mcallbacks\u001B[0m\u001B[0;34m=\u001B[0m\u001B[0;34m[\u001B[0m\u001B[0mearly_stopping\u001B[0m\u001B[0;34m]\u001B[0m\u001B[0;34m,\u001B[0m \u001B[0mverbose\u001B[0m\u001B[0;34m=\u001B[0m\u001B[0;36m0\u001B[0m\u001B[0;34m)\u001B[0m\u001B[0;34m\u001B[0m\u001B[0;34m\u001B[0m\u001B[0m\n\u001B[0m\u001B[1;32m     38\u001B[0m \u001B[0;34m\u001B[0m\u001B[0m\n\u001B[1;32m     39\u001B[0m \u001B[0;31m# summarize results\u001B[0m\u001B[0;34m\u001B[0m\u001B[0;34m\u001B[0m\u001B[0;34m\u001B[0m\u001B[0m\n",
      "\u001B[0;32m/opt/conda/lib/python3.7/site-packages/sklearn/model_selection/_search.py\u001B[0m in \u001B[0;36mfit\u001B[0;34m(self, X, y, groups, **fit_params)\u001B[0m\n\u001B[1;32m    889\u001B[0m                 \u001B[0;32mreturn\u001B[0m \u001B[0mresults\u001B[0m\u001B[0;34m\u001B[0m\u001B[0;34m\u001B[0m\u001B[0m\n\u001B[1;32m    890\u001B[0m \u001B[0;34m\u001B[0m\u001B[0m\n\u001B[0;32m--> 891\u001B[0;31m             \u001B[0mself\u001B[0m\u001B[0;34m.\u001B[0m\u001B[0m_run_search\u001B[0m\u001B[0;34m(\u001B[0m\u001B[0mevaluate_candidates\u001B[0m\u001B[0;34m)\u001B[0m\u001B[0;34m\u001B[0m\u001B[0;34m\u001B[0m\u001B[0m\n\u001B[0m\u001B[1;32m    892\u001B[0m \u001B[0;34m\u001B[0m\u001B[0m\n\u001B[1;32m    893\u001B[0m             \u001B[0;31m# multimetric is determined here because in the case of a callable\u001B[0m\u001B[0;34m\u001B[0m\u001B[0;34m\u001B[0m\u001B[0;34m\u001B[0m\u001B[0m\n",
      "\u001B[0;32m/opt/conda/lib/python3.7/site-packages/sklearn/model_selection/_search.py\u001B[0m in \u001B[0;36m_run_search\u001B[0;34m(self, evaluate_candidates)\u001B[0m\n\u001B[1;32m   1390\u001B[0m     \u001B[0;32mdef\u001B[0m \u001B[0m_run_search\u001B[0m\u001B[0;34m(\u001B[0m\u001B[0mself\u001B[0m\u001B[0;34m,\u001B[0m \u001B[0mevaluate_candidates\u001B[0m\u001B[0;34m)\u001B[0m\u001B[0;34m:\u001B[0m\u001B[0;34m\u001B[0m\u001B[0;34m\u001B[0m\u001B[0m\n\u001B[1;32m   1391\u001B[0m         \u001B[0;34m\"\"\"Search all candidates in param_grid\"\"\"\u001B[0m\u001B[0;34m\u001B[0m\u001B[0;34m\u001B[0m\u001B[0m\n\u001B[0;32m-> 1392\u001B[0;31m         \u001B[0mevaluate_candidates\u001B[0m\u001B[0;34m(\u001B[0m\u001B[0mParameterGrid\u001B[0m\u001B[0;34m(\u001B[0m\u001B[0mself\u001B[0m\u001B[0;34m.\u001B[0m\u001B[0mparam_grid\u001B[0m\u001B[0;34m)\u001B[0m\u001B[0;34m)\u001B[0m\u001B[0;34m\u001B[0m\u001B[0;34m\u001B[0m\u001B[0m\n\u001B[0m\u001B[1;32m   1393\u001B[0m \u001B[0;34m\u001B[0m\u001B[0m\n\u001B[1;32m   1394\u001B[0m \u001B[0;34m\u001B[0m\u001B[0m\n",
      "\u001B[0;32m/opt/conda/lib/python3.7/site-packages/sklearn/model_selection/_search.py\u001B[0m in \u001B[0;36mevaluate_candidates\u001B[0;34m(candidate_params, cv, more_results)\u001B[0m\n\u001B[1;32m    849\u001B[0m                     )\n\u001B[1;32m    850\u001B[0m                     for (cand_idx, parameters), (split_idx, (train, test)) in product(\n\u001B[0;32m--> 851\u001B[0;31m                         \u001B[0menumerate\u001B[0m\u001B[0;34m(\u001B[0m\u001B[0mcandidate_params\u001B[0m\u001B[0;34m)\u001B[0m\u001B[0;34m,\u001B[0m \u001B[0menumerate\u001B[0m\u001B[0;34m(\u001B[0m\u001B[0mcv\u001B[0m\u001B[0;34m.\u001B[0m\u001B[0msplit\u001B[0m\u001B[0;34m(\u001B[0m\u001B[0mX\u001B[0m\u001B[0;34m,\u001B[0m \u001B[0my\u001B[0m\u001B[0;34m,\u001B[0m \u001B[0mgroups\u001B[0m\u001B[0;34m)\u001B[0m\u001B[0;34m)\u001B[0m\u001B[0;34m\u001B[0m\u001B[0;34m\u001B[0m\u001B[0m\n\u001B[0m\u001B[1;32m    852\u001B[0m                     )\n\u001B[1;32m    853\u001B[0m                 )\n",
      "\u001B[0;32m/opt/conda/lib/python3.7/site-packages/joblib/parallel.py\u001B[0m in \u001B[0;36m__call__\u001B[0;34m(self, iterable)\u001B[0m\n\u001B[1;32m   1052\u001B[0m \u001B[0;34m\u001B[0m\u001B[0m\n\u001B[1;32m   1053\u001B[0m             \u001B[0;32mwith\u001B[0m \u001B[0mself\u001B[0m\u001B[0;34m.\u001B[0m\u001B[0m_backend\u001B[0m\u001B[0;34m.\u001B[0m\u001B[0mretrieval_context\u001B[0m\u001B[0;34m(\u001B[0m\u001B[0;34m)\u001B[0m\u001B[0;34m:\u001B[0m\u001B[0;34m\u001B[0m\u001B[0;34m\u001B[0m\u001B[0m\n\u001B[0;32m-> 1054\u001B[0;31m                 \u001B[0mself\u001B[0m\u001B[0;34m.\u001B[0m\u001B[0mretrieve\u001B[0m\u001B[0;34m(\u001B[0m\u001B[0;34m)\u001B[0m\u001B[0;34m\u001B[0m\u001B[0;34m\u001B[0m\u001B[0m\n\u001B[0m\u001B[1;32m   1055\u001B[0m             \u001B[0;31m# Make sure that we get a last message telling us we are done\u001B[0m\u001B[0;34m\u001B[0m\u001B[0;34m\u001B[0m\u001B[0;34m\u001B[0m\u001B[0m\n\u001B[1;32m   1056\u001B[0m             \u001B[0melapsed_time\u001B[0m \u001B[0;34m=\u001B[0m \u001B[0mtime\u001B[0m\u001B[0;34m.\u001B[0m\u001B[0mtime\u001B[0m\u001B[0;34m(\u001B[0m\u001B[0;34m)\u001B[0m \u001B[0;34m-\u001B[0m \u001B[0mself\u001B[0m\u001B[0;34m.\u001B[0m\u001B[0m_start_time\u001B[0m\u001B[0;34m\u001B[0m\u001B[0;34m\u001B[0m\u001B[0m\n",
      "\u001B[0;32m/opt/conda/lib/python3.7/site-packages/joblib/parallel.py\u001B[0m in \u001B[0;36mretrieve\u001B[0;34m(self)\u001B[0m\n\u001B[1;32m    931\u001B[0m             \u001B[0;32mtry\u001B[0m\u001B[0;34m:\u001B[0m\u001B[0;34m\u001B[0m\u001B[0;34m\u001B[0m\u001B[0m\n\u001B[1;32m    932\u001B[0m                 \u001B[0;32mif\u001B[0m \u001B[0mgetattr\u001B[0m\u001B[0;34m(\u001B[0m\u001B[0mself\u001B[0m\u001B[0;34m.\u001B[0m\u001B[0m_backend\u001B[0m\u001B[0;34m,\u001B[0m \u001B[0;34m'supports_timeout'\u001B[0m\u001B[0;34m,\u001B[0m \u001B[0;32mFalse\u001B[0m\u001B[0;34m)\u001B[0m\u001B[0;34m:\u001B[0m\u001B[0;34m\u001B[0m\u001B[0;34m\u001B[0m\u001B[0m\n\u001B[0;32m--> 933\u001B[0;31m                     \u001B[0mself\u001B[0m\u001B[0;34m.\u001B[0m\u001B[0m_output\u001B[0m\u001B[0;34m.\u001B[0m\u001B[0mextend\u001B[0m\u001B[0;34m(\u001B[0m\u001B[0mjob\u001B[0m\u001B[0;34m.\u001B[0m\u001B[0mget\u001B[0m\u001B[0;34m(\u001B[0m\u001B[0mtimeout\u001B[0m\u001B[0;34m=\u001B[0m\u001B[0mself\u001B[0m\u001B[0;34m.\u001B[0m\u001B[0mtimeout\u001B[0m\u001B[0;34m)\u001B[0m\u001B[0;34m)\u001B[0m\u001B[0;34m\u001B[0m\u001B[0;34m\u001B[0m\u001B[0m\n\u001B[0m\u001B[1;32m    934\u001B[0m                 \u001B[0;32melse\u001B[0m\u001B[0;34m:\u001B[0m\u001B[0;34m\u001B[0m\u001B[0;34m\u001B[0m\u001B[0m\n\u001B[1;32m    935\u001B[0m                     \u001B[0mself\u001B[0m\u001B[0;34m.\u001B[0m\u001B[0m_output\u001B[0m\u001B[0;34m.\u001B[0m\u001B[0mextend\u001B[0m\u001B[0;34m(\u001B[0m\u001B[0mjob\u001B[0m\u001B[0;34m.\u001B[0m\u001B[0mget\u001B[0m\u001B[0;34m(\u001B[0m\u001B[0;34m)\u001B[0m\u001B[0;34m)\u001B[0m\u001B[0;34m\u001B[0m\u001B[0;34m\u001B[0m\u001B[0m\n",
      "\u001B[0;32m/opt/conda/lib/python3.7/site-packages/joblib/_parallel_backends.py\u001B[0m in \u001B[0;36mwrap_future_result\u001B[0;34m(future, timeout)\u001B[0m\n\u001B[1;32m    540\u001B[0m         AsyncResults.get from multiprocessing.\"\"\"\n\u001B[1;32m    541\u001B[0m         \u001B[0;32mtry\u001B[0m\u001B[0;34m:\u001B[0m\u001B[0;34m\u001B[0m\u001B[0;34m\u001B[0m\u001B[0m\n\u001B[0;32m--> 542\u001B[0;31m             \u001B[0;32mreturn\u001B[0m \u001B[0mfuture\u001B[0m\u001B[0;34m.\u001B[0m\u001B[0mresult\u001B[0m\u001B[0;34m(\u001B[0m\u001B[0mtimeout\u001B[0m\u001B[0;34m=\u001B[0m\u001B[0mtimeout\u001B[0m\u001B[0;34m)\u001B[0m\u001B[0;34m\u001B[0m\u001B[0;34m\u001B[0m\u001B[0m\n\u001B[0m\u001B[1;32m    543\u001B[0m         \u001B[0;32mexcept\u001B[0m \u001B[0mCfTimeoutError\u001B[0m \u001B[0;32mas\u001B[0m \u001B[0me\u001B[0m\u001B[0;34m:\u001B[0m\u001B[0;34m\u001B[0m\u001B[0;34m\u001B[0m\u001B[0m\n\u001B[1;32m    544\u001B[0m             \u001B[0;32mraise\u001B[0m \u001B[0mTimeoutError\u001B[0m \u001B[0;32mfrom\u001B[0m \u001B[0me\u001B[0m\u001B[0;34m\u001B[0m\u001B[0;34m\u001B[0m\u001B[0m\n",
      "\u001B[0;32m/opt/conda/lib/python3.7/concurrent/futures/_base.py\u001B[0m in \u001B[0;36mresult\u001B[0;34m(self, timeout)\u001B[0m\n\u001B[1;32m    428\u001B[0m                 \u001B[0;32mreturn\u001B[0m \u001B[0mself\u001B[0m\u001B[0;34m.\u001B[0m\u001B[0m__get_result\u001B[0m\u001B[0;34m(\u001B[0m\u001B[0;34m)\u001B[0m\u001B[0;34m\u001B[0m\u001B[0;34m\u001B[0m\u001B[0m\n\u001B[1;32m    429\u001B[0m \u001B[0;34m\u001B[0m\u001B[0m\n\u001B[0;32m--> 430\u001B[0;31m             \u001B[0mself\u001B[0m\u001B[0;34m.\u001B[0m\u001B[0m_condition\u001B[0m\u001B[0;34m.\u001B[0m\u001B[0mwait\u001B[0m\u001B[0;34m(\u001B[0m\u001B[0mtimeout\u001B[0m\u001B[0;34m)\u001B[0m\u001B[0;34m\u001B[0m\u001B[0;34m\u001B[0m\u001B[0m\n\u001B[0m\u001B[1;32m    431\u001B[0m \u001B[0;34m\u001B[0m\u001B[0m\n\u001B[1;32m    432\u001B[0m             \u001B[0;32mif\u001B[0m \u001B[0mself\u001B[0m\u001B[0;34m.\u001B[0m\u001B[0m_state\u001B[0m \u001B[0;32min\u001B[0m \u001B[0;34m[\u001B[0m\u001B[0mCANCELLED\u001B[0m\u001B[0;34m,\u001B[0m \u001B[0mCANCELLED_AND_NOTIFIED\u001B[0m\u001B[0;34m]\u001B[0m\u001B[0;34m:\u001B[0m\u001B[0;34m\u001B[0m\u001B[0;34m\u001B[0m\u001B[0m\n",
      "\u001B[0;32m/opt/conda/lib/python3.7/threading.py\u001B[0m in \u001B[0;36mwait\u001B[0;34m(self, timeout)\u001B[0m\n\u001B[1;32m    294\u001B[0m         \u001B[0;32mtry\u001B[0m\u001B[0;34m:\u001B[0m    \u001B[0;31m# restore state no matter what (e.g., KeyboardInterrupt)\u001B[0m\u001B[0;34m\u001B[0m\u001B[0;34m\u001B[0m\u001B[0m\n\u001B[1;32m    295\u001B[0m             \u001B[0;32mif\u001B[0m \u001B[0mtimeout\u001B[0m \u001B[0;32mis\u001B[0m \u001B[0;32mNone\u001B[0m\u001B[0;34m:\u001B[0m\u001B[0;34m\u001B[0m\u001B[0;34m\u001B[0m\u001B[0m\n\u001B[0;32m--> 296\u001B[0;31m                 \u001B[0mwaiter\u001B[0m\u001B[0;34m.\u001B[0m\u001B[0macquire\u001B[0m\u001B[0;34m(\u001B[0m\u001B[0;34m)\u001B[0m\u001B[0;34m\u001B[0m\u001B[0;34m\u001B[0m\u001B[0m\n\u001B[0m\u001B[1;32m    297\u001B[0m                 \u001B[0mgotit\u001B[0m \u001B[0;34m=\u001B[0m \u001B[0;32mTrue\u001B[0m\u001B[0;34m\u001B[0m\u001B[0;34m\u001B[0m\u001B[0m\n\u001B[1;32m    298\u001B[0m             \u001B[0;32melse\u001B[0m\u001B[0;34m:\u001B[0m\u001B[0;34m\u001B[0m\u001B[0;34m\u001B[0m\u001B[0m\n",
      "\u001B[0;31mKeyboardInterrupt\u001B[0m: "
     ],
     "ename": "KeyboardInterrupt",
     "evalue": "",
     "output_type": "error"
    }
   ]
  },
  {
   "cell_type": "code",
   "source": [
    " pred = grid.predict(X_test_)"
   ],
   "metadata": {},
   "execution_count": null,
   "outputs": []
  },
  {
   "cell_type": "code",
   "source": [
    "\"\"\"with open(\"results.txt\", \"w\") as file:\n",
    "    file.write(\"Best: %f using %s\" % (grid_result.best_score_, grid_result.best_params_))\n",
    "    file.write(str(grid_result.cv_results_['mean_test_score']))\n",
    "    file.write(str(grid_result.cv_results_['std_test_score']))\n",
    "    file.write(str(grid_result.cv_results_['params']))\n",
    "    for mean, stdev, param in zip(means, stds, params):\n",
    "        file.write(\"%f (%f) with: %r\" % (mean, stdev, param))\"\"\"\n",
    "    "
   ],
   "metadata": {},
   "execution_count": null,
   "outputs": []
  },
  {
   "cell_type": "code",
   "source": [
    "#pred = grid_search_xgb.predict(X_test_)"
   ],
   "metadata": {
    "trusted": true
   },
   "execution_count": null,
   "outputs": []
  },
  {
   "cell_type": "code",
   "source": [
    "#output = pd.DataFrame({\"Id\": X_test_.index,\"SalePrice\":pred})\n",
    "#output.to_csv(\"submissions.csv\", index=False)"
   ],
   "metadata": {
    "trusted": true
   },
   "execution_count": null,
   "outputs": []
  },
  {
   "cell_type": "code",
   "source": [
    "sample = pd.read_csv(\"/kaggle/input/home-data-for-ml-course/sample_submission.csv\")\n",
    "sample[\"SalePrice\"] = pred\n",
    "sample.to_csv('submission.csv', index=False, sep=\",\")"
   ],
   "metadata": {
    "trusted": true
   },
   "execution_count": null,
   "outputs": []
  },
  {
   "cell_type": "code",
   "source": [],
   "metadata": {},
   "execution_count": null,
   "outputs": []
  }
 ]
}
