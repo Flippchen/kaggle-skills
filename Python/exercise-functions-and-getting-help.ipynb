{
 "metadata": {
  "kernelspec": {
   "language": "python",
   "display_name": "Python 3",
   "name": "python3"
  },
  "language_info": {
   "pygments_lexer": "ipython3",
   "nbconvert_exporter": "python",
   "version": "3.6.4",
   "file_extension": ".py",
   "codemirror_mode": {
    "name": "ipython",
    "version": 3
   },
   "name": "python",
   "mimetype": "text/x-python"
  }
 },
 "nbformat_minor": 4,
 "nbformat": 4,
 "cells": [
  {
   "cell_type": "markdown",
   "source": [
    "**This notebook is an exercise in the [Python](https://www.kaggle.com/learn/python) course.  You can reference the tutorial at [this link](https://www.kaggle.com/colinmorris/functions-and-getting-help).**\n",
    "\n",
    "---\n"
   ],
   "metadata": {}
  },
  {
   "cell_type": "markdown",
   "source": [
    "Functions are powerful. Try writing some yourself.\n",
    "\n",
    "As before, don't forget to run the setup code below before jumping into question 1."
   ],
   "metadata": {}
  },
  {
   "cell_type": "code",
   "source": [
    "# SETUP. You don't need to worry for now about what this code does or how it works.\n",
    "from learntools.core import binder; binder.bind(globals())\n",
    "from learntools.python.ex2 import *\n",
    "print('Setup complete.')"
   ],
   "metadata": {
    "_kg_hide-input": true,
    "_kg_hide-output": true,
    "execution": {
     "iopub.status.busy": "2023-02-05T19:38:23.766455Z",
     "iopub.execute_input": "2023-02-05T19:38:23.766939Z",
     "iopub.status.idle": "2023-02-05T19:38:23.832161Z",
     "shell.execute_reply.started": "2023-02-05T19:38:23.766855Z",
     "shell.execute_reply": "2023-02-05T19:38:23.830697Z"
    },
    "trusted": true
   },
   "execution_count": null,
   "outputs": []
  },
  {
   "cell_type": "markdown",
   "source": [
    "# 1.\n",
    "\n",
    "Complete the body of the following function according to its docstring.\n",
    "\n",
    "HINT: Python has a built-in function `round`."
   ],
   "metadata": {}
  },
  {
   "cell_type": "code",
   "source": [
    "def round_to_two_places(num):\n",
    "    \"\"\"Return the given number rounded to two decimal places. \n",
    "    \n",
    "    >>> round_to_two_places(3.14159)\n",
    "    3.14\n",
    "    \"\"\"\n",
    "    # Replace this body with your own code.\n",
    "    # (\"pass\" is a keyword that does literally nothing. We used it as a placeholder\n",
    "    # because after we begin a code block, Python requires at least one line of code)\n",
    "    return round(num, 2)\n",
    "\n",
    "# Check your answer\n",
    "q1.check()"
   ],
   "metadata": {
    "execution": {
     "iopub.status.busy": "2023-02-05T19:39:28.977794Z",
     "iopub.execute_input": "2023-02-05T19:39:28.978210Z",
     "iopub.status.idle": "2023-02-05T19:39:28.989895Z",
     "shell.execute_reply.started": "2023-02-05T19:39:28.978180Z",
     "shell.execute_reply": "2023-02-05T19:39:28.988897Z"
    },
    "trusted": true
   },
   "execution_count": null,
   "outputs": []
  },
  {
   "cell_type": "code",
   "source": [
    "# Uncomment the following for a hint\n",
    "#q1.hint()\n",
    "# Or uncomment the following to peek at the solution\n",
    "#q1.solution()"
   ],
   "metadata": {},
   "execution_count": null,
   "outputs": []
  },
  {
   "cell_type": "markdown",
   "source": [
    "# 2.\n",
    "The help for `round` says that `ndigits` (the second argument) may be negative.\n",
    "What do you think will happen when it is? Try some examples in the following cell."
   ],
   "metadata": {}
  },
  {
   "cell_type": "code",
   "source": [
    "round(-5.324324, -1)"
   ],
   "metadata": {
    "execution": {
     "iopub.status.busy": "2023-02-05T19:40:29.929646Z",
     "iopub.execute_input": "2023-02-05T19:40:29.930442Z",
     "iopub.status.idle": "2023-02-05T19:40:29.938066Z",
     "shell.execute_reply.started": "2023-02-05T19:40:29.930406Z",
     "shell.execute_reply": "2023-02-05T19:40:29.937081Z"
    },
    "trusted": true
   },
   "execution_count": null,
   "outputs": []
  },
  {
   "cell_type": "markdown",
   "source": [
    "Can you think of a case where this would be useful?  Once you're ready, run the code cell below to see the answer and to receive credit for completing the problem."
   ],
   "metadata": {}
  },
  {
   "cell_type": "code",
   "source": [
    "# Check your answer (Run this code cell to receive credit!)\n",
    "q2.solution()"
   ],
   "metadata": {
    "execution": {
     "iopub.status.busy": "2023-02-05T19:40:34.135214Z",
     "iopub.execute_input": "2023-02-05T19:40:34.135592Z",
     "iopub.status.idle": "2023-02-05T19:40:34.144676Z",
     "shell.execute_reply.started": "2023-02-05T19:40:34.135563Z",
     "shell.execute_reply": "2023-02-05T19:40:34.143440Z"
    },
    "trusted": true
   },
   "execution_count": null,
   "outputs": []
  },
  {
   "cell_type": "markdown",
   "source": [
    "# 3.\n",
    "\n",
    "In the previous exercise, the candy-sharing friends Alice, Bob and Carol tried to split candies evenly. For the sake of their friendship, any candies left over would be smashed. For example, if they collectively bring home 91 candies, they'll take 30 each and smash 1.\n",
    "\n",
    "Below is a simple function that will calculate the number of candies to smash for *any* number of total candies.\n",
    "\n",
    "Modify it so that it optionally takes a second argument representing the number of friends the candies are being split between. If no second argument is provided, it should assume 3 friends, as before.\n",
    "\n",
    "Update the docstring to reflect this new behaviour."
   ],
   "metadata": {}
  },
  {
   "cell_type": "code",
   "source": [
    "def to_smash(total_candies, num_friends=3):\n",
    "    \"\"\"Return the number of leftover candies that must be smashed after distributing\n",
    "    the given number of candies evenly between 3 friends.\n",
    "    \n",
    "    >>> to_smash(91)\n",
    "    1\n",
    "    \"\"\"\n",
    "    return total_candies % num_friends\n",
    "\n",
    "# Check your answer\n",
    "q3.check()"
   ],
   "metadata": {
    "execution": {
     "iopub.status.busy": "2023-02-05T19:41:49.344766Z",
     "iopub.execute_input": "2023-02-05T19:41:49.345842Z",
     "iopub.status.idle": "2023-02-05T19:41:49.353782Z",
     "shell.execute_reply.started": "2023-02-05T19:41:49.345800Z",
     "shell.execute_reply": "2023-02-05T19:41:49.352966Z"
    },
    "trusted": true
   },
   "execution_count": null,
   "outputs": []
  },
  {
   "cell_type": "code",
   "source": [
    "#q3.hint()"
   ],
   "metadata": {},
   "execution_count": null,
   "outputs": []
  },
  {
   "cell_type": "code",
   "source": [
    "#q3.solution()"
   ],
   "metadata": {},
   "execution_count": null,
   "outputs": []
  },
  {
   "cell_type": "markdown",
   "source": [
    "# 4. (Optional)\n",
    "\n",
    "It may not be fun, but reading and understanding error messages will be an important part of your Python career.\n",
    "\n",
    "Each code cell below contains some commented buggy code. For each cell...\n",
    "\n",
    "1. Read the code and predict what you think will happen when it's run.\n",
    "2. Then uncomment the code and run it to see what happens. (**Tip**: In the kernel editor, you can highlight several lines and press `ctrl`+`/` to toggle commenting.)\n",
    "3. Fix the code (so that it accomplishes its intended purpose without throwing an exception)\n",
    "\n",
    "<!-- TODO: should this be autochecked? Delta is probably pretty small. -->"
   ],
   "metadata": {}
  },
  {
   "cell_type": "code",
   "source": [
    "round_to_two_places(9.9999)"
   ],
   "metadata": {
    "execution": {
     "iopub.status.busy": "2023-02-05T19:43:10.991462Z",
     "iopub.execute_input": "2023-02-05T19:43:10.991859Z",
     "iopub.status.idle": "2023-02-05T19:43:10.997619Z",
     "shell.execute_reply.started": "2023-02-05T19:43:10.991827Z",
     "shell.execute_reply": "2023-02-05T19:43:10.996907Z"
    },
    "trusted": true
   },
   "execution_count": null,
   "outputs": []
  },
  {
   "cell_type": "markdown",
   "source": [],
   "metadata": {}
  },
  {
   "cell_type": "markdown",
   "source": [],
   "metadata": {}
  },
  {
   "cell_type": "code",
   "source": [
    " x = -10\n",
    " y = 5\n",
    "# # Which of the two variables above has the smallest absolute value?\n",
    "smallest_abs = min(abs(x),abs( y))\n",
    "smallest_abs"
   ],
   "metadata": {
    "execution": {
     "iopub.status.busy": "2023-02-05T19:45:00.904329Z",
     "iopub.execute_input": "2023-02-05T19:45:00.904714Z",
     "iopub.status.idle": "2023-02-05T19:45:00.911337Z",
     "shell.execute_reply.started": "2023-02-05T19:45:00.904680Z",
     "shell.execute_reply": "2023-02-05T19:45:00.910559Z"
    },
    "trusted": true
   },
   "execution_count": null,
   "outputs": []
  },
  {
   "cell_type": "code",
   "source": [
    " def f(x):\n",
    "     y = abs(x)\n",
    "     return y\n",
    "\n",
    " print(f(5))"
   ],
   "metadata": {
    "execution": {
     "iopub.status.busy": "2023-02-05T19:45:38.025488Z",
     "iopub.execute_input": "2023-02-05T19:45:38.025905Z",
     "iopub.status.idle": "2023-02-05T19:45:38.031926Z",
     "shell.execute_reply.started": "2023-02-05T19:45:38.025865Z",
     "shell.execute_reply": "2023-02-05T19:45:38.030645Z"
    },
    "trusted": true
   },
   "execution_count": null,
   "outputs": []
  },
  {
   "cell_type": "markdown",
   "source": [
    "# Keep Going\n",
    "\n",
    "Nice job with the code. Next up, you'll learn about *conditionals*, which you'll need to **[write interesting programs](https://www.kaggle.com/colinmorris/booleans-and-conditionals)**. "
   ],
   "metadata": {}
  },
  {
   "cell_type": "markdown",
   "source": [
    "---\n",
    "\n",
    "\n",
    "\n",
    "\n",
    "*Have questions or comments? Visit the [course discussion forum](https://www.kaggle.com/learn/python/discussion) to chat with other learners.*"
   ],
   "metadata": {}
  }
 ]
}
